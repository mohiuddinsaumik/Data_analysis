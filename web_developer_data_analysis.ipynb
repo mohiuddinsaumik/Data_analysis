{
  "nbformat": 4,
  "nbformat_minor": 0,
  "metadata": {
    "colab": {
      "provenance": []
    },
    "kernelspec": {
      "name": "python3",
      "display_name": "Python 3"
    },
    "language_info": {
      "name": "python"
    },
    "accelerator": "TPU",
    "gpuClass": "standard"
  },
  "cells": [
    {
      "cell_type": "code",
      "source": [
        "import pandas as pd"
      ],
      "metadata": {
        "id": "jzNIoiiht6y1"
      },
      "execution_count": null,
      "outputs": []
    },
    {
      "cell_type": "code",
      "source": [
        "from google.colab import drive\n",
        "drive.mount('/content/drive')"
      ],
      "metadata": {
        "colab": {
          "base_uri": "https://localhost:8080/"
        },
        "id": "Ky5cXxYztrtX",
        "outputId": "c85c84bd-07a4-43a2-ebdb-a523a8fd2b1c"
      },
      "execution_count": null,
      "outputs": [
        {
          "output_type": "stream",
          "name": "stdout",
          "text": [
            "Drive already mounted at /content/drive; to attempt to forcibly remount, call drive.mount(\"/content/drive\", force_remount=True).\n"
          ]
        }
      ]
    },
    {
      "cell_type": "code",
      "source": [
        "path = \"/content/drive/MyDrive/CSV23/survey_results_public[1].csv\"\n",
        "survey_raw_df = pd.read_csv(path)"
      ],
      "metadata": {
        "id": "nZUxKn87txfz"
      },
      "execution_count": null,
      "outputs": []
    },
    {
      "cell_type": "code",
      "source": [
        "survey_raw_df"
      ],
      "metadata": {
        "colab": {
          "base_uri": "https://localhost:8080/",
          "height": 956
        },
        "id": "aMXRsRUJtek_",
        "outputId": "6d6f7475-c033-4ef3-a987-e82b43c4ddc0"
      },
      "execution_count": null,
      "outputs": [
        {
          "output_type": "execute_result",
          "data": {
            "text/plain": [
              "       Respondent                                         MainBranch Hobbyist  \\\n",
              "0               1                     I am a developer by profession      Yes   \n",
              "1               2                     I am a developer by profession       No   \n",
              "2               3                        I code primarily as a hobby      Yes   \n",
              "3               4                     I am a developer by profession      Yes   \n",
              "4               5  I used to be a developer by profession, but no...      Yes   \n",
              "...           ...                                                ...      ...   \n",
              "64456       64858                                                NaN      Yes   \n",
              "64457       64867                                                NaN      Yes   \n",
              "64458       64898                                                NaN      Yes   \n",
              "64459       64925                                                NaN      Yes   \n",
              "64460       65112                                                NaN      Yes   \n",
              "\n",
              "        Age Age1stCode CompFreq  CompTotal  ConvertedComp             Country  \\\n",
              "0       NaN         13  Monthly        NaN            NaN             Germany   \n",
              "1       NaN         19      NaN        NaN            NaN      United Kingdom   \n",
              "2       NaN         15      NaN        NaN            NaN  Russian Federation   \n",
              "3      25.0         18      NaN        NaN            NaN             Albania   \n",
              "4      31.0         16      NaN        NaN            NaN       United States   \n",
              "...     ...        ...      ...        ...            ...                 ...   \n",
              "64456   NaN         16      NaN        NaN            NaN       United States   \n",
              "64457   NaN        NaN      NaN        NaN            NaN             Morocco   \n",
              "64458   NaN        NaN      NaN        NaN            NaN            Viet Nam   \n",
              "64459   NaN        NaN      NaN        NaN            NaN              Poland   \n",
              "64460   NaN        NaN      NaN        NaN            NaN               Spain   \n",
              "\n",
              "         CurrencyDesc  ...                  SurveyEase           SurveyLength  \\\n",
              "0       European Euro  ...  Neither easy nor difficult  Appropriate in length   \n",
              "1      Pound sterling  ...                         NaN                    NaN   \n",
              "2                 NaN  ...  Neither easy nor difficult  Appropriate in length   \n",
              "3        Albanian lek  ...                         NaN                    NaN   \n",
              "4                 NaN  ...                        Easy              Too short   \n",
              "...               ...  ...                         ...                    ...   \n",
              "64456             NaN  ...                         NaN                    NaN   \n",
              "64457             NaN  ...                         NaN                    NaN   \n",
              "64458             NaN  ...                         NaN                    NaN   \n",
              "64459             NaN  ...                         NaN                    NaN   \n",
              "64460             NaN  ...                         NaN                    NaN   \n",
              "\n",
              "      Trans                                     UndergradMajor  \\\n",
              "0        No  Computer science, computer engineering, or sof...   \n",
              "1       NaN  Computer science, computer engineering, or sof...   \n",
              "2       NaN                                                NaN   \n",
              "3        No  Computer science, computer engineering, or sof...   \n",
              "4        No  Computer science, computer engineering, or sof...   \n",
              "...     ...                                                ...   \n",
              "64456   NaN  Computer science, computer engineering, or sof...   \n",
              "64457   NaN                                                NaN   \n",
              "64458   NaN                                                NaN   \n",
              "64459   NaN                                                NaN   \n",
              "64460   NaN  Computer science, computer engineering, or sof...   \n",
              "\n",
              "            WebframeDesireNextYear                      WebframeWorkedWith  \\\n",
              "0                     ASP.NET Core                    ASP.NET;ASP.NET Core   \n",
              "1                              NaN                                     NaN   \n",
              "2                              NaN                                     NaN   \n",
              "3                              NaN                                     NaN   \n",
              "4             Django;Ruby on Rails                           Ruby on Rails   \n",
              "...                            ...                                     ...   \n",
              "64456                          NaN                                     NaN   \n",
              "64457                          NaN                                     NaN   \n",
              "64458                          NaN                                     NaN   \n",
              "64459  Angular;Angular.js;React.js                                     NaN   \n",
              "64460          ASP.NET Core;jQuery  Angular;Angular.js;ASP.NET Core;jQuery   \n",
              "\n",
              "                                  WelcomeChange WorkWeekHrs YearsCode  \\\n",
              "0       Just as welcome now as I felt last year        50.0        36   \n",
              "1      Somewhat more welcome now than last year         NaN         7   \n",
              "2      Somewhat more welcome now than last year         NaN         4   \n",
              "3      Somewhat less welcome now than last year        40.0         7   \n",
              "4       Just as welcome now as I felt last year         NaN        15   \n",
              "...                                         ...         ...       ...   \n",
              "64456                                       NaN         NaN        10   \n",
              "64457                                       NaN         NaN       NaN   \n",
              "64458                                       NaN         NaN       NaN   \n",
              "64459                                       NaN         NaN       NaN   \n",
              "64460                                       NaN         NaN       NaN   \n",
              "\n",
              "           YearsCodePro  \n",
              "0                    27  \n",
              "1                     4  \n",
              "2                   NaN  \n",
              "3                     4  \n",
              "4                     8  \n",
              "...                 ...  \n",
              "64456  Less than 1 year  \n",
              "64457               NaN  \n",
              "64458               NaN  \n",
              "64459               NaN  \n",
              "64460               NaN  \n",
              "\n",
              "[64461 rows x 61 columns]"
            ],
            "text/html": [
              "\n",
              "  <div id=\"df-f4d42905-d62b-4928-af50-70154c5e2fed\">\n",
              "    <div class=\"colab-df-container\">\n",
              "      <div>\n",
              "<style scoped>\n",
              "    .dataframe tbody tr th:only-of-type {\n",
              "        vertical-align: middle;\n",
              "    }\n",
              "\n",
              "    .dataframe tbody tr th {\n",
              "        vertical-align: top;\n",
              "    }\n",
              "\n",
              "    .dataframe thead th {\n",
              "        text-align: right;\n",
              "    }\n",
              "</style>\n",
              "<table border=\"1\" class=\"dataframe\">\n",
              "  <thead>\n",
              "    <tr style=\"text-align: right;\">\n",
              "      <th></th>\n",
              "      <th>Respondent</th>\n",
              "      <th>MainBranch</th>\n",
              "      <th>Hobbyist</th>\n",
              "      <th>Age</th>\n",
              "      <th>Age1stCode</th>\n",
              "      <th>CompFreq</th>\n",
              "      <th>CompTotal</th>\n",
              "      <th>ConvertedComp</th>\n",
              "      <th>Country</th>\n",
              "      <th>CurrencyDesc</th>\n",
              "      <th>...</th>\n",
              "      <th>SurveyEase</th>\n",
              "      <th>SurveyLength</th>\n",
              "      <th>Trans</th>\n",
              "      <th>UndergradMajor</th>\n",
              "      <th>WebframeDesireNextYear</th>\n",
              "      <th>WebframeWorkedWith</th>\n",
              "      <th>WelcomeChange</th>\n",
              "      <th>WorkWeekHrs</th>\n",
              "      <th>YearsCode</th>\n",
              "      <th>YearsCodePro</th>\n",
              "    </tr>\n",
              "  </thead>\n",
              "  <tbody>\n",
              "    <tr>\n",
              "      <th>0</th>\n",
              "      <td>1</td>\n",
              "      <td>I am a developer by profession</td>\n",
              "      <td>Yes</td>\n",
              "      <td>NaN</td>\n",
              "      <td>13</td>\n",
              "      <td>Monthly</td>\n",
              "      <td>NaN</td>\n",
              "      <td>NaN</td>\n",
              "      <td>Germany</td>\n",
              "      <td>European Euro</td>\n",
              "      <td>...</td>\n",
              "      <td>Neither easy nor difficult</td>\n",
              "      <td>Appropriate in length</td>\n",
              "      <td>No</td>\n",
              "      <td>Computer science, computer engineering, or sof...</td>\n",
              "      <td>ASP.NET Core</td>\n",
              "      <td>ASP.NET;ASP.NET Core</td>\n",
              "      <td>Just as welcome now as I felt last year</td>\n",
              "      <td>50.0</td>\n",
              "      <td>36</td>\n",
              "      <td>27</td>\n",
              "    </tr>\n",
              "    <tr>\n",
              "      <th>1</th>\n",
              "      <td>2</td>\n",
              "      <td>I am a developer by profession</td>\n",
              "      <td>No</td>\n",
              "      <td>NaN</td>\n",
              "      <td>19</td>\n",
              "      <td>NaN</td>\n",
              "      <td>NaN</td>\n",
              "      <td>NaN</td>\n",
              "      <td>United Kingdom</td>\n",
              "      <td>Pound sterling</td>\n",
              "      <td>...</td>\n",
              "      <td>NaN</td>\n",
              "      <td>NaN</td>\n",
              "      <td>NaN</td>\n",
              "      <td>Computer science, computer engineering, or sof...</td>\n",
              "      <td>NaN</td>\n",
              "      <td>NaN</td>\n",
              "      <td>Somewhat more welcome now than last year</td>\n",
              "      <td>NaN</td>\n",
              "      <td>7</td>\n",
              "      <td>4</td>\n",
              "    </tr>\n",
              "    <tr>\n",
              "      <th>2</th>\n",
              "      <td>3</td>\n",
              "      <td>I code primarily as a hobby</td>\n",
              "      <td>Yes</td>\n",
              "      <td>NaN</td>\n",
              "      <td>15</td>\n",
              "      <td>NaN</td>\n",
              "      <td>NaN</td>\n",
              "      <td>NaN</td>\n",
              "      <td>Russian Federation</td>\n",
              "      <td>NaN</td>\n",
              "      <td>...</td>\n",
              "      <td>Neither easy nor difficult</td>\n",
              "      <td>Appropriate in length</td>\n",
              "      <td>NaN</td>\n",
              "      <td>NaN</td>\n",
              "      <td>NaN</td>\n",
              "      <td>NaN</td>\n",
              "      <td>Somewhat more welcome now than last year</td>\n",
              "      <td>NaN</td>\n",
              "      <td>4</td>\n",
              "      <td>NaN</td>\n",
              "    </tr>\n",
              "    <tr>\n",
              "      <th>3</th>\n",
              "      <td>4</td>\n",
              "      <td>I am a developer by profession</td>\n",
              "      <td>Yes</td>\n",
              "      <td>25.0</td>\n",
              "      <td>18</td>\n",
              "      <td>NaN</td>\n",
              "      <td>NaN</td>\n",
              "      <td>NaN</td>\n",
              "      <td>Albania</td>\n",
              "      <td>Albanian lek</td>\n",
              "      <td>...</td>\n",
              "      <td>NaN</td>\n",
              "      <td>NaN</td>\n",
              "      <td>No</td>\n",
              "      <td>Computer science, computer engineering, or sof...</td>\n",
              "      <td>NaN</td>\n",
              "      <td>NaN</td>\n",
              "      <td>Somewhat less welcome now than last year</td>\n",
              "      <td>40.0</td>\n",
              "      <td>7</td>\n",
              "      <td>4</td>\n",
              "    </tr>\n",
              "    <tr>\n",
              "      <th>4</th>\n",
              "      <td>5</td>\n",
              "      <td>I used to be a developer by profession, but no...</td>\n",
              "      <td>Yes</td>\n",
              "      <td>31.0</td>\n",
              "      <td>16</td>\n",
              "      <td>NaN</td>\n",
              "      <td>NaN</td>\n",
              "      <td>NaN</td>\n",
              "      <td>United States</td>\n",
              "      <td>NaN</td>\n",
              "      <td>...</td>\n",
              "      <td>Easy</td>\n",
              "      <td>Too short</td>\n",
              "      <td>No</td>\n",
              "      <td>Computer science, computer engineering, or sof...</td>\n",
              "      <td>Django;Ruby on Rails</td>\n",
              "      <td>Ruby on Rails</td>\n",
              "      <td>Just as welcome now as I felt last year</td>\n",
              "      <td>NaN</td>\n",
              "      <td>15</td>\n",
              "      <td>8</td>\n",
              "    </tr>\n",
              "    <tr>\n",
              "      <th>...</th>\n",
              "      <td>...</td>\n",
              "      <td>...</td>\n",
              "      <td>...</td>\n",
              "      <td>...</td>\n",
              "      <td>...</td>\n",
              "      <td>...</td>\n",
              "      <td>...</td>\n",
              "      <td>...</td>\n",
              "      <td>...</td>\n",
              "      <td>...</td>\n",
              "      <td>...</td>\n",
              "      <td>...</td>\n",
              "      <td>...</td>\n",
              "      <td>...</td>\n",
              "      <td>...</td>\n",
              "      <td>...</td>\n",
              "      <td>...</td>\n",
              "      <td>...</td>\n",
              "      <td>...</td>\n",
              "      <td>...</td>\n",
              "      <td>...</td>\n",
              "    </tr>\n",
              "    <tr>\n",
              "      <th>64456</th>\n",
              "      <td>64858</td>\n",
              "      <td>NaN</td>\n",
              "      <td>Yes</td>\n",
              "      <td>NaN</td>\n",
              "      <td>16</td>\n",
              "      <td>NaN</td>\n",
              "      <td>NaN</td>\n",
              "      <td>NaN</td>\n",
              "      <td>United States</td>\n",
              "      <td>NaN</td>\n",
              "      <td>...</td>\n",
              "      <td>NaN</td>\n",
              "      <td>NaN</td>\n",
              "      <td>NaN</td>\n",
              "      <td>Computer science, computer engineering, or sof...</td>\n",
              "      <td>NaN</td>\n",
              "      <td>NaN</td>\n",
              "      <td>NaN</td>\n",
              "      <td>NaN</td>\n",
              "      <td>10</td>\n",
              "      <td>Less than 1 year</td>\n",
              "    </tr>\n",
              "    <tr>\n",
              "      <th>64457</th>\n",
              "      <td>64867</td>\n",
              "      <td>NaN</td>\n",
              "      <td>Yes</td>\n",
              "      <td>NaN</td>\n",
              "      <td>NaN</td>\n",
              "      <td>NaN</td>\n",
              "      <td>NaN</td>\n",
              "      <td>NaN</td>\n",
              "      <td>Morocco</td>\n",
              "      <td>NaN</td>\n",
              "      <td>...</td>\n",
              "      <td>NaN</td>\n",
              "      <td>NaN</td>\n",
              "      <td>NaN</td>\n",
              "      <td>NaN</td>\n",
              "      <td>NaN</td>\n",
              "      <td>NaN</td>\n",
              "      <td>NaN</td>\n",
              "      <td>NaN</td>\n",
              "      <td>NaN</td>\n",
              "      <td>NaN</td>\n",
              "    </tr>\n",
              "    <tr>\n",
              "      <th>64458</th>\n",
              "      <td>64898</td>\n",
              "      <td>NaN</td>\n",
              "      <td>Yes</td>\n",
              "      <td>NaN</td>\n",
              "      <td>NaN</td>\n",
              "      <td>NaN</td>\n",
              "      <td>NaN</td>\n",
              "      <td>NaN</td>\n",
              "      <td>Viet Nam</td>\n",
              "      <td>NaN</td>\n",
              "      <td>...</td>\n",
              "      <td>NaN</td>\n",
              "      <td>NaN</td>\n",
              "      <td>NaN</td>\n",
              "      <td>NaN</td>\n",
              "      <td>NaN</td>\n",
              "      <td>NaN</td>\n",
              "      <td>NaN</td>\n",
              "      <td>NaN</td>\n",
              "      <td>NaN</td>\n",
              "      <td>NaN</td>\n",
              "    </tr>\n",
              "    <tr>\n",
              "      <th>64459</th>\n",
              "      <td>64925</td>\n",
              "      <td>NaN</td>\n",
              "      <td>Yes</td>\n",
              "      <td>NaN</td>\n",
              "      <td>NaN</td>\n",
              "      <td>NaN</td>\n",
              "      <td>NaN</td>\n",
              "      <td>NaN</td>\n",
              "      <td>Poland</td>\n",
              "      <td>NaN</td>\n",
              "      <td>...</td>\n",
              "      <td>NaN</td>\n",
              "      <td>NaN</td>\n",
              "      <td>NaN</td>\n",
              "      <td>NaN</td>\n",
              "      <td>Angular;Angular.js;React.js</td>\n",
              "      <td>NaN</td>\n",
              "      <td>NaN</td>\n",
              "      <td>NaN</td>\n",
              "      <td>NaN</td>\n",
              "      <td>NaN</td>\n",
              "    </tr>\n",
              "    <tr>\n",
              "      <th>64460</th>\n",
              "      <td>65112</td>\n",
              "      <td>NaN</td>\n",
              "      <td>Yes</td>\n",
              "      <td>NaN</td>\n",
              "      <td>NaN</td>\n",
              "      <td>NaN</td>\n",
              "      <td>NaN</td>\n",
              "      <td>NaN</td>\n",
              "      <td>Spain</td>\n",
              "      <td>NaN</td>\n",
              "      <td>...</td>\n",
              "      <td>NaN</td>\n",
              "      <td>NaN</td>\n",
              "      <td>NaN</td>\n",
              "      <td>Computer science, computer engineering, or sof...</td>\n",
              "      <td>ASP.NET Core;jQuery</td>\n",
              "      <td>Angular;Angular.js;ASP.NET Core;jQuery</td>\n",
              "      <td>NaN</td>\n",
              "      <td>NaN</td>\n",
              "      <td>NaN</td>\n",
              "      <td>NaN</td>\n",
              "    </tr>\n",
              "  </tbody>\n",
              "</table>\n",
              "<p>64461 rows × 61 columns</p>\n",
              "</div>\n",
              "      <button class=\"colab-df-convert\" onclick=\"convertToInteractive('df-f4d42905-d62b-4928-af50-70154c5e2fed')\"\n",
              "              title=\"Convert this dataframe to an interactive table.\"\n",
              "              style=\"display:none;\">\n",
              "        \n",
              "  <svg xmlns=\"http://www.w3.org/2000/svg\" height=\"24px\"viewBox=\"0 0 24 24\"\n",
              "       width=\"24px\">\n",
              "    <path d=\"M0 0h24v24H0V0z\" fill=\"none\"/>\n",
              "    <path d=\"M18.56 5.44l.94 2.06.94-2.06 2.06-.94-2.06-.94-.94-2.06-.94 2.06-2.06.94zm-11 1L8.5 8.5l.94-2.06 2.06-.94-2.06-.94L8.5 2.5l-.94 2.06-2.06.94zm10 10l.94 2.06.94-2.06 2.06-.94-2.06-.94-.94-2.06-.94 2.06-2.06.94z\"/><path d=\"M17.41 7.96l-1.37-1.37c-.4-.4-.92-.59-1.43-.59-.52 0-1.04.2-1.43.59L10.3 9.45l-7.72 7.72c-.78.78-.78 2.05 0 2.83L4 21.41c.39.39.9.59 1.41.59.51 0 1.02-.2 1.41-.59l7.78-7.78 2.81-2.81c.8-.78.8-2.07 0-2.86zM5.41 20L4 18.59l7.72-7.72 1.47 1.35L5.41 20z\"/>\n",
              "  </svg>\n",
              "      </button>\n",
              "      \n",
              "  <style>\n",
              "    .colab-df-container {\n",
              "      display:flex;\n",
              "      flex-wrap:wrap;\n",
              "      gap: 12px;\n",
              "    }\n",
              "\n",
              "    .colab-df-convert {\n",
              "      background-color: #E8F0FE;\n",
              "      border: none;\n",
              "      border-radius: 50%;\n",
              "      cursor: pointer;\n",
              "      display: none;\n",
              "      fill: #1967D2;\n",
              "      height: 32px;\n",
              "      padding: 0 0 0 0;\n",
              "      width: 32px;\n",
              "    }\n",
              "\n",
              "    .colab-df-convert:hover {\n",
              "      background-color: #E2EBFA;\n",
              "      box-shadow: 0px 1px 2px rgba(60, 64, 67, 0.3), 0px 1px 3px 1px rgba(60, 64, 67, 0.15);\n",
              "      fill: #174EA6;\n",
              "    }\n",
              "\n",
              "    [theme=dark] .colab-df-convert {\n",
              "      background-color: #3B4455;\n",
              "      fill: #D2E3FC;\n",
              "    }\n",
              "\n",
              "    [theme=dark] .colab-df-convert:hover {\n",
              "      background-color: #434B5C;\n",
              "      box-shadow: 0px 1px 3px 1px rgba(0, 0, 0, 0.15);\n",
              "      filter: drop-shadow(0px 1px 2px rgba(0, 0, 0, 0.3));\n",
              "      fill: #FFFFFF;\n",
              "    }\n",
              "  </style>\n",
              "\n",
              "      <script>\n",
              "        const buttonEl =\n",
              "          document.querySelector('#df-f4d42905-d62b-4928-af50-70154c5e2fed button.colab-df-convert');\n",
              "        buttonEl.style.display =\n",
              "          google.colab.kernel.accessAllowed ? 'block' : 'none';\n",
              "\n",
              "        async function convertToInteractive(key) {\n",
              "          const element = document.querySelector('#df-f4d42905-d62b-4928-af50-70154c5e2fed');\n",
              "          const dataTable =\n",
              "            await google.colab.kernel.invokeFunction('convertToInteractive',\n",
              "                                                     [key], {});\n",
              "          if (!dataTable) return;\n",
              "\n",
              "          const docLinkHtml = 'Like what you see? Visit the ' +\n",
              "            '<a target=\"_blank\" href=https://colab.research.google.com/notebooks/data_table.ipynb>data table notebook</a>'\n",
              "            + ' to learn more about interactive tables.';\n",
              "          element.innerHTML = '';\n",
              "          dataTable['output_type'] = 'display_data';\n",
              "          await google.colab.output.renderOutput(dataTable, element);\n",
              "          const docLink = document.createElement('div');\n",
              "          docLink.innerHTML = docLinkHtml;\n",
              "          element.appendChild(docLink);\n",
              "        }\n",
              "      </script>\n",
              "    </div>\n",
              "  </div>\n",
              "  "
            ]
          },
          "metadata": {},
          "execution_count": 119
        }
      ]
    },
    {
      "cell_type": "code",
      "source": [
        "survey_raw_df.columns"
      ],
      "metadata": {
        "id": "iHeN_LzyuORM",
        "colab": {
          "base_uri": "https://localhost:8080/"
        },
        "outputId": "55f2427f-fc35-4c0e-b49e-4904d2db7a2f"
      },
      "execution_count": null,
      "outputs": [
        {
          "output_type": "execute_result",
          "data": {
            "text/plain": [
              "Index(['Respondent', 'MainBranch', 'Hobbyist', 'Age', 'Age1stCode', 'CompFreq',\n",
              "       'CompTotal', 'ConvertedComp', 'Country', 'CurrencyDesc',\n",
              "       'CurrencySymbol', 'DatabaseDesireNextYear', 'DatabaseWorkedWith',\n",
              "       'DevType', 'EdLevel', 'Employment', 'Ethnicity', 'Gender', 'JobFactors',\n",
              "       'JobSat', 'JobSeek', 'LanguageDesireNextYear', 'LanguageWorkedWith',\n",
              "       'MiscTechDesireNextYear', 'MiscTechWorkedWith',\n",
              "       'NEWCollabToolsDesireNextYear', 'NEWCollabToolsWorkedWith', 'NEWDevOps',\n",
              "       'NEWDevOpsImpt', 'NEWEdImpt', 'NEWJobHunt', 'NEWJobHuntResearch',\n",
              "       'NEWLearn', 'NEWOffTopic', 'NEWOnboardGood', 'NEWOtherComms',\n",
              "       'NEWOvertime', 'NEWPurchaseResearch', 'NEWPurpleLink', 'NEWSOSites',\n",
              "       'NEWStuck', 'OpSys', 'OrgSize', 'PlatformDesireNextYear',\n",
              "       'PlatformWorkedWith', 'PurchaseWhat', 'Sexuality', 'SOAccount',\n",
              "       'SOComm', 'SOPartFreq', 'SOVisitFreq', 'SurveyEase', 'SurveyLength',\n",
              "       'Trans', 'UndergradMajor', 'WebframeDesireNextYear',\n",
              "       'WebframeWorkedWith', 'WelcomeChange', 'WorkWeekHrs', 'YearsCode',\n",
              "       'YearsCodePro'],\n",
              "      dtype='object')"
            ]
          },
          "metadata": {},
          "execution_count": 120
        }
      ]
    },
    {
      "cell_type": "code",
      "source": [
        "survey_raw_df.describe"
      ],
      "metadata": {
        "id": "V5dJbCCZzcn8",
        "colab": {
          "base_uri": "https://localhost:8080/"
        },
        "outputId": "c7fd5c4a-51ff-413e-809d-82a3aa7b7d5b"
      },
      "execution_count": null,
      "outputs": [
        {
          "output_type": "execute_result",
          "data": {
            "text/plain": [
              "<bound method NDFrame.describe of        Respondent                                         MainBranch Hobbyist  \\\n",
              "0               1                     I am a developer by profession      Yes   \n",
              "1               2                     I am a developer by profession       No   \n",
              "2               3                        I code primarily as a hobby      Yes   \n",
              "3               4                     I am a developer by profession      Yes   \n",
              "4               5  I used to be a developer by profession, but no...      Yes   \n",
              "...           ...                                                ...      ...   \n",
              "64456       64858                                                NaN      Yes   \n",
              "64457       64867                                                NaN      Yes   \n",
              "64458       64898                                                NaN      Yes   \n",
              "64459       64925                                                NaN      Yes   \n",
              "64460       65112                                                NaN      Yes   \n",
              "\n",
              "        Age Age1stCode CompFreq  CompTotal  ConvertedComp             Country  \\\n",
              "0       NaN         13  Monthly        NaN            NaN             Germany   \n",
              "1       NaN         19      NaN        NaN            NaN      United Kingdom   \n",
              "2       NaN         15      NaN        NaN            NaN  Russian Federation   \n",
              "3      25.0         18      NaN        NaN            NaN             Albania   \n",
              "4      31.0         16      NaN        NaN            NaN       United States   \n",
              "...     ...        ...      ...        ...            ...                 ...   \n",
              "64456   NaN         16      NaN        NaN            NaN       United States   \n",
              "64457   NaN        NaN      NaN        NaN            NaN             Morocco   \n",
              "64458   NaN        NaN      NaN        NaN            NaN            Viet Nam   \n",
              "64459   NaN        NaN      NaN        NaN            NaN              Poland   \n",
              "64460   NaN        NaN      NaN        NaN            NaN               Spain   \n",
              "\n",
              "         CurrencyDesc  ...                  SurveyEase           SurveyLength  \\\n",
              "0       European Euro  ...  Neither easy nor difficult  Appropriate in length   \n",
              "1      Pound sterling  ...                         NaN                    NaN   \n",
              "2                 NaN  ...  Neither easy nor difficult  Appropriate in length   \n",
              "3        Albanian lek  ...                         NaN                    NaN   \n",
              "4                 NaN  ...                        Easy              Too short   \n",
              "...               ...  ...                         ...                    ...   \n",
              "64456             NaN  ...                         NaN                    NaN   \n",
              "64457             NaN  ...                         NaN                    NaN   \n",
              "64458             NaN  ...                         NaN                    NaN   \n",
              "64459             NaN  ...                         NaN                    NaN   \n",
              "64460             NaN  ...                         NaN                    NaN   \n",
              "\n",
              "      Trans                                     UndergradMajor  \\\n",
              "0        No  Computer science, computer engineering, or sof...   \n",
              "1       NaN  Computer science, computer engineering, or sof...   \n",
              "2       NaN                                                NaN   \n",
              "3        No  Computer science, computer engineering, or sof...   \n",
              "4        No  Computer science, computer engineering, or sof...   \n",
              "...     ...                                                ...   \n",
              "64456   NaN  Computer science, computer engineering, or sof...   \n",
              "64457   NaN                                                NaN   \n",
              "64458   NaN                                                NaN   \n",
              "64459   NaN                                                NaN   \n",
              "64460   NaN  Computer science, computer engineering, or sof...   \n",
              "\n",
              "            WebframeDesireNextYear                      WebframeWorkedWith  \\\n",
              "0                     ASP.NET Core                    ASP.NET;ASP.NET Core   \n",
              "1                              NaN                                     NaN   \n",
              "2                              NaN                                     NaN   \n",
              "3                              NaN                                     NaN   \n",
              "4             Django;Ruby on Rails                           Ruby on Rails   \n",
              "...                            ...                                     ...   \n",
              "64456                          NaN                                     NaN   \n",
              "64457                          NaN                                     NaN   \n",
              "64458                          NaN                                     NaN   \n",
              "64459  Angular;Angular.js;React.js                                     NaN   \n",
              "64460          ASP.NET Core;jQuery  Angular;Angular.js;ASP.NET Core;jQuery   \n",
              "\n",
              "                                  WelcomeChange WorkWeekHrs YearsCode  \\\n",
              "0       Just as welcome now as I felt last year        50.0        36   \n",
              "1      Somewhat more welcome now than last year         NaN         7   \n",
              "2      Somewhat more welcome now than last year         NaN         4   \n",
              "3      Somewhat less welcome now than last year        40.0         7   \n",
              "4       Just as welcome now as I felt last year         NaN        15   \n",
              "...                                         ...         ...       ...   \n",
              "64456                                       NaN         NaN        10   \n",
              "64457                                       NaN         NaN       NaN   \n",
              "64458                                       NaN         NaN       NaN   \n",
              "64459                                       NaN         NaN       NaN   \n",
              "64460                                       NaN         NaN       NaN   \n",
              "\n",
              "           YearsCodePro  \n",
              "0                    27  \n",
              "1                     4  \n",
              "2                   NaN  \n",
              "3                     4  \n",
              "4                     8  \n",
              "...                 ...  \n",
              "64456  Less than 1 year  \n",
              "64457               NaN  \n",
              "64458               NaN  \n",
              "64459               NaN  \n",
              "64460               NaN  \n",
              "\n",
              "[64461 rows x 61 columns]>"
            ]
          },
          "metadata": {},
          "execution_count": 121
        }
      ]
    },
    {
      "cell_type": "code",
      "source": [
        "schema_frame = \"/content/drive/MyDrive/CSV23/survey_results_schema2020.csv\"\n",
        "schema_raw = pd.read_csv(schema_frame, index_col='Column').QuestionText"
      ],
      "metadata": {
        "id": "TfvblrF3k71M"
      },
      "execution_count": null,
      "outputs": []
    },
    {
      "cell_type": "code",
      "source": [
        "schema_raw"
      ],
      "metadata": {
        "colab": {
          "base_uri": "https://localhost:8080/"
        },
        "id": "A7GDQCQqvWnj",
        "outputId": "03a6e4f0-73ac-4788-f60e-c6a753d8ee44"
      },
      "execution_count": null,
      "outputs": [
        {
          "output_type": "execute_result",
          "data": {
            "text/plain": [
              "Column\n",
              "Respondent            Randomized respondent ID number (not in order ...\n",
              "MainBranch            Which of the following options best describes ...\n",
              "Hobbyist                                        Do you code as a hobby?\n",
              "Age                   What is your age (in years)? If you prefer not...\n",
              "Age1stCode            At what age did you write your first line of c...\n",
              "                                            ...                        \n",
              "WebframeWorkedWith    Which web frameworks have you done extensive d...\n",
              "WelcomeChange         Compared to last year, how welcome do you feel...\n",
              "WorkWeekHrs           On average, how many hours per week do you wor...\n",
              "YearsCode             Including any education, how many years have y...\n",
              "YearsCodePro          NOT including education, how many years have y...\n",
              "Name: QuestionText, Length: 61, dtype: object"
            ]
          },
          "metadata": {},
          "execution_count": 123
        }
      ]
    },
    {
      "cell_type": "code",
      "source": [
        "type(schema_raw)"
      ],
      "metadata": {
        "colab": {
          "base_uri": "https://localhost:8080/"
        },
        "id": "vQUPf_f3IXR9",
        "outputId": "dd8d51a2-46eb-4f8f-8515-e390490bbb48"
      },
      "execution_count": null,
      "outputs": [
        {
          "output_type": "execute_result",
          "data": {
            "text/plain": [
              "pandas.core.series.Series"
            ]
          },
          "metadata": {},
          "execution_count": 124
        }
      ]
    },
    {
      "cell_type": "code",
      "source": [
        "schema_raw.YearsCodePro"
      ],
      "metadata": {
        "colab": {
          "base_uri": "https://localhost:8080/",
          "height": 35
        },
        "id": "kuT3mx_NIZro",
        "outputId": "2421c808-dc17-4cd8-9b46-507542090fa8"
      },
      "execution_count": null,
      "outputs": [
        {
          "output_type": "execute_result",
          "data": {
            "text/plain": [
              "'NOT including education, how many years have you coded professionally (as a part of your work)?'"
            ],
            "application/vnd.google.colaboratory.intrinsic+json": {
              "type": "string"
            }
          },
          "metadata": {},
          "execution_count": 125
        }
      ]
    },
    {
      "cell_type": "markdown",
      "source": [
        "###Select project name"
      ],
      "metadata": {
        "id": "JQXDnUJQNcQl"
      }
    },
    {
      "cell_type": "code",
      "source": [
        "project= 'python-eda-stackoverflow-survey'"
      ],
      "metadata": {
        "id": "toyCMbqDNe4r"
      },
      "execution_count": null,
      "outputs": []
    },
    {
      "cell_type": "markdown",
      "source": [
        "## Data Preparation & Cleaning\n",
        "\n",
        "While the survey responses contain a wealth of information, we'll limit our analysis to the following areas:\n",
        "\n",
        "- Demographics of the survey respondents and the global programming community\n",
        "- Distribution of programming skills, experience, and preferences\n",
        "- Employment-related information, preferences, and opinions\n",
        "\n",
        "Let's select a subset of columns with the relevant data for our analysis."
      ],
      "metadata": {
        "id": "c9dwxVPYN4wG"
      }
    },
    {
      "cell_type": "code",
      "source": [
        " selected_columns = [\n",
        "    # Demographics\n",
        "    'Country',\n",
        "    'Age',\n",
        "    'Gender',\n",
        "    'EdLevel',\n",
        "    'UndergradMajor',\n",
        "    # Programming experience\n",
        "    'Hobbyist',\n",
        "    'Age1stCode',\n",
        "    'YearsCode',\n",
        "    'YearsCodePro',\n",
        "    'LanguageWorkedWith',\n",
        "    'LanguageDesireNextYear',\n",
        "    'NEWLearn',\n",
        "    'NEWStuck',\n",
        "    # Employment\n",
        "    'Employment',\n",
        "    'DevType',\n",
        "    'WorkWeekHrs',\n",
        "    'JobSat',\n",
        "    'JobFactors',\n",
        "    'NEWOvertime',\n",
        "    'NEWEdImpt'\n",
        "]"
      ],
      "metadata": {
        "id": "9ajVZE5wIyC9"
      },
      "execution_count": null,
      "outputs": []
    },
    {
      "cell_type": "code",
      "source": [
        "len(selected_columns)"
      ],
      "metadata": {
        "colab": {
          "base_uri": "https://localhost:8080/"
        },
        "id": "lH53dkeDO537",
        "outputId": "d7a11c1b-e6eb-4221-a14f-4fc0439993e4"
      },
      "execution_count": null,
      "outputs": [
        {
          "output_type": "execute_result",
          "data": {
            "text/plain": [
              "20"
            ]
          },
          "metadata": {},
          "execution_count": 128
        }
      ]
    },
    {
      "cell_type": "markdown",
      "source": [
        "Let's extract a copy of the data from these columns into a new data frame `survey_df`. We can continue to modify further without affecting the original data frame."
      ],
      "metadata": {
        "id": "bGx1mp4iP4cf"
      }
    },
    {
      "cell_type": "code",
      "source": [
        "survey_df = survey_raw_df[selected_columns].copy()"
      ],
      "metadata": {
        "id": "5RcV-kbdPj0M"
      },
      "execution_count": null,
      "outputs": []
    },
    {
      "cell_type": "code",
      "source": [
        "schema = schema_raw[selected_columns].copy()"
      ],
      "metadata": {
        "id": "GM3eVrV_QIKX"
      },
      "execution_count": null,
      "outputs": []
    },
    {
      "cell_type": "code",
      "source": [
        "survey_df.shape"
      ],
      "metadata": {
        "colab": {
          "base_uri": "https://localhost:8080/"
        },
        "id": "g0l-XMlWQc9R",
        "outputId": "fc3612bb-a6c4-47f8-89c6-83894c5da2e9"
      },
      "execution_count": null,
      "outputs": [
        {
          "output_type": "execute_result",
          "data": {
            "text/plain": [
              "(64461, 20)"
            ]
          },
          "metadata": {},
          "execution_count": 131
        }
      ]
    },
    {
      "cell_type": "code",
      "source": [
        "schema.shape"
      ],
      "metadata": {
        "colab": {
          "base_uri": "https://localhost:8080/"
        },
        "id": "rmVGUnCLQiiU",
        "outputId": "87ca1f91-258f-49d3-db24-c0b0872ae057"
      },
      "execution_count": null,
      "outputs": [
        {
          "output_type": "execute_result",
          "data": {
            "text/plain": [
              "(20,)"
            ]
          },
          "metadata": {},
          "execution_count": 132
        }
      ]
    },
    {
      "cell_type": "code",
      "source": [
        "survey_df.info()"
      ],
      "metadata": {
        "colab": {
          "base_uri": "https://localhost:8080/"
        },
        "id": "J3Pmg57-P2bT",
        "outputId": "f91887e5-4b7b-4326-ca3d-44fc93b0b263"
      },
      "execution_count": null,
      "outputs": [
        {
          "output_type": "stream",
          "name": "stdout",
          "text": [
            "<class 'pandas.core.frame.DataFrame'>\n",
            "RangeIndex: 64461 entries, 0 to 64460\n",
            "Data columns (total 20 columns):\n",
            " #   Column                  Non-Null Count  Dtype  \n",
            "---  ------                  --------------  -----  \n",
            " 0   Country                 64072 non-null  object \n",
            " 1   Age                     45446 non-null  float64\n",
            " 2   Gender                  50557 non-null  object \n",
            " 3   EdLevel                 57431 non-null  object \n",
            " 4   UndergradMajor          50995 non-null  object \n",
            " 5   Hobbyist                64416 non-null  object \n",
            " 6   Age1stCode              57900 non-null  object \n",
            " 7   YearsCode               57684 non-null  object \n",
            " 8   YearsCodePro            46349 non-null  object \n",
            " 9   LanguageWorkedWith      57378 non-null  object \n",
            " 10  LanguageDesireNextYear  54113 non-null  object \n",
            " 11  NEWLearn                56156 non-null  object \n",
            " 12  NEWStuck                54983 non-null  object \n",
            " 13  Employment              63854 non-null  object \n",
            " 14  DevType                 49370 non-null  object \n",
            " 15  WorkWeekHrs             41151 non-null  float64\n",
            " 16  JobSat                  45194 non-null  object \n",
            " 17  JobFactors              49349 non-null  object \n",
            " 18  NEWOvertime             43231 non-null  object \n",
            " 19  NEWEdImpt               48465 non-null  object \n",
            "dtypes: float64(2), object(18)\n",
            "memory usage: 9.8+ MB\n"
          ]
        }
      ]
    },
    {
      "cell_type": "markdown",
      "source": [
        "Most columns have the data type `object`, either because they contain values of different types or contain empty values (`NaN`). It appears that every column contains some empty values since the Non-Null count for every column is lower than the total number of rows (64461). We'll need to deal with empty values and manually adjust the data type for each column on a case-by-case basis.\n",
        "\n",
        "Only two of the columns were detected as numeric columns (`Age` and `WorkWeekHrs`), even though a few other columns have mostly numeric values. To make our analysis easier, let's convert some other columns into numeric data types while ignoring any non-numeric value. The non-numeric are converted to `NaN`."
      ],
      "metadata": {
        "id": "kAD60mXPRds3"
      }
    },
    {
      "cell_type": "code",
      "source": [
        "survey_df.Age1stCode.unique()"
      ],
      "metadata": {
        "colab": {
          "base_uri": "https://localhost:8080/"
        },
        "id": "nhv_HQLWP3Xn",
        "outputId": "633eb7a1-613e-4998-840d-a42ceade3658"
      },
      "execution_count": null,
      "outputs": [
        {
          "output_type": "execute_result",
          "data": {
            "text/plain": [
              "array(['13', '19', '15', '18', '16', '14', '12', '20', '42', '8', '25',\n",
              "       '22', '30', '17', '21', '10', '46', '9', '7', '11', '6', nan, '31',\n",
              "       '29', '5', 'Younger than 5 years', '28', '38', '23', '27', '41',\n",
              "       '24', '53', '26', '35', '32', '40', '33', '36', '54', '48', '56',\n",
              "       '45', '44', '34', 'Older than 85', '39', '51', '68', '50', '37',\n",
              "       '47', '43', '52', '85', '64', '55', '58', '49', '76', '72', '73',\n",
              "       '83', '63'], dtype=object)"
            ]
          },
          "metadata": {},
          "execution_count": 134
        }
      ]
    },
    {
      "cell_type": "markdown",
      "source": [
        "COnvertings some of string value into numeric even if maximum values are numeric."
      ],
      "metadata": {
        "id": "8IHpUFoxSIem"
      }
    },
    {
      "cell_type": "code",
      "source": [
        "survey_df['Age1stCode'] = pd.to_numeric(survey_df.Age1stCode, errors= 'coerce')\n",
        "survey_df['YearsCode'] = pd.to_numeric(survey_df.YearsCode, errors='coerce')\n",
        "survey_df['YearsCodePro'] = pd.to_numeric(survey_df.YearsCodePro, errors='coerce')"
      ],
      "metadata": {
        "id": "EVwKV6cLR1m9"
      },
      "execution_count": null,
      "outputs": []
    },
    {
      "cell_type": "code",
      "source": [
        "survey_df.info()"
      ],
      "metadata": {
        "colab": {
          "base_uri": "https://localhost:8080/"
        },
        "id": "rPkl6-7xT83s",
        "outputId": "2b5cc2b7-8324-4c28-cdf7-f995b4b46c65"
      },
      "execution_count": null,
      "outputs": [
        {
          "output_type": "stream",
          "name": "stdout",
          "text": [
            "<class 'pandas.core.frame.DataFrame'>\n",
            "RangeIndex: 64461 entries, 0 to 64460\n",
            "Data columns (total 20 columns):\n",
            " #   Column                  Non-Null Count  Dtype  \n",
            "---  ------                  --------------  -----  \n",
            " 0   Country                 64072 non-null  object \n",
            " 1   Age                     45446 non-null  float64\n",
            " 2   Gender                  50557 non-null  object \n",
            " 3   EdLevel                 57431 non-null  object \n",
            " 4   UndergradMajor          50995 non-null  object \n",
            " 5   Hobbyist                64416 non-null  object \n",
            " 6   Age1stCode              57473 non-null  float64\n",
            " 7   YearsCode               56784 non-null  float64\n",
            " 8   YearsCodePro            44133 non-null  float64\n",
            " 9   LanguageWorkedWith      57378 non-null  object \n",
            " 10  LanguageDesireNextYear  54113 non-null  object \n",
            " 11  NEWLearn                56156 non-null  object \n",
            " 12  NEWStuck                54983 non-null  object \n",
            " 13  Employment              63854 non-null  object \n",
            " 14  DevType                 49370 non-null  object \n",
            " 15  WorkWeekHrs             41151 non-null  float64\n",
            " 16  JobSat                  45194 non-null  object \n",
            " 17  JobFactors              49349 non-null  object \n",
            " 18  NEWOvertime             43231 non-null  object \n",
            " 19  NEWEdImpt               48465 non-null  object \n",
            "dtypes: float64(5), object(15)\n",
            "memory usage: 9.8+ MB\n"
          ]
        }
      ]
    },
    {
      "cell_type": "code",
      "source": [
        "survey_df.describe()"
      ],
      "metadata": {
        "colab": {
          "base_uri": "https://localhost:8080/",
          "height": 300
        },
        "id": "-L-dOAMFUAAa",
        "outputId": "6d674d01-83c4-4b28-cc27-dbd2125df414"
      },
      "execution_count": null,
      "outputs": [
        {
          "output_type": "execute_result",
          "data": {
            "text/plain": [
              "                Age    Age1stCode     YearsCode  YearsCodePro   WorkWeekHrs\n",
              "count  45446.000000  57473.000000  56784.000000  44133.000000  41151.000000\n",
              "mean      30.834111     15.476572     12.782051      8.869667     40.782174\n",
              "std        9.585392      5.114081      9.490657      7.759961     17.816383\n",
              "min        1.000000      5.000000      1.000000      1.000000      1.000000\n",
              "25%       24.000000     12.000000      6.000000      3.000000     40.000000\n",
              "50%       29.000000     15.000000     10.000000      6.000000     40.000000\n",
              "75%       35.000000     18.000000     17.000000     12.000000     44.000000\n",
              "max      279.000000     85.000000     50.000000     50.000000    475.000000"
            ],
            "text/html": [
              "\n",
              "  <div id=\"df-f55ab481-532f-4085-b0b4-3dd6e4a4d015\">\n",
              "    <div class=\"colab-df-container\">\n",
              "      <div>\n",
              "<style scoped>\n",
              "    .dataframe tbody tr th:only-of-type {\n",
              "        vertical-align: middle;\n",
              "    }\n",
              "\n",
              "    .dataframe tbody tr th {\n",
              "        vertical-align: top;\n",
              "    }\n",
              "\n",
              "    .dataframe thead th {\n",
              "        text-align: right;\n",
              "    }\n",
              "</style>\n",
              "<table border=\"1\" class=\"dataframe\">\n",
              "  <thead>\n",
              "    <tr style=\"text-align: right;\">\n",
              "      <th></th>\n",
              "      <th>Age</th>\n",
              "      <th>Age1stCode</th>\n",
              "      <th>YearsCode</th>\n",
              "      <th>YearsCodePro</th>\n",
              "      <th>WorkWeekHrs</th>\n",
              "    </tr>\n",
              "  </thead>\n",
              "  <tbody>\n",
              "    <tr>\n",
              "      <th>count</th>\n",
              "      <td>45446.000000</td>\n",
              "      <td>57473.000000</td>\n",
              "      <td>56784.000000</td>\n",
              "      <td>44133.000000</td>\n",
              "      <td>41151.000000</td>\n",
              "    </tr>\n",
              "    <tr>\n",
              "      <th>mean</th>\n",
              "      <td>30.834111</td>\n",
              "      <td>15.476572</td>\n",
              "      <td>12.782051</td>\n",
              "      <td>8.869667</td>\n",
              "      <td>40.782174</td>\n",
              "    </tr>\n",
              "    <tr>\n",
              "      <th>std</th>\n",
              "      <td>9.585392</td>\n",
              "      <td>5.114081</td>\n",
              "      <td>9.490657</td>\n",
              "      <td>7.759961</td>\n",
              "      <td>17.816383</td>\n",
              "    </tr>\n",
              "    <tr>\n",
              "      <th>min</th>\n",
              "      <td>1.000000</td>\n",
              "      <td>5.000000</td>\n",
              "      <td>1.000000</td>\n",
              "      <td>1.000000</td>\n",
              "      <td>1.000000</td>\n",
              "    </tr>\n",
              "    <tr>\n",
              "      <th>25%</th>\n",
              "      <td>24.000000</td>\n",
              "      <td>12.000000</td>\n",
              "      <td>6.000000</td>\n",
              "      <td>3.000000</td>\n",
              "      <td>40.000000</td>\n",
              "    </tr>\n",
              "    <tr>\n",
              "      <th>50%</th>\n",
              "      <td>29.000000</td>\n",
              "      <td>15.000000</td>\n",
              "      <td>10.000000</td>\n",
              "      <td>6.000000</td>\n",
              "      <td>40.000000</td>\n",
              "    </tr>\n",
              "    <tr>\n",
              "      <th>75%</th>\n",
              "      <td>35.000000</td>\n",
              "      <td>18.000000</td>\n",
              "      <td>17.000000</td>\n",
              "      <td>12.000000</td>\n",
              "      <td>44.000000</td>\n",
              "    </tr>\n",
              "    <tr>\n",
              "      <th>max</th>\n",
              "      <td>279.000000</td>\n",
              "      <td>85.000000</td>\n",
              "      <td>50.000000</td>\n",
              "      <td>50.000000</td>\n",
              "      <td>475.000000</td>\n",
              "    </tr>\n",
              "  </tbody>\n",
              "</table>\n",
              "</div>\n",
              "      <button class=\"colab-df-convert\" onclick=\"convertToInteractive('df-f55ab481-532f-4085-b0b4-3dd6e4a4d015')\"\n",
              "              title=\"Convert this dataframe to an interactive table.\"\n",
              "              style=\"display:none;\">\n",
              "        \n",
              "  <svg xmlns=\"http://www.w3.org/2000/svg\" height=\"24px\"viewBox=\"0 0 24 24\"\n",
              "       width=\"24px\">\n",
              "    <path d=\"M0 0h24v24H0V0z\" fill=\"none\"/>\n",
              "    <path d=\"M18.56 5.44l.94 2.06.94-2.06 2.06-.94-2.06-.94-.94-2.06-.94 2.06-2.06.94zm-11 1L8.5 8.5l.94-2.06 2.06-.94-2.06-.94L8.5 2.5l-.94 2.06-2.06.94zm10 10l.94 2.06.94-2.06 2.06-.94-2.06-.94-.94-2.06-.94 2.06-2.06.94z\"/><path d=\"M17.41 7.96l-1.37-1.37c-.4-.4-.92-.59-1.43-.59-.52 0-1.04.2-1.43.59L10.3 9.45l-7.72 7.72c-.78.78-.78 2.05 0 2.83L4 21.41c.39.39.9.59 1.41.59.51 0 1.02-.2 1.41-.59l7.78-7.78 2.81-2.81c.8-.78.8-2.07 0-2.86zM5.41 20L4 18.59l7.72-7.72 1.47 1.35L5.41 20z\"/>\n",
              "  </svg>\n",
              "      </button>\n",
              "      \n",
              "  <style>\n",
              "    .colab-df-container {\n",
              "      display:flex;\n",
              "      flex-wrap:wrap;\n",
              "      gap: 12px;\n",
              "    }\n",
              "\n",
              "    .colab-df-convert {\n",
              "      background-color: #E8F0FE;\n",
              "      border: none;\n",
              "      border-radius: 50%;\n",
              "      cursor: pointer;\n",
              "      display: none;\n",
              "      fill: #1967D2;\n",
              "      height: 32px;\n",
              "      padding: 0 0 0 0;\n",
              "      width: 32px;\n",
              "    }\n",
              "\n",
              "    .colab-df-convert:hover {\n",
              "      background-color: #E2EBFA;\n",
              "      box-shadow: 0px 1px 2px rgba(60, 64, 67, 0.3), 0px 1px 3px 1px rgba(60, 64, 67, 0.15);\n",
              "      fill: #174EA6;\n",
              "    }\n",
              "\n",
              "    [theme=dark] .colab-df-convert {\n",
              "      background-color: #3B4455;\n",
              "      fill: #D2E3FC;\n",
              "    }\n",
              "\n",
              "    [theme=dark] .colab-df-convert:hover {\n",
              "      background-color: #434B5C;\n",
              "      box-shadow: 0px 1px 3px 1px rgba(0, 0, 0, 0.15);\n",
              "      filter: drop-shadow(0px 1px 2px rgba(0, 0, 0, 0.3));\n",
              "      fill: #FFFFFF;\n",
              "    }\n",
              "  </style>\n",
              "\n",
              "      <script>\n",
              "        const buttonEl =\n",
              "          document.querySelector('#df-f55ab481-532f-4085-b0b4-3dd6e4a4d015 button.colab-df-convert');\n",
              "        buttonEl.style.display =\n",
              "          google.colab.kernel.accessAllowed ? 'block' : 'none';\n",
              "\n",
              "        async function convertToInteractive(key) {\n",
              "          const element = document.querySelector('#df-f55ab481-532f-4085-b0b4-3dd6e4a4d015');\n",
              "          const dataTable =\n",
              "            await google.colab.kernel.invokeFunction('convertToInteractive',\n",
              "                                                     [key], {});\n",
              "          if (!dataTable) return;\n",
              "\n",
              "          const docLinkHtml = 'Like what you see? Visit the ' +\n",
              "            '<a target=\"_blank\" href=https://colab.research.google.com/notebooks/data_table.ipynb>data table notebook</a>'\n",
              "            + ' to learn more about interactive tables.';\n",
              "          element.innerHTML = '';\n",
              "          dataTable['output_type'] = 'display_data';\n",
              "          await google.colab.output.renderOutput(dataTable, element);\n",
              "          const docLink = document.createElement('div');\n",
              "          docLink.innerHTML = docLinkHtml;\n",
              "          element.appendChild(docLink);\n",
              "        }\n",
              "      </script>\n",
              "    </div>\n",
              "  </div>\n",
              "  "
            ]
          },
          "metadata": {},
          "execution_count": 137
        }
      ]
    },
    {
      "cell_type": "markdown",
      "source": [
        "There seems to be a problem with the age column, as the minimum value is 1 and the maximum is 279. This is a common issue with surveys: responses may contain invalid values due to accidental or intentional errors while responding. A simple fix would be to ignore the rows where the age is higher than 100 years or lower than 10 years as invalid survey responses. We can do this using the `.drop` method, [as explained here](https://www.geeksforgeeks.org/drop-rows-from-the-dataframe-based-on-certain-condition-applied-on-a-column/)."
      ],
      "metadata": {
        "id": "iuqfwsJqtiaC"
      }
    },
    {
      "cell_type": "code",
      "source": [
        "survey_df.drop(survey_df[survey_df.Age<11].index, inplace= True)\n",
        "survey_df.drop(survey_df[survey_df.Age>97].index, inplace= True)"
      ],
      "metadata": {
        "id": "EjZn6x0YiEp9"
      },
      "execution_count": null,
      "outputs": []
    },
    {
      "cell_type": "markdown",
      "source": [
        "The same holds for `WorkWeekHrs`. Let's ignore entries where the value for the column is higher than 140 hours. (~20 hours per day)."
      ],
      "metadata": {
        "id": "RHQW1CNYu7dx"
      }
    },
    {
      "cell_type": "code",
      "source": [
        "survey_df.drop(survey_df[survey_df.WorkWeekHrs > 140].index, inplace= True)"
      ],
      "metadata": {
        "id": "Sq2IHWXfug4G"
      },
      "execution_count": null,
      "outputs": []
    },
    {
      "cell_type": "code",
      "source": [
        "survey_df.describe()"
      ],
      "metadata": {
        "colab": {
          "base_uri": "https://localhost:8080/",
          "height": 300
        },
        "id": "cHmqPQh8upuV",
        "outputId": "97dbc0b4-9fcd-44fe-eeeb-5fc36156b1db"
      },
      "execution_count": null,
      "outputs": [
        {
          "output_type": "execute_result",
          "data": {
            "text/plain": [
              "                Age    Age1stCode     YearsCode  YearsCodePro   WorkWeekHrs\n",
              "count  45304.000000  57313.000000  56624.000000  43986.000000  40994.000000\n",
              "mean      30.819597     15.475756     12.784473      8.873119     40.025327\n",
              "std        9.451058      5.114652      9.494313      7.762159     10.626464\n",
              "min       11.000000      5.000000      1.000000      1.000000      1.000000\n",
              "25%       24.000000     12.000000      6.000000      3.000000     40.000000\n",
              "50%       29.000000     15.000000     10.000000      6.000000     40.000000\n",
              "75%       35.000000     18.000000     17.000000     12.000000     43.000000\n",
              "max       97.000000     85.000000     50.000000     50.000000    140.000000"
            ],
            "text/html": [
              "\n",
              "  <div id=\"df-0e48f6f4-2382-435b-b2de-ce42e922a531\">\n",
              "    <div class=\"colab-df-container\">\n",
              "      <div>\n",
              "<style scoped>\n",
              "    .dataframe tbody tr th:only-of-type {\n",
              "        vertical-align: middle;\n",
              "    }\n",
              "\n",
              "    .dataframe tbody tr th {\n",
              "        vertical-align: top;\n",
              "    }\n",
              "\n",
              "    .dataframe thead th {\n",
              "        text-align: right;\n",
              "    }\n",
              "</style>\n",
              "<table border=\"1\" class=\"dataframe\">\n",
              "  <thead>\n",
              "    <tr style=\"text-align: right;\">\n",
              "      <th></th>\n",
              "      <th>Age</th>\n",
              "      <th>Age1stCode</th>\n",
              "      <th>YearsCode</th>\n",
              "      <th>YearsCodePro</th>\n",
              "      <th>WorkWeekHrs</th>\n",
              "    </tr>\n",
              "  </thead>\n",
              "  <tbody>\n",
              "    <tr>\n",
              "      <th>count</th>\n",
              "      <td>45304.000000</td>\n",
              "      <td>57313.000000</td>\n",
              "      <td>56624.000000</td>\n",
              "      <td>43986.000000</td>\n",
              "      <td>40994.000000</td>\n",
              "    </tr>\n",
              "    <tr>\n",
              "      <th>mean</th>\n",
              "      <td>30.819597</td>\n",
              "      <td>15.475756</td>\n",
              "      <td>12.784473</td>\n",
              "      <td>8.873119</td>\n",
              "      <td>40.025327</td>\n",
              "    </tr>\n",
              "    <tr>\n",
              "      <th>std</th>\n",
              "      <td>9.451058</td>\n",
              "      <td>5.114652</td>\n",
              "      <td>9.494313</td>\n",
              "      <td>7.762159</td>\n",
              "      <td>10.626464</td>\n",
              "    </tr>\n",
              "    <tr>\n",
              "      <th>min</th>\n",
              "      <td>11.000000</td>\n",
              "      <td>5.000000</td>\n",
              "      <td>1.000000</td>\n",
              "      <td>1.000000</td>\n",
              "      <td>1.000000</td>\n",
              "    </tr>\n",
              "    <tr>\n",
              "      <th>25%</th>\n",
              "      <td>24.000000</td>\n",
              "      <td>12.000000</td>\n",
              "      <td>6.000000</td>\n",
              "      <td>3.000000</td>\n",
              "      <td>40.000000</td>\n",
              "    </tr>\n",
              "    <tr>\n",
              "      <th>50%</th>\n",
              "      <td>29.000000</td>\n",
              "      <td>15.000000</td>\n",
              "      <td>10.000000</td>\n",
              "      <td>6.000000</td>\n",
              "      <td>40.000000</td>\n",
              "    </tr>\n",
              "    <tr>\n",
              "      <th>75%</th>\n",
              "      <td>35.000000</td>\n",
              "      <td>18.000000</td>\n",
              "      <td>17.000000</td>\n",
              "      <td>12.000000</td>\n",
              "      <td>43.000000</td>\n",
              "    </tr>\n",
              "    <tr>\n",
              "      <th>max</th>\n",
              "      <td>97.000000</td>\n",
              "      <td>85.000000</td>\n",
              "      <td>50.000000</td>\n",
              "      <td>50.000000</td>\n",
              "      <td>140.000000</td>\n",
              "    </tr>\n",
              "  </tbody>\n",
              "</table>\n",
              "</div>\n",
              "      <button class=\"colab-df-convert\" onclick=\"convertToInteractive('df-0e48f6f4-2382-435b-b2de-ce42e922a531')\"\n",
              "              title=\"Convert this dataframe to an interactive table.\"\n",
              "              style=\"display:none;\">\n",
              "        \n",
              "  <svg xmlns=\"http://www.w3.org/2000/svg\" height=\"24px\"viewBox=\"0 0 24 24\"\n",
              "       width=\"24px\">\n",
              "    <path d=\"M0 0h24v24H0V0z\" fill=\"none\"/>\n",
              "    <path d=\"M18.56 5.44l.94 2.06.94-2.06 2.06-.94-2.06-.94-.94-2.06-.94 2.06-2.06.94zm-11 1L8.5 8.5l.94-2.06 2.06-.94-2.06-.94L8.5 2.5l-.94 2.06-2.06.94zm10 10l.94 2.06.94-2.06 2.06-.94-2.06-.94-.94-2.06-.94 2.06-2.06.94z\"/><path d=\"M17.41 7.96l-1.37-1.37c-.4-.4-.92-.59-1.43-.59-.52 0-1.04.2-1.43.59L10.3 9.45l-7.72 7.72c-.78.78-.78 2.05 0 2.83L4 21.41c.39.39.9.59 1.41.59.51 0 1.02-.2 1.41-.59l7.78-7.78 2.81-2.81c.8-.78.8-2.07 0-2.86zM5.41 20L4 18.59l7.72-7.72 1.47 1.35L5.41 20z\"/>\n",
              "  </svg>\n",
              "      </button>\n",
              "      \n",
              "  <style>\n",
              "    .colab-df-container {\n",
              "      display:flex;\n",
              "      flex-wrap:wrap;\n",
              "      gap: 12px;\n",
              "    }\n",
              "\n",
              "    .colab-df-convert {\n",
              "      background-color: #E8F0FE;\n",
              "      border: none;\n",
              "      border-radius: 50%;\n",
              "      cursor: pointer;\n",
              "      display: none;\n",
              "      fill: #1967D2;\n",
              "      height: 32px;\n",
              "      padding: 0 0 0 0;\n",
              "      width: 32px;\n",
              "    }\n",
              "\n",
              "    .colab-df-convert:hover {\n",
              "      background-color: #E2EBFA;\n",
              "      box-shadow: 0px 1px 2px rgba(60, 64, 67, 0.3), 0px 1px 3px 1px rgba(60, 64, 67, 0.15);\n",
              "      fill: #174EA6;\n",
              "    }\n",
              "\n",
              "    [theme=dark] .colab-df-convert {\n",
              "      background-color: #3B4455;\n",
              "      fill: #D2E3FC;\n",
              "    }\n",
              "\n",
              "    [theme=dark] .colab-df-convert:hover {\n",
              "      background-color: #434B5C;\n",
              "      box-shadow: 0px 1px 3px 1px rgba(0, 0, 0, 0.15);\n",
              "      filter: drop-shadow(0px 1px 2px rgba(0, 0, 0, 0.3));\n",
              "      fill: #FFFFFF;\n",
              "    }\n",
              "  </style>\n",
              "\n",
              "      <script>\n",
              "        const buttonEl =\n",
              "          document.querySelector('#df-0e48f6f4-2382-435b-b2de-ce42e922a531 button.colab-df-convert');\n",
              "        buttonEl.style.display =\n",
              "          google.colab.kernel.accessAllowed ? 'block' : 'none';\n",
              "\n",
              "        async function convertToInteractive(key) {\n",
              "          const element = document.querySelector('#df-0e48f6f4-2382-435b-b2de-ce42e922a531');\n",
              "          const dataTable =\n",
              "            await google.colab.kernel.invokeFunction('convertToInteractive',\n",
              "                                                     [key], {});\n",
              "          if (!dataTable) return;\n",
              "\n",
              "          const docLinkHtml = 'Like what you see? Visit the ' +\n",
              "            '<a target=\"_blank\" href=https://colab.research.google.com/notebooks/data_table.ipynb>data table notebook</a>'\n",
              "            + ' to learn more about interactive tables.';\n",
              "          element.innerHTML = '';\n",
              "          dataTable['output_type'] = 'display_data';\n",
              "          await google.colab.output.renderOutput(dataTable, element);\n",
              "          const docLink = document.createElement('div');\n",
              "          docLink.innerHTML = docLinkHtml;\n",
              "          element.appendChild(docLink);\n",
              "        }\n",
              "      </script>\n",
              "    </div>\n",
              "  </div>\n",
              "  "
            ]
          },
          "metadata": {},
          "execution_count": 140
        }
      ]
    },
    {
      "cell_type": "markdown",
      "source": [
        "The gender column also allows for picking multiple options. We'll remove values containing more than one option to simplify our analysis."
      ],
      "metadata": {
        "id": "T6h78nr5vYUP"
      }
    },
    {
      "cell_type": "code",
      "source": [
        "survey_df.Gender.value_counts()"
      ],
      "metadata": {
        "colab": {
          "base_uri": "https://localhost:8080/"
        },
        "id": "NU4r8JSYvDzW",
        "outputId": "97c70ce3-7b99-41d3-85fe-517831fab976"
      },
      "execution_count": null,
      "outputs": [
        {
          "output_type": "execute_result",
          "data": {
            "text/plain": [
              "Man                                                            45891\n",
              "Woman                                                           3835\n",
              "Non-binary, genderqueer, or gender non-conforming                382\n",
              "Man;Non-binary, genderqueer, or gender non-conforming            121\n",
              "Woman;Non-binary, genderqueer, or gender non-conforming           91\n",
              "Woman;Man                                                         73\n",
              "Woman;Man;Non-binary, genderqueer, or gender non-conforming       23\n",
              "Name: Gender, dtype: int64"
            ]
          },
          "metadata": {},
          "execution_count": 141
        }
      ]
    },
    {
      "cell_type": "code",
      "source": [
        "import numpy as np"
      ],
      "metadata": {
        "id": "D4U9MycivgDJ"
      },
      "execution_count": null,
      "outputs": []
    },
    {
      "cell_type": "code",
      "source": [
        "survey_df.where(~(survey_df.Gender.str.contains(';', na=False)),np.nan, inplace= True)"
      ],
      "metadata": {
        "id": "hlCcX5z8v0nO"
      },
      "execution_count": null,
      "outputs": []
    },
    {
      "cell_type": "markdown",
      "source": [
        "We've now cleaned up and prepared the dataset for analysis. Let's take a look at a sample of rows from the data frame."
      ],
      "metadata": {
        "id": "YUjxdy4duoO1"
      }
    },
    {
      "cell_type": "code",
      "source": [
        "survey_df.sample(5)"
      ],
      "metadata": {
        "id": "UoiRGr9TweXH",
        "colab": {
          "base_uri": "https://localhost:8080/",
          "height": 583
        },
        "outputId": "b22fb265-18e3-4c77-ed65-f200057b6a48"
      },
      "execution_count": null,
      "outputs": [
        {
          "output_type": "execute_result",
          "data": {
            "text/plain": [
              "                  Country   Age Gender  \\\n",
              "1158        United States  16.0    Man   \n",
              "6541        United States  32.0    Man   \n",
              "64054  Hong Kong (S.A.R.)   NaN    NaN   \n",
              "16886              Canada  28.0    Man   \n",
              "25811  Russian Federation  29.0  Woman   \n",
              "\n",
              "                                                 EdLevel  \\\n",
              "1158   Secondary school (e.g. American high school, G...   \n",
              "6541   Some college/university study without earning ...   \n",
              "64054       Bachelor’s degree (B.A., B.S., B.Eng., etc.)   \n",
              "16886    Master’s degree (M.A., M.S., M.Eng., MBA, etc.)   \n",
              "25811    Master’s degree (M.A., M.S., M.Eng., MBA, etc.)   \n",
              "\n",
              "                                          UndergradMajor Hobbyist  Age1stCode  \\\n",
              "1158                                                 NaN      Yes        11.0   \n",
              "6541   Computer science, computer engineering, or sof...      Yes        11.0   \n",
              "64054  Another engineering discipline (such as civil,...      Yes         NaN   \n",
              "16886  Computer science, computer engineering, or sof...      Yes         8.0   \n",
              "25811  Computer science, computer engineering, or sof...      Yes        13.0   \n",
              "\n",
              "       YearsCode  YearsCodePro  \\\n",
              "1158         4.0           NaN   \n",
              "6541        15.0           8.0   \n",
              "64054        NaN           NaN   \n",
              "16886       15.0           NaN   \n",
              "25811       16.0          10.0   \n",
              "\n",
              "                                      LanguageWorkedWith  \\\n",
              "1158           Bash/Shell/PowerShell;C++;HTML/CSS;Python   \n",
              "6541                      HTML/CSS;JavaScript;TypeScript   \n",
              "64054                           HTML/CSS;JavaScript;Rust   \n",
              "16886      Bash/Shell/PowerShell;HTML/CSS;JavaScript;SQL   \n",
              "25811  Bash/Shell/PowerShell;C#;HTML/CSS;JavaScript;S...   \n",
              "\n",
              "                  LanguageDesireNextYear          NEWLearn  \\\n",
              "1158           Bash/Shell/PowerShell;C++  Every few months   \n",
              "6541                Haskell;Julia;Kotlin  Every few months   \n",
              "64054                               Rust  Every few months   \n",
              "16886  Assembly;Go;JavaScript;TypeScript       Once a year   \n",
              "25811                 C#;Rust;TypeScript       Once a year   \n",
              "\n",
              "                                                NEWStuck  \\\n",
              "1158   Visit Stack Overflow;Watch help / tutorial vid...   \n",
              "6541   Play games;Call a coworker or friend;Visit Sta...   \n",
              "64054  Meditate;Go for a walk or other physical activity   \n",
              "16886  Go for a walk or other physical activity;Do ot...   \n",
              "25811  Visit Stack Overflow;Watch help / tutorial videos   \n",
              "\n",
              "                               Employment  \\\n",
              "1158                              Student   \n",
              "6541                   Employed full-time   \n",
              "64054                  Employed full-time   \n",
              "16886  Not employed, but looking for work   \n",
              "25811                  Employed full-time   \n",
              "\n",
              "                                                 DevType  WorkWeekHrs  \\\n",
              "1158                                                 NaN          NaN   \n",
              "6541   Developer, front-end;Developer, full-stack;Dev...         40.0   \n",
              "64054                                                NaN          NaN   \n",
              "16886  Database administrator;Developer, back-end;Dev...          NaN   \n",
              "25811  Developer, back-end;Developer, front-end;Devel...         40.0   \n",
              "\n",
              "                                   JobSat  \\\n",
              "1158                                  NaN   \n",
              "6541   Neither satisfied nor dissatisfied   \n",
              "64054                                 NaN   \n",
              "16886                                 NaN   \n",
              "25811                  Slightly satisfied   \n",
              "\n",
              "                                              JobFactors  \\\n",
              "1158                                                 NaN   \n",
              "6541   Diversity of the company or organization;Flex ...   \n",
              "64054                                                NaN   \n",
              "16886                                                NaN   \n",
              "25811  Flex time or a flexible schedule;Languages, fr...   \n",
              "\n",
              "                             NEWOvertime           NEWEdImpt  \n",
              "1158                                 NaN                 NaN  \n",
              "6541                               Never  Somewhat important  \n",
              "64054                                NaN  Somewhat important  \n",
              "16886                                NaN      Very important  \n",
              "25811  Rarely: 1-2 days per year or less  Somewhat important  "
            ],
            "text/html": [
              "\n",
              "  <div id=\"df-e0b165b4-b8e6-4edb-a52e-fd107a0476cb\">\n",
              "    <div class=\"colab-df-container\">\n",
              "      <div>\n",
              "<style scoped>\n",
              "    .dataframe tbody tr th:only-of-type {\n",
              "        vertical-align: middle;\n",
              "    }\n",
              "\n",
              "    .dataframe tbody tr th {\n",
              "        vertical-align: top;\n",
              "    }\n",
              "\n",
              "    .dataframe thead th {\n",
              "        text-align: right;\n",
              "    }\n",
              "</style>\n",
              "<table border=\"1\" class=\"dataframe\">\n",
              "  <thead>\n",
              "    <tr style=\"text-align: right;\">\n",
              "      <th></th>\n",
              "      <th>Country</th>\n",
              "      <th>Age</th>\n",
              "      <th>Gender</th>\n",
              "      <th>EdLevel</th>\n",
              "      <th>UndergradMajor</th>\n",
              "      <th>Hobbyist</th>\n",
              "      <th>Age1stCode</th>\n",
              "      <th>YearsCode</th>\n",
              "      <th>YearsCodePro</th>\n",
              "      <th>LanguageWorkedWith</th>\n",
              "      <th>LanguageDesireNextYear</th>\n",
              "      <th>NEWLearn</th>\n",
              "      <th>NEWStuck</th>\n",
              "      <th>Employment</th>\n",
              "      <th>DevType</th>\n",
              "      <th>WorkWeekHrs</th>\n",
              "      <th>JobSat</th>\n",
              "      <th>JobFactors</th>\n",
              "      <th>NEWOvertime</th>\n",
              "      <th>NEWEdImpt</th>\n",
              "    </tr>\n",
              "  </thead>\n",
              "  <tbody>\n",
              "    <tr>\n",
              "      <th>1158</th>\n",
              "      <td>United States</td>\n",
              "      <td>16.0</td>\n",
              "      <td>Man</td>\n",
              "      <td>Secondary school (e.g. American high school, G...</td>\n",
              "      <td>NaN</td>\n",
              "      <td>Yes</td>\n",
              "      <td>11.0</td>\n",
              "      <td>4.0</td>\n",
              "      <td>NaN</td>\n",
              "      <td>Bash/Shell/PowerShell;C++;HTML/CSS;Python</td>\n",
              "      <td>Bash/Shell/PowerShell;C++</td>\n",
              "      <td>Every few months</td>\n",
              "      <td>Visit Stack Overflow;Watch help / tutorial vid...</td>\n",
              "      <td>Student</td>\n",
              "      <td>NaN</td>\n",
              "      <td>NaN</td>\n",
              "      <td>NaN</td>\n",
              "      <td>NaN</td>\n",
              "      <td>NaN</td>\n",
              "      <td>NaN</td>\n",
              "    </tr>\n",
              "    <tr>\n",
              "      <th>6541</th>\n",
              "      <td>United States</td>\n",
              "      <td>32.0</td>\n",
              "      <td>Man</td>\n",
              "      <td>Some college/university study without earning ...</td>\n",
              "      <td>Computer science, computer engineering, or sof...</td>\n",
              "      <td>Yes</td>\n",
              "      <td>11.0</td>\n",
              "      <td>15.0</td>\n",
              "      <td>8.0</td>\n",
              "      <td>HTML/CSS;JavaScript;TypeScript</td>\n",
              "      <td>Haskell;Julia;Kotlin</td>\n",
              "      <td>Every few months</td>\n",
              "      <td>Play games;Call a coworker or friend;Visit Sta...</td>\n",
              "      <td>Employed full-time</td>\n",
              "      <td>Developer, front-end;Developer, full-stack;Dev...</td>\n",
              "      <td>40.0</td>\n",
              "      <td>Neither satisfied nor dissatisfied</td>\n",
              "      <td>Diversity of the company or organization;Flex ...</td>\n",
              "      <td>Never</td>\n",
              "      <td>Somewhat important</td>\n",
              "    </tr>\n",
              "    <tr>\n",
              "      <th>64054</th>\n",
              "      <td>Hong Kong (S.A.R.)</td>\n",
              "      <td>NaN</td>\n",
              "      <td>NaN</td>\n",
              "      <td>Bachelor’s degree (B.A., B.S., B.Eng., etc.)</td>\n",
              "      <td>Another engineering discipline (such as civil,...</td>\n",
              "      <td>Yes</td>\n",
              "      <td>NaN</td>\n",
              "      <td>NaN</td>\n",
              "      <td>NaN</td>\n",
              "      <td>HTML/CSS;JavaScript;Rust</td>\n",
              "      <td>Rust</td>\n",
              "      <td>Every few months</td>\n",
              "      <td>Meditate;Go for a walk or other physical activity</td>\n",
              "      <td>Employed full-time</td>\n",
              "      <td>NaN</td>\n",
              "      <td>NaN</td>\n",
              "      <td>NaN</td>\n",
              "      <td>NaN</td>\n",
              "      <td>NaN</td>\n",
              "      <td>Somewhat important</td>\n",
              "    </tr>\n",
              "    <tr>\n",
              "      <th>16886</th>\n",
              "      <td>Canada</td>\n",
              "      <td>28.0</td>\n",
              "      <td>Man</td>\n",
              "      <td>Master’s degree (M.A., M.S., M.Eng., MBA, etc.)</td>\n",
              "      <td>Computer science, computer engineering, or sof...</td>\n",
              "      <td>Yes</td>\n",
              "      <td>8.0</td>\n",
              "      <td>15.0</td>\n",
              "      <td>NaN</td>\n",
              "      <td>Bash/Shell/PowerShell;HTML/CSS;JavaScript;SQL</td>\n",
              "      <td>Assembly;Go;JavaScript;TypeScript</td>\n",
              "      <td>Once a year</td>\n",
              "      <td>Go for a walk or other physical activity;Do ot...</td>\n",
              "      <td>Not employed, but looking for work</td>\n",
              "      <td>Database administrator;Developer, back-end;Dev...</td>\n",
              "      <td>NaN</td>\n",
              "      <td>NaN</td>\n",
              "      <td>NaN</td>\n",
              "      <td>NaN</td>\n",
              "      <td>Very important</td>\n",
              "    </tr>\n",
              "    <tr>\n",
              "      <th>25811</th>\n",
              "      <td>Russian Federation</td>\n",
              "      <td>29.0</td>\n",
              "      <td>Woman</td>\n",
              "      <td>Master’s degree (M.A., M.S., M.Eng., MBA, etc.)</td>\n",
              "      <td>Computer science, computer engineering, or sof...</td>\n",
              "      <td>Yes</td>\n",
              "      <td>13.0</td>\n",
              "      <td>16.0</td>\n",
              "      <td>10.0</td>\n",
              "      <td>Bash/Shell/PowerShell;C#;HTML/CSS;JavaScript;S...</td>\n",
              "      <td>C#;Rust;TypeScript</td>\n",
              "      <td>Once a year</td>\n",
              "      <td>Visit Stack Overflow;Watch help / tutorial videos</td>\n",
              "      <td>Employed full-time</td>\n",
              "      <td>Developer, back-end;Developer, front-end;Devel...</td>\n",
              "      <td>40.0</td>\n",
              "      <td>Slightly satisfied</td>\n",
              "      <td>Flex time or a flexible schedule;Languages, fr...</td>\n",
              "      <td>Rarely: 1-2 days per year or less</td>\n",
              "      <td>Somewhat important</td>\n",
              "    </tr>\n",
              "  </tbody>\n",
              "</table>\n",
              "</div>\n",
              "      <button class=\"colab-df-convert\" onclick=\"convertToInteractive('df-e0b165b4-b8e6-4edb-a52e-fd107a0476cb')\"\n",
              "              title=\"Convert this dataframe to an interactive table.\"\n",
              "              style=\"display:none;\">\n",
              "        \n",
              "  <svg xmlns=\"http://www.w3.org/2000/svg\" height=\"24px\"viewBox=\"0 0 24 24\"\n",
              "       width=\"24px\">\n",
              "    <path d=\"M0 0h24v24H0V0z\" fill=\"none\"/>\n",
              "    <path d=\"M18.56 5.44l.94 2.06.94-2.06 2.06-.94-2.06-.94-.94-2.06-.94 2.06-2.06.94zm-11 1L8.5 8.5l.94-2.06 2.06-.94-2.06-.94L8.5 2.5l-.94 2.06-2.06.94zm10 10l.94 2.06.94-2.06 2.06-.94-2.06-.94-.94-2.06-.94 2.06-2.06.94z\"/><path d=\"M17.41 7.96l-1.37-1.37c-.4-.4-.92-.59-1.43-.59-.52 0-1.04.2-1.43.59L10.3 9.45l-7.72 7.72c-.78.78-.78 2.05 0 2.83L4 21.41c.39.39.9.59 1.41.59.51 0 1.02-.2 1.41-.59l7.78-7.78 2.81-2.81c.8-.78.8-2.07 0-2.86zM5.41 20L4 18.59l7.72-7.72 1.47 1.35L5.41 20z\"/>\n",
              "  </svg>\n",
              "      </button>\n",
              "      \n",
              "  <style>\n",
              "    .colab-df-container {\n",
              "      display:flex;\n",
              "      flex-wrap:wrap;\n",
              "      gap: 12px;\n",
              "    }\n",
              "\n",
              "    .colab-df-convert {\n",
              "      background-color: #E8F0FE;\n",
              "      border: none;\n",
              "      border-radius: 50%;\n",
              "      cursor: pointer;\n",
              "      display: none;\n",
              "      fill: #1967D2;\n",
              "      height: 32px;\n",
              "      padding: 0 0 0 0;\n",
              "      width: 32px;\n",
              "    }\n",
              "\n",
              "    .colab-df-convert:hover {\n",
              "      background-color: #E2EBFA;\n",
              "      box-shadow: 0px 1px 2px rgba(60, 64, 67, 0.3), 0px 1px 3px 1px rgba(60, 64, 67, 0.15);\n",
              "      fill: #174EA6;\n",
              "    }\n",
              "\n",
              "    [theme=dark] .colab-df-convert {\n",
              "      background-color: #3B4455;\n",
              "      fill: #D2E3FC;\n",
              "    }\n",
              "\n",
              "    [theme=dark] .colab-df-convert:hover {\n",
              "      background-color: #434B5C;\n",
              "      box-shadow: 0px 1px 3px 1px rgba(0, 0, 0, 0.15);\n",
              "      filter: drop-shadow(0px 1px 2px rgba(0, 0, 0, 0.3));\n",
              "      fill: #FFFFFF;\n",
              "    }\n",
              "  </style>\n",
              "\n",
              "      <script>\n",
              "        const buttonEl =\n",
              "          document.querySelector('#df-e0b165b4-b8e6-4edb-a52e-fd107a0476cb button.colab-df-convert');\n",
              "        buttonEl.style.display =\n",
              "          google.colab.kernel.accessAllowed ? 'block' : 'none';\n",
              "\n",
              "        async function convertToInteractive(key) {\n",
              "          const element = document.querySelector('#df-e0b165b4-b8e6-4edb-a52e-fd107a0476cb');\n",
              "          const dataTable =\n",
              "            await google.colab.kernel.invokeFunction('convertToInteractive',\n",
              "                                                     [key], {});\n",
              "          if (!dataTable) return;\n",
              "\n",
              "          const docLinkHtml = 'Like what you see? Visit the ' +\n",
              "            '<a target=\"_blank\" href=https://colab.research.google.com/notebooks/data_table.ipynb>data table notebook</a>'\n",
              "            + ' to learn more about interactive tables.';\n",
              "          element.innerHTML = '';\n",
              "          dataTable['output_type'] = 'display_data';\n",
              "          await google.colab.output.renderOutput(dataTable, element);\n",
              "          const docLink = document.createElement('div');\n",
              "          docLink.innerHTML = docLinkHtml;\n",
              "          element.appendChild(docLink);\n",
              "        }\n",
              "      </script>\n",
              "    </div>\n",
              "  </div>\n",
              "  "
            ]
          },
          "metadata": {},
          "execution_count": 144
        }
      ]
    },
    {
      "cell_type": "markdown",
      "source": [
        "## Exploratory Analysis and Visualization\n",
        "\n",
        "Before we ask questions about the survey responses, it would help to understand the respondents' demographics, i.e., country, age, gender, education level, employment level, etc. It's essential to explore these variables to understand how representative the survey is of the worldwide programming community. A survey of this scale generally tends to have some [selection bias](https://en.wikipedia.org/wiki/Selection_bias).\n",
        "\n",
        "Let's begin by importing `matplotlib.pyplot` and `seaborn`."
      ],
      "metadata": {
        "id": "i4VpfwcuvDB0"
      }
    },
    {
      "cell_type": "code",
      "source": [
        "import seaborn as sns\n",
        "import matplotlib\n",
        "import matplotlib.pyplot as plt\n",
        "%matplotlib inline"
      ],
      "metadata": {
        "id": "7USMcDNCuUYI"
      },
      "execution_count": null,
      "outputs": []
    },
    {
      "cell_type": "code",
      "source": [
        "sns.set_style('darkgrid')\n",
        "matplotlib.rcParams['font.size'] = 14\n",
        "matplotlib.rcParams['figure.figsize'] = (9,5)\n",
        "matplotlib.rcParams['figure.facecolor'] = '#00000000'"
      ],
      "metadata": {
        "id": "tpfBukef79kg"
      },
      "execution_count": null,
      "outputs": []
    },
    {
      "cell_type": "code",
      "source": [
        "## Number of unic Value\n",
        "survey_df.Country.nunique()"
      ],
      "metadata": {
        "colab": {
          "base_uri": "https://localhost:8080/"
        },
        "id": "AckVr_Oo8KeU",
        "outputId": "b4174c0e-eaa4-44ea-e8de-b62f293230bb"
      },
      "execution_count": null,
      "outputs": [
        {
          "output_type": "execute_result",
          "data": {
            "text/plain": [
              "183"
            ]
          },
          "metadata": {},
          "execution_count": 147
        }
      ]
    },
    {
      "cell_type": "markdown",
      "source": [
        "We can identify the countries with the highest number of respondents using the **value_counts** method."
      ],
      "metadata": {
        "id": "StwTxVyyAJ-N"
      }
    },
    {
      "cell_type": "code",
      "source": [
        "top_countries= survey_df.Country.value_counts().head(10)\n",
        "top_countries"
      ],
      "metadata": {
        "colab": {
          "base_uri": "https://localhost:8080/"
        },
        "id": "2oAxTojq_2d7",
        "outputId": "63b5be5a-aac1-48d4-9841-cb68ded6ca1d"
      },
      "execution_count": null,
      "outputs": [
        {
          "output_type": "execute_result",
          "data": {
            "text/plain": [
              "United States     12370\n",
              "India              8360\n",
              "United Kingdom     3879\n",
              "Germany            3864\n",
              "Canada             2175\n",
              "France             1884\n",
              "Brazil             1804\n",
              "Netherlands        1332\n",
              "Poland             1259\n",
              "Australia          1199\n",
              "Name: Country, dtype: int64"
            ]
          },
          "metadata": {},
          "execution_count": 148
        }
      ]
    },
    {
      "cell_type": "markdown",
      "source": [
        "We can visualize this information using a bar chart."
      ],
      "metadata": {
        "id": "SGKuq_AQA1DP"
      }
    },
    {
      "cell_type": "code",
      "source": [
        "plt.figure(figsize=(12,8))\n",
        "plt.title(schema.Country)\n",
        "plt.xticks(rotation = 45)\n",
        "sns.barplot(x= top_countries.index, y= top_countries);"
      ],
      "metadata": {
        "colab": {
          "base_uri": "https://localhost:8080/",
          "height": 582
        },
        "id": "R6SmMrSxAoLn",
        "outputId": "ba0f1232-3c5e-4884-95d4-cad0b77ca7b5"
      },
      "execution_count": null,
      "outputs": [
        {
          "output_type": "display_data",
          "data": {
            "text/plain": [
              "<Figure size 864x576 with 1 Axes>"
            ],
            "image/png": "[encoded data removed]"
          },
          "metadata": {
            "needs_background": "light"
          }
        }
      ]
    },
    {
      "cell_type": "markdown",
      "source": [
        "It appears that a disproportionately high number of respondents are from the US and India, probably because the survey is in English, and these countries have the highest English-speaking populations. We can already see that the survey may not be representative of the global programming community - especially from non-English speaking countries. Programmers from non-English speaking countries are almost certainly underrepresented.\n",
        "\n",
        "**Exercise**:\n",
        "Try finding the percentage of responses from English-speaking vs. non-English speaking countries. You can use [this list of languages spoken in different countries](https://github.com/JovianML/opendatasets/blob/master/data/countries-languages-spoken/countries-languages.csv)."
      ],
      "metadata": {
        "id": "jI0pPmxoHPvy"
      }
    },
    {
      "cell_type": "markdown",
      "source": [
        "### Age\n",
        "\n",
        "The distribution of respondents' age is another crucial factor to look at. We can use a histogram to visualize it."
      ],
      "metadata": {
        "id": "1eA1p3S-HPsN"
      }
    },
    {
      "cell_type": "code",
      "source": [
        "plt.figure(figsize= (12,8))\n",
        "plt.title('Distribution of Ages')\n",
        "plt.xlabel('Age')\n",
        "plt.ylabel('Number of respondents')\n",
        "plt.hist(survey_df.Age, bins= np.arange(10,80,5), color='purple');"
      ],
      "metadata": {
        "colab": {
          "base_uri": "https://localhost:8080/",
          "height": 525
        },
        "id": "G_ZHMvxlBKPw",
        "outputId": "5a12c6e4-2982-47e9-d82e-ecde75b12f0c"
      },
      "execution_count": null,
      "outputs": [
        {
          "output_type": "display_data",
          "data": {
            "text/plain": [
              "<Figure size 864x576 with 1 Axes>"
            ],
            "image/png": "[encoded data removed]"
          },
          "metadata": {
            "needs_background": "light"
          }
        }
      ]
    },
    {
      "cell_type": "markdown",
      "source": [
        "It appears that a large percentage of respondents are 20-45 years old. It's somewhat representative of the programming community in general. Many young people have taken up computer science as their field of study or profession in the last 20 years.\n",
        "\n",
        "**Exercise**: You may want to filter out responses by age (or age group) if you'd like to analyze and compare the survey results for different age groups. Create a new column called AgeGroup containing values like `Less than 10 years`, `10-18 years`, `18-30 years`, `30-45 years`, `45-60 years` and `Older than 60 years`. Then, repeat the analysis in the rest of this notebook for each age group."
      ],
      "metadata": {
        "id": "A2w9aeEoJVbT"
      }
    },
    {
      "cell_type": "markdown",
      "source": [
        "### Gender\n",
        "\n",
        "Let's look at the distribution of responses for the Gender. It's a well-known fact that women and non-binary genders are underrepresented in the programming community, so we might expect to see a skewed distribution here."
      ],
      "metadata": {
        "id": "aDwFoyjAJWSG"
      }
    },
    {
      "cell_type": "code",
      "source": [
        "schema.Gender"
      ],
      "metadata": {
        "colab": {
          "base_uri": "https://localhost:8080/",
          "height": 35
        },
        "id": "4f0dSzwNLe5U",
        "outputId": "7a08a0ad-777d-40d0-f494-cfe30c0dabe7"
      },
      "execution_count": null,
      "outputs": [
        {
          "output_type": "execute_result",
          "data": {
            "text/plain": [
              "'Which of the following describe you, if any? Please check all that apply. If you prefer not to answer, you may leave this question blank.'"
            ],
            "application/vnd.google.colaboratory.intrinsic+json": {
              "type": "string"
            }
          },
          "metadata": {},
          "execution_count": 151
        }
      ]
    },
    {
      "cell_type": "code",
      "source": [
        "gender_counts= survey_df.Gender.value_counts()\n",
        "gender_counts"
      ],
      "metadata": {
        "colab": {
          "base_uri": "https://localhost:8080/"
        },
        "id": "WVJpEUusLv8b",
        "outputId": "c89de420-937e-4059-f45e-7e1a25612a12"
      },
      "execution_count": null,
      "outputs": [
        {
          "output_type": "execute_result",
          "data": {
            "text/plain": [
              "Man                                                  45891\n",
              "Woman                                                 3835\n",
              "Non-binary, genderqueer, or gender non-conforming      382\n",
              "Name: Gender, dtype: int64"
            ]
          },
          "metadata": {},
          "execution_count": 152
        }
      ]
    },
    {
      "cell_type": "code",
      "source": [
        "plt.figure(figsize=(12,6))\n",
        "plt.title(schema.Gender)\n",
        "plt.pie(gender_counts, labels=gender_counts.index, autopct='%1.1f%%', startangle=180);"
      ],
      "metadata": {
        "colab": {
          "base_uri": "https://localhost:8080/",
          "height": 377
        },
        "id": "c2eI2y6ULJZO",
        "outputId": "a5de23b0-25d4-43ab-8819-5c678fcab09d"
      },
      "execution_count": null,
      "outputs": [
        {
          "output_type": "display_data",
          "data": {
            "text/plain": [
              "<Figure size 864x432 with 1 Axes>"
            ],
            "image/png": "[encoded data removed]"
          },
          "metadata": {}
        }
      ]
    },
    {
      "cell_type": "markdown",
      "source": [
        "Only about 8% of survey respondents who have answered the question identify as women or non-binary. This number is lower than the overall percentage of women & non-binary genders in the programming community - which is estimated to be around 12%.\n",
        "\n",
        "**Exercise**: It would be interesting to compare the survey responses & preferences across genders. Repeat this analysis with these breakdowns. How do the relative education levels differ across genders? How do the salaries vary? You may find this analysis on the [Gender Divide in Data Science](https://medium.com/datadriveninvestor/exploratory-data-analysis-eda-understanding-the-gender-divide-in-data-science-roles-9faa5da44f5b) useful."
      ],
      "metadata": {
        "id": "O6CFjpjfXygH"
      }
    },
    {
      "cell_type": "markdown",
      "source": [
        "### Education Level\n",
        "\n",
        "Formal education in computer science is often considered an essential requirement for becoming a programmer. However, there are many free resources & tutorials available online to learn programming. Let's compare the education levels of respondents to gain some insight into this. We'll use a horizontal bar plot here."
      ],
      "metadata": {
        "id": "QpLSpzlPX0se"
      }
    },
    {
      "cell_type": "code",
      "source": [
        "survey_df.EdLevel"
      ],
      "metadata": {
        "colab": {
          "base_uri": "https://localhost:8080/"
        },
        "id": "sIwVRNjALNwh",
        "outputId": "3df944e8-d462-49f5-9c06-b7ea608b2855"
      },
      "execution_count": null,
      "outputs": [
        {
          "output_type": "execute_result",
          "data": {
            "text/plain": [
              "0        Master’s degree (M.A., M.S., M.Eng., MBA, etc.)\n",
              "1           Bachelor’s degree (B.A., B.S., B.Eng., etc.)\n",
              "2                                                    NaN\n",
              "3        Master’s degree (M.A., M.S., M.Eng., MBA, etc.)\n",
              "4           Bachelor’s degree (B.A., B.S., B.Eng., etc.)\n",
              "                              ...                       \n",
              "64456    Master’s degree (M.A., M.S., M.Eng., MBA, etc.)\n",
              "64457                                                NaN\n",
              "64458                          Primary/elementary school\n",
              "64459                                                NaN\n",
              "64460         Other doctoral degree (Ph.D., Ed.D., etc.)\n",
              "Name: EdLevel, Length: 64291, dtype: object"
            ]
          },
          "metadata": {},
          "execution_count": 154
        }
      ]
    },
    {
      "cell_type": "code",
      "source": [
        "sns.countplot(y=survey_df.EdLevel)\n",
        "plt.xticks(rotation=75);\n",
        "plt.title(schema['EdLevel'])\n",
        "plt.ylabel(None);"
      ],
      "metadata": {
        "colab": {
          "base_uri": "https://localhost:8080/",
          "height": 379
        },
        "id": "lw4d325gYjGs",
        "outputId": "6fe19b85-80d7-4035-c30b-e6bc40ada664"
      },
      "execution_count": null,
      "outputs": [
        {
          "output_type": "display_data",
          "data": {
            "text/plain": [
              "<Figure size 648x360 with 1 Axes>"
            ],
            "image/png": "[encoded data removed]"
          },
          "metadata": {
            "needs_background": "light"
          }
        }
      ]
    },
    {
      "cell_type": "code",
      "source": [
        "sns.countplot(y= survey_df.EdLevel)\n",
        "plt.xticks(rotation=55)\n",
        "plt.title(schema.EdLevel)\n",
        "plt.ylabel(None);"
      ],
      "metadata": {
        "colab": {
          "base_uri": "https://localhost:8080/",
          "height": 377
        },
        "id": "bqHnlqgrZiw3",
        "outputId": "7702747e-9d5e-40b9-da12-96a39575af77"
      },
      "execution_count": null,
      "outputs": [
        {
          "output_type": "display_data",
          "data": {
            "text/plain": [
              "<Figure size 648x360 with 1 Axes>"
            ],
            "image/png": "[encoded data removed]"
          },
          "metadata": {
            "needs_background": "light"
          }
        }
      ]
    },
    {
      "cell_type": "markdown",
      "source": [
        "It appears that well over half of the respondents hold a bachelor's or master's degree, so most programmers seem to have some college education. However, it's not clear from this graph alone if they hold a degree in computer science.\n",
        "\n",
        "**Exercises**: The graph currently shows the number of respondents for each option. Can you modify it to show the percentage instead? Further, try comparing the percentages for each degree for men vs. women."
      ],
      "metadata": {
        "id": "NrYuHApdfcPC"
      }
    },
    {
      "cell_type": "markdown",
      "source": [
        "Let's also plot undergraduate majors, but this time we'll convert the numbers into percentages and sort the values to make it easier to visualize the order."
      ],
      "metadata": {
        "id": "DQg7YTUMgFx5"
      }
    },
    {
      "cell_type": "code",
      "source": [
        "schema.UndergradMajor"
      ],
      "metadata": {
        "colab": {
          "base_uri": "https://localhost:8080/",
          "height": 35
        },
        "id": "NxpQ24OKeSaS",
        "outputId": "9da49c94-82f8-4710-9253-0bbe6968c7f7"
      },
      "execution_count": null,
      "outputs": [
        {
          "output_type": "execute_result",
          "data": {
            "text/plain": [
              "'What was your primary field of study?'"
            ],
            "application/vnd.google.colaboratory.intrinsic+json": {
              "type": "string"
            }
          },
          "metadata": {},
          "execution_count": 157
        }
      ]
    },
    {
      "cell_type": "code",
      "source": [
        "survey_df.UndergradMajor.count()"
      ],
      "metadata": {
        "colab": {
          "base_uri": "https://localhost:8080/"
        },
        "id": "IEXZmcVA5ZAV",
        "outputId": "b3304b0a-fcd9-4d24-f2da-0ade85d50118"
      },
      "execution_count": null,
      "outputs": [
        {
          "output_type": "execute_result",
          "data": {
            "text/plain": [
              "50612"
            ]
          },
          "metadata": {},
          "execution_count": 158
        }
      ]
    },
    {
      "cell_type": "code",
      "source": [
        "undergrad_pct = survey_df.UndergradMajor.value_counts() * 100 / survey_df.UndergradMajor.count()\n",
        "sns.barplot(x= undergrad_pct, y= undergrad_pct.index)\n",
        "\n",
        "plt.title(schema.UndergradMajor)\n",
        "plt.xlabel(None)\n",
        "plt.ylabel('percentage')"
      ],
      "metadata": {
        "colab": {
          "base_uri": "https://localhost:8080/",
          "height": 361
        },
        "id": "kq9wsOKvgrCF",
        "outputId": "716af311-1a35-4546-aa0c-62c28a408d54"
      },
      "execution_count": null,
      "outputs": [
        {
          "output_type": "execute_result",
          "data": {
            "text/plain": [
              "Text(0, 0.5, 'percentage')"
            ]
          },
          "metadata": {},
          "execution_count": 159
        },
        {
          "output_type": "display_data",
          "data": {
            "text/plain": [
              "<Figure size 648x360 with 1 Axes>"
            ],
            "image/png": "[encoded data removed]"
          },
          "metadata": {
            "needs_background": "light"
          }
        }
      ]
    },
    {
      "cell_type": "markdown",
      "source": [
        "It turns out that 40% of programmers holding a college degree have a field of study other than computer science - which is very encouraging. It seems to suggest that while a college education is helpful in general, you do not need to pursue a major in computer science to become a successful programmer.\n",
        "\n",
        "**Exercises**: Analyze the `NEWEdImpt` column for respondents who hold some college degree vs. those who don't. Do you notice any difference in opinion?"
      ],
      "metadata": {
        "id": "SdgO_T5p-EWh"
      }
    },
    {
      "cell_type": "markdown",
      "source": [
        "### Employment\n",
        "\n",
        "Freelancing or contract work is a common choice among programmers, so it would be interesting to compare the breakdown between full-time, part-time, and freelance work. Let's visualize the data from the `Employment` column."
      ],
      "metadata": {
        "id": "uz-Vxva4-Hwt"
      }
    },
    {
      "cell_type": "code",
      "source": [
        "schema.Employment"
      ],
      "metadata": {
        "colab": {
          "base_uri": "https://localhost:8080/",
          "height": 35
        },
        "id": "pOmSP1-16Y0H",
        "outputId": "72ce3069-1cf6-4a2c-c76b-34fd9c7c767d"
      },
      "execution_count": null,
      "outputs": [
        {
          "output_type": "execute_result",
          "data": {
            "text/plain": [
              "'Which of the following best describes your current employment status?'"
            ],
            "application/vnd.google.colaboratory.intrinsic+json": {
              "type": "string"
            }
          },
          "metadata": {},
          "execution_count": 160
        }
      ]
    },
    {
      "cell_type": "code",
      "source": [
        "survey_df.Employment.unique()"
      ],
      "metadata": {
        "colab": {
          "base_uri": "https://localhost:8080/"
        },
        "id": "xOd6jVFL-sCO",
        "outputId": "4feda724-cdb3-406b-8bdb-01ac3340ce8d"
      },
      "execution_count": null,
      "outputs": [
        {
          "output_type": "execute_result",
          "data": {
            "text/plain": [
              "array(['Independent contractor, freelancer, or self-employed',\n",
              "       'Employed full-time', nan, 'Student',\n",
              "       'Not employed, but looking for work', 'Employed part-time',\n",
              "       'Retired', 'Not employed, and not looking for work'], dtype=object)"
            ]
          },
          "metadata": {},
          "execution_count": 161
        }
      ]
    },
    {
      "cell_type": "code",
      "source": [
        "(survey_df.Employment.value_counts(normalize=True, ascending= True)*100).plot(kind= 'barh', color='g')\n",
        "plt.title(schema.Employment)\n",
        "plt.xlabel('Percentage')"
      ],
      "metadata": {
        "colab": {
          "base_uri": "https://localhost:8080/",
          "height": 379
        },
        "id": "wYBRBDBQ_hgQ",
        "outputId": "a23469ed-e67a-4370-8530-bc2c170e9da5"
      },
      "execution_count": null,
      "outputs": [
        {
          "output_type": "execute_result",
          "data": {
            "text/plain": [
              "Text(0.5, 0, 'Percentage')"
            ]
          },
          "metadata": {},
          "execution_count": 162
        },
        {
          "output_type": "display_data",
          "data": {
            "text/plain": [
              "<Figure size 648x360 with 1 Axes>"
            ],
            "image/png": "[encoded data removed]"
          },
          "metadata": {
            "needs_background": "light"
          }
        }
      ]
    },
    {
      "cell_type": "markdown",
      "source": [
        "It appears that close to 10% of respondents are employed part time or as freelancers.\n",
        "\n",
        "**Exercise**: Add a new column `EmploymentType` containing the values `Enthusiast` (student or not employed but looking for work), `Professional` (employed full-time, part-time or freelancing), and `Other` (not employed or retired). For each of the graphs that follow, show a comparison between `Enthusiast` and `Professional`.\n"
      ],
      "metadata": {
        "id": "-9F0jnojTLAD"
      }
    },
    {
      "cell_type": "markdown",
      "source": [
        "The `DevType` field contains information about the roles held by respondents. Since the question allows multiple answers, the column contains lists of values separated by a semi-colon `;`, making it a bit harder to analyze directly."
      ],
      "metadata": {
        "id": "7XdfdpX4Up55"
      }
    },
    {
      "cell_type": "code",
      "source": [
        "schema.DevType"
      ],
      "metadata": {
        "colab": {
          "base_uri": "https://localhost:8080/",
          "height": 35
        },
        "id": "mRvzzLeYVpRm",
        "outputId": "14571741-091b-43ad-a804-4cdb8a756ee6"
      },
      "execution_count": null,
      "outputs": [
        {
          "output_type": "execute_result",
          "data": {
            "text/plain": [
              "'Which of the following describe you? Please select all that apply.'"
            ],
            "application/vnd.google.colaboratory.intrinsic+json": {
              "type": "string"
            }
          },
          "metadata": {},
          "execution_count": 163
        }
      ]
    },
    {
      "cell_type": "code",
      "source": [
        "survey_df.DevType.value_counts()"
      ],
      "metadata": {
        "colab": {
          "base_uri": "https://localhost:8080/"
        },
        "id": "LRL0HTEHVrxn",
        "outputId": "2b51c65c-616b-4f83-aecd-2ea41a15efb2"
      },
      "execution_count": null,
      "outputs": [
        {
          "output_type": "execute_result",
          "data": {
            "text/plain": [
              "Developer, full-stack                                                                                                                                                           4395\n",
              "Developer, back-end                                                                                                                                                             3056\n",
              "Developer, back-end;Developer, front-end;Developer, full-stack                                                                                                                  2214\n",
              "Developer, back-end;Developer, full-stack                                                                                                                                       1465\n",
              "Developer, front-end                                                                                                                                                            1390\n",
              "                                                                                                                                                                                ... \n",
              "Database administrator;Developer, back-end;Developer, front-end;Developer, full-stack;Developer, QA or test;Senior executive/VP                                                    1\n",
              "Database administrator;Developer, back-end;Developer, front-end;Developer, full-stack;Product manager;Senior executive/VP                                                          1\n",
              "Developer, back-end;Developer, full-stack;Developer, mobile;DevOps specialist;Educator;System administrator                                                                        1\n",
              "Data or business analyst;Database administrator;Developer, back-end;Developer, desktop or enterprise applications;Developer, front-end;Developer, mobile;Engineering manager       1\n",
              "Data or business analyst;Developer, mobile;Senior executive/VP;System administrator                                                                                                1\n",
              "Name: DevType, Length: 8213, dtype: int64"
            ]
          },
          "metadata": {},
          "execution_count": 164
        }
      ]
    },
    {
      "cell_type": "markdown",
      "source": [
        "There are so many entity in a single column. Its difficult to works with them. Thts why we use **split_multicolumn** Function. Here it makes single column for each entity of column &  makes a row for each respomdent/user who put ans here."
      ],
      "metadata": {
        "id": "NlR-wj-xWjpu"
      }
    },
    {
      "cell_type": "markdown",
      "source": [
        "Let's define a helper function that turns a column containing lists of values (like `survey_df.DevType`) into a data frame with one column for each possible option."
      ],
      "metadata": {
        "id": "de5jzq-yWiFT"
      }
    },
    {
      "cell_type": "code",
      "source": [],
      "metadata": {
        "id": "8RJZtAKKWBOu"
      },
      "execution_count": null,
      "outputs": []
    },
    {
      "cell_type": "code",
      "source": [
        "import pandas as pd\n",
        "\n",
        "def split_multicolumn(df_col):\n",
        "    \"\"\"\n",
        "    Split values in a pandas DataFrame column that contain multiple values separated by semicolons into separate columns.\n",
        "    \"\"\"\n",
        "    # split values on semicolon and expand into multiple columns\n",
        "    split_cols = df_col.str.split(';', expand=True)\n",
        "    # add prefix to column names to indicate original column\n",
        "    split_cols = split_cols.add_prefix(df_col.name + '_')\n",
        "    # return resulting DataFrame\n",
        "    return split_cols\n"
      ],
      "metadata": {
        "id": "-fE6rGKeYUGD"
      },
      "execution_count": null,
      "outputs": []
    },
    {
      "cell_type": "markdown",
      "source": [
        "The split_multicolumn function takes a pandas Series object (col_series) as input and returns a new DataFrame object. The input Series object is assumed to contain values that consist of multiple options separated by semicolons. The purpose of the function is to split the options into separate columns of the output DataFrame and mark the presence of each option in each row of the original Series with a boolean value.\n",
        "\n",
        "The function works as follows:\n",
        "\n",
        "Create a new DataFrame (result_df) that contains a copy of the input Series as its first column.\n",
        "Iterate over the non-null values of the input Series using the iteritems() method.\n",
        "For each non-null value, split it into a list of options using the split() method on semicolons.\n",
        "For each option in the list, check if it already exists as a column in the result_df. If it does not exist, add the option as a new column to the result_df and set all its values to False.\n",
        "Set the value of the option column to True for the current row in the result_df.\n",
        "Return the result_df with only the columns containing options.\n",
        "The resulting DataFrame will have one row for each row in the original Series and one column for each option present in any of the rows. The values in the option columns will be True if the corresponding option was present in the original Series value for that row, and False otherwise."
      ],
      "metadata": {
        "id": "HormhwO7ZO6E"
      }
    },
    {
      "cell_type": "code",
      "source": [
        "def split_multicolumn(col_series):\n",
        "    result_df = col_series.to_frame()\n",
        "    options = []\n",
        "    # Iterate over the column\n",
        "    for idx, value  in col_series[col_series.notnull()].iteritems():\n",
        "        # Break each value into list of options\n",
        "        for option in value.split(';'):\n",
        "            # Add the option as a column to result\n",
        "            if not option in result_df.columns:\n",
        "                options.append(option)\n",
        "                result_df[option] = False\n",
        "            # Mark the value in the option column as True\n",
        "            result_df.at[idx, option] = True\n",
        "    return result_df[options]"
      ],
      "metadata": {
        "id": "UteQDe1dYsoW"
      },
      "execution_count": null,
      "outputs": []
    },
    {
      "cell_type": "code",
      "source": [
        "dev_type_df = split_multicolumn(survey_df.DevType)"
      ],
      "metadata": {
        "id": "gaupghjGXo2F"
      },
      "execution_count": null,
      "outputs": []
    },
    {
      "cell_type": "code",
      "source": [
        "dev_type_df"
      ],
      "metadata": {
        "colab": {
          "base_uri": "https://localhost:8080/",
          "height": 557
        },
        "id": "xS6u2Vj0X_PH",
        "outputId": "ff214733-cc52-4ce6-e5cf-efdb974384c1"
      },
      "execution_count": null,
      "outputs": [
        {
          "output_type": "execute_result",
          "data": {
            "text/plain": [
              "       Developer, desktop or enterprise applications  Developer, full-stack  \\\n",
              "0                                               True                   True   \n",
              "1                                              False                   True   \n",
              "2                                              False                  False   \n",
              "3                                              False                  False   \n",
              "4                                              False                  False   \n",
              "...                                              ...                    ...   \n",
              "64456                                          False                  False   \n",
              "64457                                          False                  False   \n",
              "64458                                          False                  False   \n",
              "64459                                          False                  False   \n",
              "64460                                          False                  False   \n",
              "\n",
              "       Developer, mobile  Designer  Developer, front-end  Developer, back-end  \\\n",
              "0                  False     False                 False                False   \n",
              "1                   True     False                 False                False   \n",
              "2                  False     False                 False                False   \n",
              "3                  False     False                 False                False   \n",
              "4                  False     False                 False                False   \n",
              "...                  ...       ...                   ...                  ...   \n",
              "64456              False     False                 False                False   \n",
              "64457              False     False                 False                False   \n",
              "64458              False     False                 False                False   \n",
              "64459              False     False                 False                False   \n",
              "64460              False     False                 False                False   \n",
              "\n",
              "       Developer, QA or test  DevOps specialist  Developer, game or graphics  \\\n",
              "0                      False              False                        False   \n",
              "1                      False              False                        False   \n",
              "2                      False              False                        False   \n",
              "3                      False              False                        False   \n",
              "4                      False              False                        False   \n",
              "...                      ...                ...                          ...   \n",
              "64456                  False              False                        False   \n",
              "64457                  False              False                        False   \n",
              "64458                  False              False                        False   \n",
              "64459                  False              False                        False   \n",
              "64460                  False              False                        False   \n",
              "\n",
              "       Database administrator  ...  System administrator  Engineering manager  \\\n",
              "0                       False  ...                 False                False   \n",
              "1                       False  ...                 False                False   \n",
              "2                       False  ...                 False                False   \n",
              "3                       False  ...                 False                False   \n",
              "4                       False  ...                 False                False   \n",
              "...                       ...  ...                   ...                  ...   \n",
              "64456                   False  ...                 False                False   \n",
              "64457                   False  ...                 False                False   \n",
              "64458                   False  ...                 False                False   \n",
              "64459                   False  ...                 False                False   \n",
              "64460                   False  ...                 False                False   \n",
              "\n",
              "       Product manager  Data or business analyst  Academic researcher  \\\n",
              "0                False                     False                False   \n",
              "1                False                     False                False   \n",
              "2                False                     False                False   \n",
              "3                False                     False                False   \n",
              "4                False                     False                False   \n",
              "...                ...                       ...                  ...   \n",
              "64456            False                     False                False   \n",
              "64457            False                     False                False   \n",
              "64458            False                     False                False   \n",
              "64459            False                     False                False   \n",
              "64460            False                     False                False   \n",
              "\n",
              "       Data scientist or machine learning specialist  Scientist  \\\n",
              "0                                              False      False   \n",
              "1                                              False      False   \n",
              "2                                              False      False   \n",
              "3                                              False      False   \n",
              "4                                              False      False   \n",
              "...                                              ...        ...   \n",
              "64456                                          False      False   \n",
              "64457                                          False      False   \n",
              "64458                                          False      False   \n",
              "64459                                          False      False   \n",
              "64460                                          False      False   \n",
              "\n",
              "       Senior executive/VP  Engineer, site reliability  \\\n",
              "0                    False                       False   \n",
              "1                    False                       False   \n",
              "2                    False                       False   \n",
              "3                    False                       False   \n",
              "4                    False                       False   \n",
              "...                    ...                         ...   \n",
              "64456                 True                       False   \n",
              "64457                False                       False   \n",
              "64458                False                       False   \n",
              "64459                False                       False   \n",
              "64460                False                       False   \n",
              "\n",
              "       Marketing or sales professional  \n",
              "0                                False  \n",
              "1                                False  \n",
              "2                                False  \n",
              "3                                False  \n",
              "4                                False  \n",
              "...                                ...  \n",
              "64456                            False  \n",
              "64457                            False  \n",
              "64458                            False  \n",
              "64459                            False  \n",
              "64460                            False  \n",
              "\n",
              "[64291 rows x 23 columns]"
            ],
            "text/html": [
              "\n",
              "  <div id=\"df-309c9599-4f1f-415e-a508-4b32b39e2c89\">\n",
              "    <div class=\"colab-df-container\">\n",
              "      <div>\n",
              "<style scoped>\n",
              "    .dataframe tbody tr th:only-of-type {\n",
              "        vertical-align: middle;\n",
              "    }\n",
              "\n",
              "    .dataframe tbody tr th {\n",
              "        vertical-align: top;\n",
              "    }\n",
              "\n",
              "    .dataframe thead th {\n",
              "        text-align: right;\n",
              "    }\n",
              "</style>\n",
              "<table border=\"1\" class=\"dataframe\">\n",
              "  <thead>\n",
              "    <tr style=\"text-align: right;\">\n",
              "      <th></th>\n",
              "      <th>Developer, desktop or enterprise applications</th>\n",
              "      <th>Developer, full-stack</th>\n",
              "      <th>Developer, mobile</th>\n",
              "      <th>Designer</th>\n",
              "      <th>Developer, front-end</th>\n",
              "      <th>Developer, back-end</th>\n",
              "      <th>Developer, QA or test</th>\n",
              "      <th>DevOps specialist</th>\n",
              "      <th>Developer, game or graphics</th>\n",
              "      <th>Database administrator</th>\n",
              "      <th>...</th>\n",
              "      <th>System administrator</th>\n",
              "      <th>Engineering manager</th>\n",
              "      <th>Product manager</th>\n",
              "      <th>Data or business analyst</th>\n",
              "      <th>Academic researcher</th>\n",
              "      <th>Data scientist or machine learning specialist</th>\n",
              "      <th>Scientist</th>\n",
              "      <th>Senior executive/VP</th>\n",
              "      <th>Engineer, site reliability</th>\n",
              "      <th>Marketing or sales professional</th>\n",
              "    </tr>\n",
              "  </thead>\n",
              "  <tbody>\n",
              "    <tr>\n",
              "      <th>0</th>\n",
              "      <td>True</td>\n",
              "      <td>True</td>\n",
              "      <td>False</td>\n",
              "      <td>False</td>\n",
              "      <td>False</td>\n",
              "      <td>False</td>\n",
              "      <td>False</td>\n",
              "      <td>False</td>\n",
              "      <td>False</td>\n",
              "      <td>False</td>\n",
              "      <td>...</td>\n",
              "      <td>False</td>\n",
              "      <td>False</td>\n",
              "      <td>False</td>\n",
              "      <td>False</td>\n",
              "      <td>False</td>\n",
              "      <td>False</td>\n",
              "      <td>False</td>\n",
              "      <td>False</td>\n",
              "      <td>False</td>\n",
              "      <td>False</td>\n",
              "    </tr>\n",
              "    <tr>\n",
              "      <th>1</th>\n",
              "      <td>False</td>\n",
              "      <td>True</td>\n",
              "      <td>True</td>\n",
              "      <td>False</td>\n",
              "      <td>False</td>\n",
              "      <td>False</td>\n",
              "      <td>False</td>\n",
              "      <td>False</td>\n",
              "      <td>False</td>\n",
              "      <td>False</td>\n",
              "      <td>...</td>\n",
              "      <td>False</td>\n",
              "      <td>False</td>\n",
              "      <td>False</td>\n",
              "      <td>False</td>\n",
              "      <td>False</td>\n",
              "      <td>False</td>\n",
              "      <td>False</td>\n",
              "      <td>False</td>\n",
              "      <td>False</td>\n",
              "      <td>False</td>\n",
              "    </tr>\n",
              "    <tr>\n",
              "      <th>2</th>\n",
              "      <td>False</td>\n",
              "      <td>False</td>\n",
              "      <td>False</td>\n",
              "      <td>False</td>\n",
              "      <td>False</td>\n",
              "      <td>False</td>\n",
              "      <td>False</td>\n",
              "      <td>False</td>\n",
              "      <td>False</td>\n",
              "      <td>False</td>\n",
              "      <td>...</td>\n",
              "      <td>False</td>\n",
              "      <td>False</td>\n",
              "      <td>False</td>\n",
              "      <td>False</td>\n",
              "      <td>False</td>\n",
              "      <td>False</td>\n",
              "      <td>False</td>\n",
              "      <td>False</td>\n",
              "      <td>False</td>\n",
              "      <td>False</td>\n",
              "    </tr>\n",
              "    <tr>\n",
              "      <th>3</th>\n",
              "      <td>False</td>\n",
              "      <td>False</td>\n",
              "      <td>False</td>\n",
              "      <td>False</td>\n",
              "      <td>False</td>\n",
              "      <td>False</td>\n",
              "      <td>False</td>\n",
              "      <td>False</td>\n",
              "      <td>False</td>\n",
              "      <td>False</td>\n",
              "      <td>...</td>\n",
              "      <td>False</td>\n",
              "      <td>False</td>\n",
              "      <td>False</td>\n",
              "      <td>False</td>\n",
              "      <td>False</td>\n",
              "      <td>False</td>\n",
              "      <td>False</td>\n",
              "      <td>False</td>\n",
              "      <td>False</td>\n",
              "      <td>False</td>\n",
              "    </tr>\n",
              "    <tr>\n",
              "      <th>4</th>\n",
              "      <td>False</td>\n",
              "      <td>False</td>\n",
              "      <td>False</td>\n",
              "      <td>False</td>\n",
              "      <td>False</td>\n",
              "      <td>False</td>\n",
              "      <td>False</td>\n",
              "      <td>False</td>\n",
              "      <td>False</td>\n",
              "      <td>False</td>\n",
              "      <td>...</td>\n",
              "      <td>False</td>\n",
              "      <td>False</td>\n",
              "      <td>False</td>\n",
              "      <td>False</td>\n",
              "      <td>False</td>\n",
              "      <td>False</td>\n",
              "      <td>False</td>\n",
              "      <td>False</td>\n",
              "      <td>False</td>\n",
              "      <td>False</td>\n",
              "    </tr>\n",
              "    <tr>\n",
              "      <th>...</th>\n",
              "      <td>...</td>\n",
              "      <td>...</td>\n",
              "      <td>...</td>\n",
              "      <td>...</td>\n",
              "      <td>...</td>\n",
              "      <td>...</td>\n",
              "      <td>...</td>\n",
              "      <td>...</td>\n",
              "      <td>...</td>\n",
              "      <td>...</td>\n",
              "      <td>...</td>\n",
              "      <td>...</td>\n",
              "      <td>...</td>\n",
              "      <td>...</td>\n",
              "      <td>...</td>\n",
              "      <td>...</td>\n",
              "      <td>...</td>\n",
              "      <td>...</td>\n",
              "      <td>...</td>\n",
              "      <td>...</td>\n",
              "      <td>...</td>\n",
              "    </tr>\n",
              "    <tr>\n",
              "      <th>64456</th>\n",
              "      <td>False</td>\n",
              "      <td>False</td>\n",
              "      <td>False</td>\n",
              "      <td>False</td>\n",
              "      <td>False</td>\n",
              "      <td>False</td>\n",
              "      <td>False</td>\n",
              "      <td>False</td>\n",
              "      <td>False</td>\n",
              "      <td>False</td>\n",
              "      <td>...</td>\n",
              "      <td>False</td>\n",
              "      <td>False</td>\n",
              "      <td>False</td>\n",
              "      <td>False</td>\n",
              "      <td>False</td>\n",
              "      <td>False</td>\n",
              "      <td>False</td>\n",
              "      <td>True</td>\n",
              "      <td>False</td>\n",
              "      <td>False</td>\n",
              "    </tr>\n",
              "    <tr>\n",
              "      <th>64457</th>\n",
              "      <td>False</td>\n",
              "      <td>False</td>\n",
              "      <td>False</td>\n",
              "      <td>False</td>\n",
              "      <td>False</td>\n",
              "      <td>False</td>\n",
              "      <td>False</td>\n",
              "      <td>False</td>\n",
              "      <td>False</td>\n",
              "      <td>False</td>\n",
              "      <td>...</td>\n",
              "      <td>False</td>\n",
              "      <td>False</td>\n",
              "      <td>False</td>\n",
              "      <td>False</td>\n",
              "      <td>False</td>\n",
              "      <td>False</td>\n",
              "      <td>False</td>\n",
              "      <td>False</td>\n",
              "      <td>False</td>\n",
              "      <td>False</td>\n",
              "    </tr>\n",
              "    <tr>\n",
              "      <th>64458</th>\n",
              "      <td>False</td>\n",
              "      <td>False</td>\n",
              "      <td>False</td>\n",
              "      <td>False</td>\n",
              "      <td>False</td>\n",
              "      <td>False</td>\n",
              "      <td>False</td>\n",
              "      <td>False</td>\n",
              "      <td>False</td>\n",
              "      <td>False</td>\n",
              "      <td>...</td>\n",
              "      <td>False</td>\n",
              "      <td>False</td>\n",
              "      <td>False</td>\n",
              "      <td>False</td>\n",
              "      <td>False</td>\n",
              "      <td>False</td>\n",
              "      <td>False</td>\n",
              "      <td>False</td>\n",
              "      <td>False</td>\n",
              "      <td>False</td>\n",
              "    </tr>\n",
              "    <tr>\n",
              "      <th>64459</th>\n",
              "      <td>False</td>\n",
              "      <td>False</td>\n",
              "      <td>False</td>\n",
              "      <td>False</td>\n",
              "      <td>False</td>\n",
              "      <td>False</td>\n",
              "      <td>False</td>\n",
              "      <td>False</td>\n",
              "      <td>False</td>\n",
              "      <td>False</td>\n",
              "      <td>...</td>\n",
              "      <td>False</td>\n",
              "      <td>False</td>\n",
              "      <td>False</td>\n",
              "      <td>False</td>\n",
              "      <td>False</td>\n",
              "      <td>False</td>\n",
              "      <td>False</td>\n",
              "      <td>False</td>\n",
              "      <td>False</td>\n",
              "      <td>False</td>\n",
              "    </tr>\n",
              "    <tr>\n",
              "      <th>64460</th>\n",
              "      <td>False</td>\n",
              "      <td>False</td>\n",
              "      <td>False</td>\n",
              "      <td>False</td>\n",
              "      <td>False</td>\n",
              "      <td>False</td>\n",
              "      <td>False</td>\n",
              "      <td>False</td>\n",
              "      <td>False</td>\n",
              "      <td>False</td>\n",
              "      <td>...</td>\n",
              "      <td>False</td>\n",
              "      <td>False</td>\n",
              "      <td>False</td>\n",
              "      <td>False</td>\n",
              "      <td>False</td>\n",
              "      <td>False</td>\n",
              "      <td>False</td>\n",
              "      <td>False</td>\n",
              "      <td>False</td>\n",
              "      <td>False</td>\n",
              "    </tr>\n",
              "  </tbody>\n",
              "</table>\n",
              "<p>64291 rows × 23 columns</p>\n",
              "</div>\n",
              "      <button class=\"colab-df-convert\" onclick=\"convertToInteractive('df-309c9599-4f1f-415e-a508-4b32b39e2c89')\"\n",
              "              title=\"Convert this dataframe to an interactive table.\"\n",
              "              style=\"display:none;\">\n",
              "        \n",
              "  <svg xmlns=\"http://www.w3.org/2000/svg\" height=\"24px\"viewBox=\"0 0 24 24\"\n",
              "       width=\"24px\">\n",
              "    <path d=\"M0 0h24v24H0V0z\" fill=\"none\"/>\n",
              "    <path d=\"M18.56 5.44l.94 2.06.94-2.06 2.06-.94-2.06-.94-.94-2.06-.94 2.06-2.06.94zm-11 1L8.5 8.5l.94-2.06 2.06-.94-2.06-.94L8.5 2.5l-.94 2.06-2.06.94zm10 10l.94 2.06.94-2.06 2.06-.94-2.06-.94-.94-2.06-.94 2.06-2.06.94z\"/><path d=\"M17.41 7.96l-1.37-1.37c-.4-.4-.92-.59-1.43-.59-.52 0-1.04.2-1.43.59L10.3 9.45l-7.72 7.72c-.78.78-.78 2.05 0 2.83L4 21.41c.39.39.9.59 1.41.59.51 0 1.02-.2 1.41-.59l7.78-7.78 2.81-2.81c.8-.78.8-2.07 0-2.86zM5.41 20L4 18.59l7.72-7.72 1.47 1.35L5.41 20z\"/>\n",
              "  </svg>\n",
              "      </button>\n",
              "      \n",
              "  <style>\n",
              "    .colab-df-container {\n",
              "      display:flex;\n",
              "      flex-wrap:wrap;\n",
              "      gap: 12px;\n",
              "    }\n",
              "\n",
              "    .colab-df-convert {\n",
              "      background-color: #E8F0FE;\n",
              "      border: none;\n",
              "      border-radius: 50%;\n",
              "      cursor: pointer;\n",
              "      display: none;\n",
              "      fill: #1967D2;\n",
              "      height: 32px;\n",
              "      padding: 0 0 0 0;\n",
              "      width: 32px;\n",
              "    }\n",
              "\n",
              "    .colab-df-convert:hover {\n",
              "      background-color: #E2EBFA;\n",
              "      box-shadow: 0px 1px 2px rgba(60, 64, 67, 0.3), 0px 1px 3px 1px rgba(60, 64, 67, 0.15);\n",
              "      fill: #174EA6;\n",
              "    }\n",
              "\n",
              "    [theme=dark] .colab-df-convert {\n",
              "      background-color: #3B4455;\n",
              "      fill: #D2E3FC;\n",
              "    }\n",
              "\n",
              "    [theme=dark] .colab-df-convert:hover {\n",
              "      background-color: #434B5C;\n",
              "      box-shadow: 0px 1px 3px 1px rgba(0, 0, 0, 0.15);\n",
              "      filter: drop-shadow(0px 1px 2px rgba(0, 0, 0, 0.3));\n",
              "      fill: #FFFFFF;\n",
              "    }\n",
              "  </style>\n",
              "\n",
              "      <script>\n",
              "        const buttonEl =\n",
              "          document.querySelector('#df-309c9599-4f1f-415e-a508-4b32b39e2c89 button.colab-df-convert');\n",
              "        buttonEl.style.display =\n",
              "          google.colab.kernel.accessAllowed ? 'block' : 'none';\n",
              "\n",
              "        async function convertToInteractive(key) {\n",
              "          const element = document.querySelector('#df-309c9599-4f1f-415e-a508-4b32b39e2c89');\n",
              "          const dataTable =\n",
              "            await google.colab.kernel.invokeFunction('convertToInteractive',\n",
              "                                                     [key], {});\n",
              "          if (!dataTable) return;\n",
              "\n",
              "          const docLinkHtml = 'Like what you see? Visit the ' +\n",
              "            '<a target=\"_blank\" href=https://colab.research.google.com/notebooks/data_table.ipynb>data table notebook</a>'\n",
              "            + ' to learn more about interactive tables.';\n",
              "          element.innerHTML = '';\n",
              "          dataTable['output_type'] = 'display_data';\n",
              "          await google.colab.output.renderOutput(dataTable, element);\n",
              "          const docLink = document.createElement('div');\n",
              "          docLink.innerHTML = docLinkHtml;\n",
              "          element.appendChild(docLink);\n",
              "        }\n",
              "      </script>\n",
              "    </div>\n",
              "  </div>\n",
              "  "
            ]
          },
          "metadata": {},
          "execution_count": 168
        }
      ]
    },
    {
      "cell_type": "markdown",
      "source": [
        "The `dev_type_df` has one column for each option that can be selected as a response. If a respondent has chosen an option, the corresponding column's value is `True`. Otherwise, it is `False`.\n",
        "\n",
        "We can now use the column-wise totals to identify the most common roles."
      ],
      "metadata": {
        "id": "bbPtKm1DZs2K"
      }
    },
    {
      "cell_type": "code",
      "source": [
        "dev_types_total = dev_type_df.sum().sort_values(ascending= False)\n",
        "dev_types_total"
      ],
      "metadata": {
        "colab": {
          "base_uri": "https://localhost:8080/"
        },
        "id": "3fdgqGjSYXq9",
        "outputId": "3618baf4-e0d4-4690-e3f2-07b553bd4e5f"
      },
      "execution_count": null,
      "outputs": [
        {
          "output_type": "execute_result",
          "data": {
            "text/plain": [
              "Developer, back-end                              26993\n",
              "Developer, full-stack                            26911\n",
              "Developer, front-end                             18125\n",
              "Developer, desktop or enterprise applications    11686\n",
              "Developer, mobile                                 9404\n",
              "DevOps specialist                                 5913\n",
              "Database administrator                            5657\n",
              "Designer                                          5261\n",
              "System administrator                              5183\n",
              "Developer, embedded applications or devices       4700\n",
              "Data or business analyst                          3969\n",
              "Data scientist or machine learning specialist     3938\n",
              "Developer, QA or test                             3892\n",
              "Engineer, data                                    3699\n",
              "Academic researcher                               3501\n",
              "Educator                                          2894\n",
              "Developer, game or graphics                       2749\n",
              "Engineering manager                               2698\n",
              "Product manager                                   2470\n",
              "Scientist                                         2059\n",
              "Engineer, site reliability                        1920\n",
              "Senior executive/VP                               1291\n",
              "Marketing or sales professional                    624\n",
              "dtype: int64"
            ]
          },
          "metadata": {},
          "execution_count": 169
        }
      ]
    },
    {
      "cell_type": "markdown",
      "source": [
        "As one might expect, the most common roles include \"Developer\" in the name.\n",
        "\n",
        "**Exercises**:\n",
        "\n",
        "* Can you figure out what percentage of respondents work in roles related to data science?\n",
        "* Which positions have the highest percentage of women?"
      ],
      "metadata": {
        "id": "MS8wrYddcbn1"
      }
    },
    {
      "cell_type": "code",
      "source": [
        "dev_types_total = dev_type_df.sum().sort_values(ascending= True)\n",
        "dev_types_total"
      ],
      "metadata": {
        "colab": {
          "base_uri": "https://localhost:8080/"
        },
        "id": "0L7ecqdGaHaC",
        "outputId": "a82796b7-2240-4fcc-e738-f2a3f63b993c"
      },
      "execution_count": null,
      "outputs": [
        {
          "output_type": "execute_result",
          "data": {
            "text/plain": [
              "Marketing or sales professional                    624\n",
              "Senior executive/VP                               1291\n",
              "Engineer, site reliability                        1920\n",
              "Scientist                                         2059\n",
              "Product manager                                   2470\n",
              "Engineering manager                               2698\n",
              "Developer, game or graphics                       2749\n",
              "Educator                                          2894\n",
              "Academic researcher                               3501\n",
              "Engineer, data                                    3699\n",
              "Developer, QA or test                             3892\n",
              "Data scientist or machine learning specialist     3938\n",
              "Data or business analyst                          3969\n",
              "Developer, embedded applications or devices       4700\n",
              "System administrator                              5183\n",
              "Designer                                          5261\n",
              "Database administrator                            5657\n",
              "DevOps specialist                                 5913\n",
              "Developer, mobile                                 9404\n",
              "Developer, desktop or enterprise applications    11686\n",
              "Developer, front-end                             18125\n",
              "Developer, full-stack                            26911\n",
              "Developer, back-end                              26993\n",
              "dtype: int64"
            ]
          },
          "metadata": {},
          "execution_count": 170
        }
      ]
    },
    {
      "cell_type": "code",
      "source": [
        ""
      ],
      "metadata": {
        "id": "-UmfJ3f3cB_y"
      },
      "execution_count": null,
      "outputs": []
    },
    {
      "cell_type": "markdown",
      "source": [
        "## Asking and Answering Questions\n",
        "\n",
        "We've already gained several insights about the respondents and the programming community by exploring individual columns of the dataset. Let's ask some specific questions and try to answer them using data frame operations and visualizations."
      ],
      "metadata": {
        "id": "eMVn7U5ScoHU"
      }
    },
    {
      "cell_type": "markdown",
      "source": [
        "#### Q: What are the most popular programming languages in 2020?\n",
        "\n",
        "To answer, this we can use the `LanguageWorkedWith` column. Similar to `DevType`, respondents were allowed to choose multiple options here."
      ],
      "metadata": {
        "id": "3XDL1x0YcpOF"
      }
    },
    {
      "cell_type": "code",
      "source": [
        "schema.LanguageWorkedWith"
      ],
      "metadata": {
        "colab": {
          "base_uri": "https://localhost:8080/",
          "height": 53
        },
        "id": "GKOOjwMVcvZL",
        "outputId": "8ee4aa7f-2b4e-4624-e0a6-186850bfdc16"
      },
      "execution_count": null,
      "outputs": [
        {
          "output_type": "execute_result",
          "data": {
            "text/plain": [
              "'Which programming, scripting, and markup languages have you done extensive development work in over the past year, and which do you want to work in over the next year? (If you both worked with the language and want to continue to do so, please check both boxes in that row.)'"
            ],
            "application/vnd.google.colaboratory.intrinsic+json": {
              "type": "string"
            }
          },
          "metadata": {},
          "execution_count": 171
        }
      ]
    },
    {
      "cell_type": "code",
      "source": [
        "schema.LanguageDesireNextYear"
      ],
      "metadata": {
        "colab": {
          "base_uri": "https://localhost:8080/",
          "height": 53
        },
        "id": "XmP1hMxQdfV5",
        "outputId": "a3375114-e840-4386-eb7c-df4e4ec7c235"
      },
      "execution_count": null,
      "outputs": [
        {
          "output_type": "execute_result",
          "data": {
            "text/plain": [
              "'Which programming, scripting, and markup languages have you done extensive development work in over the past year, and which do you want to work in over the next year? (If you both worked with the language and want to continue to do so, please check both boxes in that row.)'"
            ],
            "application/vnd.google.colaboratory.intrinsic+json": {
              "type": "string"
            }
          },
          "metadata": {},
          "execution_count": 172
        }
      ]
    },
    {
      "cell_type": "code",
      "source": [
        "survey_df.LanguageWorkedWith"
      ],
      "metadata": {
        "colab": {
          "base_uri": "https://localhost:8080/"
        },
        "id": "IoW-zbIkc1R1",
        "outputId": "9edae358-faad-4247-ba4b-c6678e82e145"
      },
      "execution_count": null,
      "outputs": [
        {
          "output_type": "execute_result",
          "data": {
            "text/plain": [
              "0                                   C#;HTML/CSS;JavaScript\n",
              "1                                         JavaScript;Swift\n",
              "2                                 Objective-C;Python;Swift\n",
              "3                                                      NaN\n",
              "4                                        HTML/CSS;Ruby;SQL\n",
              "                               ...                        \n",
              "64456                                                  NaN\n",
              "64457    Assembly;Bash/Shell/PowerShell;C;C#;C++;Dart;G...\n",
              "64458                                                  NaN\n",
              "64459                                             HTML/CSS\n",
              "64460                      C#;HTML/CSS;Java;JavaScript;SQL\n",
              "Name: LanguageWorkedWith, Length: 64291, dtype: object"
            ]
          },
          "metadata": {},
          "execution_count": 173
        }
      ]
    },
    {
      "cell_type": "code",
      "source": [
        "languages_work_df = split_multicolumn(survey_df.LanguageWorkedWith)"
      ],
      "metadata": {
        "id": "7O5qHHqdc6Yu"
      },
      "execution_count": null,
      "outputs": []
    },
    {
      "cell_type": "code",
      "source": [
        "languages_work_df"
      ],
      "metadata": {
        "colab": {
          "base_uri": "https://localhost:8080/",
          "height": 485
        },
        "id": "Kyk2Ncttd7a_",
        "outputId": "c712e4f6-7995-48bb-de88-81a7989431e1"
      },
      "execution_count": null,
      "outputs": [
        {
          "output_type": "execute_result",
          "data": {
            "text/plain": [
              "          C#  HTML/CSS  JavaScript  Swift  Objective-C  Python   Ruby    SQL  \\\n",
              "0       True      True        True  False        False   False  False  False   \n",
              "1      False     False        True   True        False   False  False  False   \n",
              "2      False     False       False   True         True    True  False  False   \n",
              "3      False     False       False  False        False   False  False  False   \n",
              "4      False      True       False  False        False   False   True   True   \n",
              "...      ...       ...         ...    ...          ...     ...    ...    ...   \n",
              "64456  False     False       False  False        False   False  False  False   \n",
              "64457   True      True        True   True         True    True   True   True   \n",
              "64458  False     False       False  False        False   False  False  False   \n",
              "64459  False      True       False  False        False   False  False  False   \n",
              "64460   True      True        True  False        False   False  False   True   \n",
              "\n",
              "        Java    PHP  ...    VBA   Perl  Scala    C++     Go  Haskell   Rust  \\\n",
              "0      False  False  ...  False  False  False  False  False    False  False   \n",
              "1      False  False  ...  False  False  False  False  False    False  False   \n",
              "2      False  False  ...  False  False  False  False  False    False  False   \n",
              "3      False  False  ...  False  False  False  False  False    False  False   \n",
              "4      False  False  ...  False  False  False  False  False    False  False   \n",
              "...      ...    ...  ...    ...    ...    ...    ...    ...      ...    ...   \n",
              "64456  False  False  ...  False  False  False  False  False    False  False   \n",
              "64457   True   True  ...   True   True   True   True   True     True   True   \n",
              "64458  False  False  ...  False  False  False  False  False    False  False   \n",
              "64459  False  False  ...  False  False  False  False  False    False  False   \n",
              "64460   True  False  ...  False  False  False  False  False    False  False   \n",
              "\n",
              "        Dart  Julia  Assembly  \n",
              "0      False  False     False  \n",
              "1      False  False     False  \n",
              "2      False  False     False  \n",
              "3      False  False     False  \n",
              "4      False  False     False  \n",
              "...      ...    ...       ...  \n",
              "64456  False  False     False  \n",
              "64457   True   True      True  \n",
              "64458  False  False     False  \n",
              "64459  False  False     False  \n",
              "64460  False  False     False  \n",
              "\n",
              "[64291 rows x 25 columns]"
            ],
            "text/html": [
              "\n",
              "  <div id=\"df-2ea599b0-202c-421d-b4f9-727a94fe6011\">\n",
              "    <div class=\"colab-df-container\">\n",
              "      <div>\n",
              "<style scoped>\n",
              "    .dataframe tbody tr th:only-of-type {\n",
              "        vertical-align: middle;\n",
              "    }\n",
              "\n",
              "    .dataframe tbody tr th {\n",
              "        vertical-align: top;\n",
              "    }\n",
              "\n",
              "    .dataframe thead th {\n",
              "        text-align: right;\n",
              "    }\n",
              "</style>\n",
              "<table border=\"1\" class=\"dataframe\">\n",
              "  <thead>\n",
              "    <tr style=\"text-align: right;\">\n",
              "      <th></th>\n",
              "      <th>C#</th>\n",
              "      <th>HTML/CSS</th>\n",
              "      <th>JavaScript</th>\n",
              "      <th>Swift</th>\n",
              "      <th>Objective-C</th>\n",
              "      <th>Python</th>\n",
              "      <th>Ruby</th>\n",
              "      <th>SQL</th>\n",
              "      <th>Java</th>\n",
              "      <th>PHP</th>\n",
              "      <th>...</th>\n",
              "      <th>VBA</th>\n",
              "      <th>Perl</th>\n",
              "      <th>Scala</th>\n",
              "      <th>C++</th>\n",
              "      <th>Go</th>\n",
              "      <th>Haskell</th>\n",
              "      <th>Rust</th>\n",
              "      <th>Dart</th>\n",
              "      <th>Julia</th>\n",
              "      <th>Assembly</th>\n",
              "    </tr>\n",
              "  </thead>\n",
              "  <tbody>\n",
              "    <tr>\n",
              "      <th>0</th>\n",
              "      <td>True</td>\n",
              "      <td>True</td>\n",
              "      <td>True</td>\n",
              "      <td>False</td>\n",
              "      <td>False</td>\n",
              "      <td>False</td>\n",
              "      <td>False</td>\n",
              "      <td>False</td>\n",
              "      <td>False</td>\n",
              "      <td>False</td>\n",
              "      <td>...</td>\n",
              "      <td>False</td>\n",
              "      <td>False</td>\n",
              "      <td>False</td>\n",
              "      <td>False</td>\n",
              "      <td>False</td>\n",
              "      <td>False</td>\n",
              "      <td>False</td>\n",
              "      <td>False</td>\n",
              "      <td>False</td>\n",
              "      <td>False</td>\n",
              "    </tr>\n",
              "    <tr>\n",
              "      <th>1</th>\n",
              "      <td>False</td>\n",
              "      <td>False</td>\n",
              "      <td>True</td>\n",
              "      <td>True</td>\n",
              "      <td>False</td>\n",
              "      <td>False</td>\n",
              "      <td>False</td>\n",
              "      <td>False</td>\n",
              "      <td>False</td>\n",
              "      <td>False</td>\n",
              "      <td>...</td>\n",
              "      <td>False</td>\n",
              "      <td>False</td>\n",
              "      <td>False</td>\n",
              "      <td>False</td>\n",
              "      <td>False</td>\n",
              "      <td>False</td>\n",
              "      <td>False</td>\n",
              "      <td>False</td>\n",
              "      <td>False</td>\n",
              "      <td>False</td>\n",
              "    </tr>\n",
              "    <tr>\n",
              "      <th>2</th>\n",
              "      <td>False</td>\n",
              "      <td>False</td>\n",
              "      <td>False</td>\n",
              "      <td>True</td>\n",
              "      <td>True</td>\n",
              "      <td>True</td>\n",
              "      <td>False</td>\n",
              "      <td>False</td>\n",
              "      <td>False</td>\n",
              "      <td>False</td>\n",
              "      <td>...</td>\n",
              "      <td>False</td>\n",
              "      <td>False</td>\n",
              "      <td>False</td>\n",
              "      <td>False</td>\n",
              "      <td>False</td>\n",
              "      <td>False</td>\n",
              "      <td>False</td>\n",
              "      <td>False</td>\n",
              "      <td>False</td>\n",
              "      <td>False</td>\n",
              "    </tr>\n",
              "    <tr>\n",
              "      <th>3</th>\n",
              "      <td>False</td>\n",
              "      <td>False</td>\n",
              "      <td>False</td>\n",
              "      <td>False</td>\n",
              "      <td>False</td>\n",
              "      <td>False</td>\n",
              "      <td>False</td>\n",
              "      <td>False</td>\n",
              "      <td>False</td>\n",
              "      <td>False</td>\n",
              "      <td>...</td>\n",
              "      <td>False</td>\n",
              "      <td>False</td>\n",
              "      <td>False</td>\n",
              "      <td>False</td>\n",
              "      <td>False</td>\n",
              "      <td>False</td>\n",
              "      <td>False</td>\n",
              "      <td>False</td>\n",
              "      <td>False</td>\n",
              "      <td>False</td>\n",
              "    </tr>\n",
              "    <tr>\n",
              "      <th>4</th>\n",
              "      <td>False</td>\n",
              "      <td>True</td>\n",
              "      <td>False</td>\n",
              "      <td>False</td>\n",
              "      <td>False</td>\n",
              "      <td>False</td>\n",
              "      <td>True</td>\n",
              "      <td>True</td>\n",
              "      <td>False</td>\n",
              "      <td>False</td>\n",
              "      <td>...</td>\n",
              "      <td>False</td>\n",
              "      <td>False</td>\n",
              "      <td>False</td>\n",
              "      <td>False</td>\n",
              "      <td>False</td>\n",
              "      <td>False</td>\n",
              "      <td>False</td>\n",
              "      <td>False</td>\n",
              "      <td>False</td>\n",
              "      <td>False</td>\n",
              "    </tr>\n",
              "    <tr>\n",
              "      <th>...</th>\n",
              "      <td>...</td>\n",
              "      <td>...</td>\n",
              "      <td>...</td>\n",
              "      <td>...</td>\n",
              "      <td>...</td>\n",
              "      <td>...</td>\n",
              "      <td>...</td>\n",
              "      <td>...</td>\n",
              "      <td>...</td>\n",
              "      <td>...</td>\n",
              "      <td>...</td>\n",
              "      <td>...</td>\n",
              "      <td>...</td>\n",
              "      <td>...</td>\n",
              "      <td>...</td>\n",
              "      <td>...</td>\n",
              "      <td>...</td>\n",
              "      <td>...</td>\n",
              "      <td>...</td>\n",
              "      <td>...</td>\n",
              "      <td>...</td>\n",
              "    </tr>\n",
              "    <tr>\n",
              "      <th>64456</th>\n",
              "      <td>False</td>\n",
              "      <td>False</td>\n",
              "      <td>False</td>\n",
              "      <td>False</td>\n",
              "      <td>False</td>\n",
              "      <td>False</td>\n",
              "      <td>False</td>\n",
              "      <td>False</td>\n",
              "      <td>False</td>\n",
              "      <td>False</td>\n",
              "      <td>...</td>\n",
              "      <td>False</td>\n",
              "      <td>False</td>\n",
              "      <td>False</td>\n",
              "      <td>False</td>\n",
              "      <td>False</td>\n",
              "      <td>False</td>\n",
              "      <td>False</td>\n",
              "      <td>False</td>\n",
              "      <td>False</td>\n",
              "      <td>False</td>\n",
              "    </tr>\n",
              "    <tr>\n",
              "      <th>64457</th>\n",
              "      <td>True</td>\n",
              "      <td>True</td>\n",
              "      <td>True</td>\n",
              "      <td>True</td>\n",
              "      <td>True</td>\n",
              "      <td>True</td>\n",
              "      <td>True</td>\n",
              "      <td>True</td>\n",
              "      <td>True</td>\n",
              "      <td>True</td>\n",
              "      <td>...</td>\n",
              "      <td>True</td>\n",
              "      <td>True</td>\n",
              "      <td>True</td>\n",
              "      <td>True</td>\n",
              "      <td>True</td>\n",
              "      <td>True</td>\n",
              "      <td>True</td>\n",
              "      <td>True</td>\n",
              "      <td>True</td>\n",
              "      <td>True</td>\n",
              "    </tr>\n",
              "    <tr>\n",
              "      <th>64458</th>\n",
              "      <td>False</td>\n",
              "      <td>False</td>\n",
              "      <td>False</td>\n",
              "      <td>False</td>\n",
              "      <td>False</td>\n",
              "      <td>False</td>\n",
              "      <td>False</td>\n",
              "      <td>False</td>\n",
              "      <td>False</td>\n",
              "      <td>False</td>\n",
              "      <td>...</td>\n",
              "      <td>False</td>\n",
              "      <td>False</td>\n",
              "      <td>False</td>\n",
              "      <td>False</td>\n",
              "      <td>False</td>\n",
              "      <td>False</td>\n",
              "      <td>False</td>\n",
              "      <td>False</td>\n",
              "      <td>False</td>\n",
              "      <td>False</td>\n",
              "    </tr>\n",
              "    <tr>\n",
              "      <th>64459</th>\n",
              "      <td>False</td>\n",
              "      <td>True</td>\n",
              "      <td>False</td>\n",
              "      <td>False</td>\n",
              "      <td>False</td>\n",
              "      <td>False</td>\n",
              "      <td>False</td>\n",
              "      <td>False</td>\n",
              "      <td>False</td>\n",
              "      <td>False</td>\n",
              "      <td>...</td>\n",
              "      <td>False</td>\n",
              "      <td>False</td>\n",
              "      <td>False</td>\n",
              "      <td>False</td>\n",
              "      <td>False</td>\n",
              "      <td>False</td>\n",
              "      <td>False</td>\n",
              "      <td>False</td>\n",
              "      <td>False</td>\n",
              "      <td>False</td>\n",
              "    </tr>\n",
              "    <tr>\n",
              "      <th>64460</th>\n",
              "      <td>True</td>\n",
              "      <td>True</td>\n",
              "      <td>True</td>\n",
              "      <td>False</td>\n",
              "      <td>False</td>\n",
              "      <td>False</td>\n",
              "      <td>False</td>\n",
              "      <td>True</td>\n",
              "      <td>True</td>\n",
              "      <td>False</td>\n",
              "      <td>...</td>\n",
              "      <td>False</td>\n",
              "      <td>False</td>\n",
              "      <td>False</td>\n",
              "      <td>False</td>\n",
              "      <td>False</td>\n",
              "      <td>False</td>\n",
              "      <td>False</td>\n",
              "      <td>False</td>\n",
              "      <td>False</td>\n",
              "      <td>False</td>\n",
              "    </tr>\n",
              "  </tbody>\n",
              "</table>\n",
              "<p>64291 rows × 25 columns</p>\n",
              "</div>\n",
              "      <button class=\"colab-df-convert\" onclick=\"convertToInteractive('df-2ea599b0-202c-421d-b4f9-727a94fe6011')\"\n",
              "              title=\"Convert this dataframe to an interactive table.\"\n",
              "              style=\"display:none;\">\n",
              "        \n",
              "  <svg xmlns=\"http://www.w3.org/2000/svg\" height=\"24px\"viewBox=\"0 0 24 24\"\n",
              "       width=\"24px\">\n",
              "    <path d=\"M0 0h24v24H0V0z\" fill=\"none\"/>\n",
              "    <path d=\"M18.56 5.44l.94 2.06.94-2.06 2.06-.94-2.06-.94-.94-2.06-.94 2.06-2.06.94zm-11 1L8.5 8.5l.94-2.06 2.06-.94-2.06-.94L8.5 2.5l-.94 2.06-2.06.94zm10 10l.94 2.06.94-2.06 2.06-.94-2.06-.94-.94-2.06-.94 2.06-2.06.94z\"/><path d=\"M17.41 7.96l-1.37-1.37c-.4-.4-.92-.59-1.43-.59-.52 0-1.04.2-1.43.59L10.3 9.45l-7.72 7.72c-.78.78-.78 2.05 0 2.83L4 21.41c.39.39.9.59 1.41.59.51 0 1.02-.2 1.41-.59l7.78-7.78 2.81-2.81c.8-.78.8-2.07 0-2.86zM5.41 20L4 18.59l7.72-7.72 1.47 1.35L5.41 20z\"/>\n",
              "  </svg>\n",
              "      </button>\n",
              "      \n",
              "  <style>\n",
              "    .colab-df-container {\n",
              "      display:flex;\n",
              "      flex-wrap:wrap;\n",
              "      gap: 12px;\n",
              "    }\n",
              "\n",
              "    .colab-df-convert {\n",
              "      background-color: #E8F0FE;\n",
              "      border: none;\n",
              "      border-radius: 50%;\n",
              "      cursor: pointer;\n",
              "      display: none;\n",
              "      fill: #1967D2;\n",
              "      height: 32px;\n",
              "      padding: 0 0 0 0;\n",
              "      width: 32px;\n",
              "    }\n",
              "\n",
              "    .colab-df-convert:hover {\n",
              "      background-color: #E2EBFA;\n",
              "      box-shadow: 0px 1px 2px rgba(60, 64, 67, 0.3), 0px 1px 3px 1px rgba(60, 64, 67, 0.15);\n",
              "      fill: #174EA6;\n",
              "    }\n",
              "\n",
              "    [theme=dark] .colab-df-convert {\n",
              "      background-color: #3B4455;\n",
              "      fill: #D2E3FC;\n",
              "    }\n",
              "\n",
              "    [theme=dark] .colab-df-convert:hover {\n",
              "      background-color: #434B5C;\n",
              "      box-shadow: 0px 1px 3px 1px rgba(0, 0, 0, 0.15);\n",
              "      filter: drop-shadow(0px 1px 2px rgba(0, 0, 0, 0.3));\n",
              "      fill: #FFFFFF;\n",
              "    }\n",
              "  </style>\n",
              "\n",
              "      <script>\n",
              "        const buttonEl =\n",
              "          document.querySelector('#df-2ea599b0-202c-421d-b4f9-727a94fe6011 button.colab-df-convert');\n",
              "        buttonEl.style.display =\n",
              "          google.colab.kernel.accessAllowed ? 'block' : 'none';\n",
              "\n",
              "        async function convertToInteractive(key) {\n",
              "          const element = document.querySelector('#df-2ea599b0-202c-421d-b4f9-727a94fe6011');\n",
              "          const dataTable =\n",
              "            await google.colab.kernel.invokeFunction('convertToInteractive',\n",
              "                                                     [key], {});\n",
              "          if (!dataTable) return;\n",
              "\n",
              "          const docLinkHtml = 'Like what you see? Visit the ' +\n",
              "            '<a target=\"_blank\" href=https://colab.research.google.com/notebooks/data_table.ipynb>data table notebook</a>'\n",
              "            + ' to learn more about interactive tables.';\n",
              "          element.innerHTML = '';\n",
              "          dataTable['output_type'] = 'display_data';\n",
              "          await google.colab.output.renderOutput(dataTable, element);\n",
              "          const docLink = document.createElement('div');\n",
              "          docLink.innerHTML = docLinkHtml;\n",
              "          element.appendChild(docLink);\n",
              "        }\n",
              "      </script>\n",
              "    </div>\n",
              "  </div>\n",
              "  "
            ]
          },
          "metadata": {},
          "execution_count": 175
        }
      ]
    },
    {
      "cell_type": "markdown",
      "source": [
        "It appears that a total of 25 languages were included among the options. Let's aggregate these to identify the percentage of respondents who selected each language."
      ],
      "metadata": {
        "id": "OHReQgcoePRn"
      }
    },
    {
      "cell_type": "code",
      "source": [
        "languages_worked_percentages = languages_work_df.mean().sort_values(ascending= False) *100"
      ],
      "metadata": {
        "id": "M1uM06g5d_EK"
      },
      "execution_count": null,
      "outputs": []
    },
    {
      "cell_type": "code",
      "source": [
        "languages_worked_percentages"
      ],
      "metadata": {
        "colab": {
          "base_uri": "https://localhost:8080/"
        },
        "id": "NUQpWB-zeurt",
        "outputId": "b5b0ef26-441f-4935-a8dd-16171500d136"
      },
      "execution_count": null,
      "outputs": [
        {
          "output_type": "execute_result",
          "data": {
            "text/plain": [
              "JavaScript               59.896409\n",
              "HTML/CSS                 55.804078\n",
              "SQL                      48.446905\n",
              "Python                   39.002349\n",
              "Java                     35.617738\n",
              "Bash/Shell/PowerShell    29.240485\n",
              "C#                       27.804825\n",
              "PHP                      23.129209\n",
              "TypeScript               22.463486\n",
              "C++                      21.111820\n",
              "C                        19.235974\n",
              "Go                        7.756918\n",
              "Kotlin                    6.884323\n",
              "Ruby                      6.224822\n",
              "Assembly                  5.443997\n",
              "VBA                       5.391112\n",
              "Swift                     5.224682\n",
              "R                         5.062917\n",
              "Rust                      4.496741\n",
              "Objective-C               3.600815\n",
              "Dart                      3.515267\n",
              "Scala                     3.148186\n",
              "Perl                      2.754662\n",
              "Haskell                   1.858736\n",
              "Julia                     0.779269\n",
              "dtype: float64"
            ]
          },
          "metadata": {},
          "execution_count": 177
        }
      ]
    },
    {
      "cell_type": "markdown",
      "source": [
        "We can plot this information using a horizontal bar chart."
      ],
      "metadata": {
        "id": "JBiZ6xm6fxGi"
      }
    },
    {
      "cell_type": "code",
      "source": [
        "plt.figure(figsize=(12, 12))\n",
        "sns.barplot(x=languages_worked_percentages, y=languages_worked_percentages.index)\n",
        "plt.title(\"Languages used in the past year\");\n",
        "plt.xlabel('count');"
      ],
      "metadata": {
        "colab": {
          "base_uri": "https://localhost:8080/",
          "height": 742
        },
        "id": "aF6EkWGhgX5R",
        "outputId": "790510ed-4540-4a73-dc26-e8d8995eb79d"
      },
      "execution_count": null,
      "outputs": [
        {
          "output_type": "display_data",
          "data": {
            "text/plain": [
              "<Figure size 864x864 with 1 Axes>"
            ],
            "image/png": "[encoded data removed]"
          },
          "metadata": {
            "needs_background": "light"
          }
        }
      ]
    },
    {
      "cell_type": "markdown",
      "source": [
        "Perhaps unsurprisingly, Javascript & HTML/CSS comes out at the top as web development is one of today's most sought skills. It also happens to be one of the easiest to get started. SQL is necessary for working with relational databases, so it's no surprise that most programmers work with SQL regularly. Python seems to be the popular choice for other forms of development, beating out Java, which was the industry standard for server & application development for over two decades.\n",
        "\n",
        "**Exercises**:\n",
        "\n",
        "* What are the most common languages used by students? How does the list compare with the most common languages used by professional developers?\n",
        "* What are the most common languages among respondents who do not describe themselves as \"Developer, front-end\"?\n",
        "* What are the most common languages among respondents who work in fields related to data science?\n",
        "* What are the most common languages used by developers older than 35 years of age?\n",
        "* What are the most common languages used by developers in your home country?"
      ],
      "metadata": {
        "id": "wQrfLDSgg2tT"
      }
    },
    {
      "cell_type": "markdown",
      "source": [
        "#### Q: Which languages are the most people interested to learn over the next year?\n",
        "\n",
        "For this, we can use the `LanguageDesireNextYear` column, with similar processing as the previous one."
      ],
      "metadata": {
        "id": "sFFnr18lg5i_"
      }
    },
    {
      "cell_type": "code",
      "source": [
        "languages_interested_df = split_multicolumn(survey_df.LanguageDesireNextYear)"
      ],
      "metadata": {
        "id": "QWHsCeJ-ga4V"
      },
      "execution_count": null,
      "outputs": []
    },
    {
      "cell_type": "code",
      "source": [
        "languages_interested_percentages = languages_interested_df.mean().sort_values(ascending= False) *100"
      ],
      "metadata": {
        "id": "dD53RqC9hgAH"
      },
      "execution_count": null,
      "outputs": []
    },
    {
      "cell_type": "code",
      "source": [
        "languages_interested_df"
      ],
      "metadata": {
        "colab": {
          "base_uri": "https://localhost:8080/",
          "height": 505
        },
        "id": "qVoJ3Jhoh33J",
        "outputId": "4b437719-cce2-4e2a-c861-ae2b2eba29e0"
      },
      "execution_count": null,
      "outputs": [
        {
          "output_type": "execute_result",
          "data": {
            "text/plain": [
              "          C#  HTML/CSS  JavaScript  Python  Swift  Objective-C   Java   Ruby  \\\n",
              "0       True      True        True   False  False        False  False  False   \n",
              "1      False     False       False    True   True        False  False  False   \n",
              "2      False     False       False    True   True         True  False  False   \n",
              "3      False     False       False   False  False        False  False  False   \n",
              "4      False     False       False   False  False        False   True   True   \n",
              "...      ...       ...         ...     ...    ...          ...    ...    ...   \n",
              "64456  False     False       False   False  False        False  False  False   \n",
              "64457   True      True        True    True   True         True   True   True   \n",
              "64458  False     False       False   False  False        False  False  False   \n",
              "64459  False      True        True   False  False        False   True  False   \n",
              "64460   True      True        True   False  False        False   True  False   \n",
              "\n",
              "       Scala    PHP  ...  Assembly  Bash/Shell/PowerShell      C  Haskell  \\\n",
              "0      False  False  ...     False                  False  False    False   \n",
              "1      False  False  ...     False                  False  False    False   \n",
              "2      False  False  ...     False                  False  False    False   \n",
              "3      False  False  ...     False                  False  False    False   \n",
              "4       True  False  ...     False                  False  False    False   \n",
              "...      ...    ...  ...       ...                    ...    ...      ...   \n",
              "64456  False  False  ...     False                  False  False    False   \n",
              "64457   True   True  ...      True                   True   True     True   \n",
              "64458  False  False  ...     False                  False  False    False   \n",
              "64459  False  False  ...     False                  False  False    False   \n",
              "64460  False  False  ...     False                  False  False    False   \n",
              "\n",
              "        Perl    C++  Julia  Kotlin   Dart    VBA  \n",
              "0      False  False  False   False  False  False  \n",
              "1      False  False  False   False  False  False  \n",
              "2      False  False  False   False  False  False  \n",
              "3      False  False  False   False  False  False  \n",
              "4      False  False  False   False  False  False  \n",
              "...      ...    ...    ...     ...    ...    ...  \n",
              "64456  False  False  False   False  False  False  \n",
              "64457   True   True   True    True   True   True  \n",
              "64458  False  False  False   False  False  False  \n",
              "64459  False  False  False   False  False  False  \n",
              "64460  False  False  False   False  False  False  \n",
              "\n",
              "[64291 rows x 25 columns]"
            ],
            "text/html": [
              "\n",
              "  <div id=\"df-02c5cb03-6aee-4165-8531-3e78365bdfb5\">\n",
              "    <div class=\"colab-df-container\">\n",
              "      <div>\n",
              "<style scoped>\n",
              "    .dataframe tbody tr th:only-of-type {\n",
              "        vertical-align: middle;\n",
              "    }\n",
              "\n",
              "    .dataframe tbody tr th {\n",
              "        vertical-align: top;\n",
              "    }\n",
              "\n",
              "    .dataframe thead th {\n",
              "        text-align: right;\n",
              "    }\n",
              "</style>\n",
              "<table border=\"1\" class=\"dataframe\">\n",
              "  <thead>\n",
              "    <tr style=\"text-align: right;\">\n",
              "      <th></th>\n",
              "      <th>C#</th>\n",
              "      <th>HTML/CSS</th>\n",
              "      <th>JavaScript</th>\n",
              "      <th>Python</th>\n",
              "      <th>Swift</th>\n",
              "      <th>Objective-C</th>\n",
              "      <th>Java</th>\n",
              "      <th>Ruby</th>\n",
              "      <th>Scala</th>\n",
              "      <th>PHP</th>\n",
              "      <th>...</th>\n",
              "      <th>Assembly</th>\n",
              "      <th>Bash/Shell/PowerShell</th>\n",
              "      <th>C</th>\n",
              "      <th>Haskell</th>\n",
              "      <th>Perl</th>\n",
              "      <th>C++</th>\n",
              "      <th>Julia</th>\n",
              "      <th>Kotlin</th>\n",
              "      <th>Dart</th>\n",
              "      <th>VBA</th>\n",
              "    </tr>\n",
              "  </thead>\n",
              "  <tbody>\n",
              "    <tr>\n",
              "      <th>0</th>\n",
              "      <td>True</td>\n",
              "      <td>True</td>\n",
              "      <td>True</td>\n",
              "      <td>False</td>\n",
              "      <td>False</td>\n",
              "      <td>False</td>\n",
              "      <td>False</td>\n",
              "      <td>False</td>\n",
              "      <td>False</td>\n",
              "      <td>False</td>\n",
              "      <td>...</td>\n",
              "      <td>False</td>\n",
              "      <td>False</td>\n",
              "      <td>False</td>\n",
              "      <td>False</td>\n",
              "      <td>False</td>\n",
              "      <td>False</td>\n",
              "      <td>False</td>\n",
              "      <td>False</td>\n",
              "      <td>False</td>\n",
              "      <td>False</td>\n",
              "    </tr>\n",
              "    <tr>\n",
              "      <th>1</th>\n",
              "      <td>False</td>\n",
              "      <td>False</td>\n",
              "      <td>False</td>\n",
              "      <td>True</td>\n",
              "      <td>True</td>\n",
              "      <td>False</td>\n",
              "      <td>False</td>\n",
              "      <td>False</td>\n",
              "      <td>False</td>\n",
              "      <td>False</td>\n",
              "      <td>...</td>\n",
              "      <td>False</td>\n",
              "      <td>False</td>\n",
              "      <td>False</td>\n",
              "      <td>False</td>\n",
              "      <td>False</td>\n",
              "      <td>False</td>\n",
              "      <td>False</td>\n",
              "      <td>False</td>\n",
              "      <td>False</td>\n",
              "      <td>False</td>\n",
              "    </tr>\n",
              "    <tr>\n",
              "      <th>2</th>\n",
              "      <td>False</td>\n",
              "      <td>False</td>\n",
              "      <td>False</td>\n",
              "      <td>True</td>\n",
              "      <td>True</td>\n",
              "      <td>True</td>\n",
              "      <td>False</td>\n",
              "      <td>False</td>\n",
              "      <td>False</td>\n",
              "      <td>False</td>\n",
              "      <td>...</td>\n",
              "      <td>False</td>\n",
              "      <td>False</td>\n",
              "      <td>False</td>\n",
              "      <td>False</td>\n",
              "      <td>False</td>\n",
              "      <td>False</td>\n",
              "      <td>False</td>\n",
              "      <td>False</td>\n",
              "      <td>False</td>\n",
              "      <td>False</td>\n",
              "    </tr>\n",
              "    <tr>\n",
              "      <th>3</th>\n",
              "      <td>False</td>\n",
              "      <td>False</td>\n",
              "      <td>False</td>\n",
              "      <td>False</td>\n",
              "      <td>False</td>\n",
              "      <td>False</td>\n",
              "      <td>False</td>\n",
              "      <td>False</td>\n",
              "      <td>False</td>\n",
              "      <td>False</td>\n",
              "      <td>...</td>\n",
              "      <td>False</td>\n",
              "      <td>False</td>\n",
              "      <td>False</td>\n",
              "      <td>False</td>\n",
              "      <td>False</td>\n",
              "      <td>False</td>\n",
              "      <td>False</td>\n",
              "      <td>False</td>\n",
              "      <td>False</td>\n",
              "      <td>False</td>\n",
              "    </tr>\n",
              "    <tr>\n",
              "      <th>4</th>\n",
              "      <td>False</td>\n",
              "      <td>False</td>\n",
              "      <td>False</td>\n",
              "      <td>False</td>\n",
              "      <td>False</td>\n",
              "      <td>False</td>\n",
              "      <td>True</td>\n",
              "      <td>True</td>\n",
              "      <td>True</td>\n",
              "      <td>False</td>\n",
              "      <td>...</td>\n",
              "      <td>False</td>\n",
              "      <td>False</td>\n",
              "      <td>False</td>\n",
              "      <td>False</td>\n",
              "      <td>False</td>\n",
              "      <td>False</td>\n",
              "      <td>False</td>\n",
              "      <td>False</td>\n",
              "      <td>False</td>\n",
              "      <td>False</td>\n",
              "    </tr>\n",
              "    <tr>\n",
              "      <th>...</th>\n",
              "      <td>...</td>\n",
              "      <td>...</td>\n",
              "      <td>...</td>\n",
              "      <td>...</td>\n",
              "      <td>...</td>\n",
              "      <td>...</td>\n",
              "      <td>...</td>\n",
              "      <td>...</td>\n",
              "      <td>...</td>\n",
              "      <td>...</td>\n",
              "      <td>...</td>\n",
              "      <td>...</td>\n",
              "      <td>...</td>\n",
              "      <td>...</td>\n",
              "      <td>...</td>\n",
              "      <td>...</td>\n",
              "      <td>...</td>\n",
              "      <td>...</td>\n",
              "      <td>...</td>\n",
              "      <td>...</td>\n",
              "      <td>...</td>\n",
              "    </tr>\n",
              "    <tr>\n",
              "      <th>64456</th>\n",
              "      <td>False</td>\n",
              "      <td>False</td>\n",
              "      <td>False</td>\n",
              "      <td>False</td>\n",
              "      <td>False</td>\n",
              "      <td>False</td>\n",
              "      <td>False</td>\n",
              "      <td>False</td>\n",
              "      <td>False</td>\n",
              "      <td>False</td>\n",
              "      <td>...</td>\n",
              "      <td>False</td>\n",
              "      <td>False</td>\n",
              "      <td>False</td>\n",
              "      <td>False</td>\n",
              "      <td>False</td>\n",
              "      <td>False</td>\n",
              "      <td>False</td>\n",
              "      <td>False</td>\n",
              "      <td>False</td>\n",
              "      <td>False</td>\n",
              "    </tr>\n",
              "    <tr>\n",
              "      <th>64457</th>\n",
              "      <td>True</td>\n",
              "      <td>True</td>\n",
              "      <td>True</td>\n",
              "      <td>True</td>\n",
              "      <td>True</td>\n",
              "      <td>True</td>\n",
              "      <td>True</td>\n",
              "      <td>True</td>\n",
              "      <td>True</td>\n",
              "      <td>True</td>\n",
              "      <td>...</td>\n",
              "      <td>True</td>\n",
              "      <td>True</td>\n",
              "      <td>True</td>\n",
              "      <td>True</td>\n",
              "      <td>True</td>\n",
              "      <td>True</td>\n",
              "      <td>True</td>\n",
              "      <td>True</td>\n",
              "      <td>True</td>\n",
              "      <td>True</td>\n",
              "    </tr>\n",
              "    <tr>\n",
              "      <th>64458</th>\n",
              "      <td>False</td>\n",
              "      <td>False</td>\n",
              "      <td>False</td>\n",
              "      <td>False</td>\n",
              "      <td>False</td>\n",
              "      <td>False</td>\n",
              "      <td>False</td>\n",
              "      <td>False</td>\n",
              "      <td>False</td>\n",
              "      <td>False</td>\n",
              "      <td>...</td>\n",
              "      <td>False</td>\n",
              "      <td>False</td>\n",
              "      <td>False</td>\n",
              "      <td>False</td>\n",
              "      <td>False</td>\n",
              "      <td>False</td>\n",
              "      <td>False</td>\n",
              "      <td>False</td>\n",
              "      <td>False</td>\n",
              "      <td>False</td>\n",
              "    </tr>\n",
              "    <tr>\n",
              "      <th>64459</th>\n",
              "      <td>False</td>\n",
              "      <td>True</td>\n",
              "      <td>True</td>\n",
              "      <td>False</td>\n",
              "      <td>False</td>\n",
              "      <td>False</td>\n",
              "      <td>True</td>\n",
              "      <td>False</td>\n",
              "      <td>False</td>\n",
              "      <td>False</td>\n",
              "      <td>...</td>\n",
              "      <td>False</td>\n",
              "      <td>False</td>\n",
              "      <td>False</td>\n",
              "      <td>False</td>\n",
              "      <td>False</td>\n",
              "      <td>False</td>\n",
              "      <td>False</td>\n",
              "      <td>False</td>\n",
              "      <td>False</td>\n",
              "      <td>False</td>\n",
              "    </tr>\n",
              "    <tr>\n",
              "      <th>64460</th>\n",
              "      <td>True</td>\n",
              "      <td>True</td>\n",
              "      <td>True</td>\n",
              "      <td>False</td>\n",
              "      <td>False</td>\n",
              "      <td>False</td>\n",
              "      <td>True</td>\n",
              "      <td>False</td>\n",
              "      <td>False</td>\n",
              "      <td>False</td>\n",
              "      <td>...</td>\n",
              "      <td>False</td>\n",
              "      <td>False</td>\n",
              "      <td>False</td>\n",
              "      <td>False</td>\n",
              "      <td>False</td>\n",
              "      <td>False</td>\n",
              "      <td>False</td>\n",
              "      <td>False</td>\n",
              "      <td>False</td>\n",
              "      <td>False</td>\n",
              "    </tr>\n",
              "  </tbody>\n",
              "</table>\n",
              "<p>64291 rows × 25 columns</p>\n",
              "</div>\n",
              "      <button class=\"colab-df-convert\" onclick=\"convertToInteractive('df-02c5cb03-6aee-4165-8531-3e78365bdfb5')\"\n",
              "              title=\"Convert this dataframe to an interactive table.\"\n",
              "              style=\"display:none;\">\n",
              "        \n",
              "  <svg xmlns=\"http://www.w3.org/2000/svg\" height=\"24px\"viewBox=\"0 0 24 24\"\n",
              "       width=\"24px\">\n",
              "    <path d=\"M0 0h24v24H0V0z\" fill=\"none\"/>\n",
              "    <path d=\"M18.56 5.44l.94 2.06.94-2.06 2.06-.94-2.06-.94-.94-2.06-.94 2.06-2.06.94zm-11 1L8.5 8.5l.94-2.06 2.06-.94-2.06-.94L8.5 2.5l-.94 2.06-2.06.94zm10 10l.94 2.06.94-2.06 2.06-.94-2.06-.94-.94-2.06-.94 2.06-2.06.94z\"/><path d=\"M17.41 7.96l-1.37-1.37c-.4-.4-.92-.59-1.43-.59-.52 0-1.04.2-1.43.59L10.3 9.45l-7.72 7.72c-.78.78-.78 2.05 0 2.83L4 21.41c.39.39.9.59 1.41.59.51 0 1.02-.2 1.41-.59l7.78-7.78 2.81-2.81c.8-.78.8-2.07 0-2.86zM5.41 20L4 18.59l7.72-7.72 1.47 1.35L5.41 20z\"/>\n",
              "  </svg>\n",
              "      </button>\n",
              "      \n",
              "  <style>\n",
              "    .colab-df-container {\n",
              "      display:flex;\n",
              "      flex-wrap:wrap;\n",
              "      gap: 12px;\n",
              "    }\n",
              "\n",
              "    .colab-df-convert {\n",
              "      background-color: #E8F0FE;\n",
              "      border: none;\n",
              "      border-radius: 50%;\n",
              "      cursor: pointer;\n",
              "      display: none;\n",
              "      fill: #1967D2;\n",
              "      height: 32px;\n",
              "      padding: 0 0 0 0;\n",
              "      width: 32px;\n",
              "    }\n",
              "\n",
              "    .colab-df-convert:hover {\n",
              "      background-color: #E2EBFA;\n",
              "      box-shadow: 0px 1px 2px rgba(60, 64, 67, 0.3), 0px 1px 3px 1px rgba(60, 64, 67, 0.15);\n",
              "      fill: #174EA6;\n",
              "    }\n",
              "\n",
              "    [theme=dark] .colab-df-convert {\n",
              "      background-color: #3B4455;\n",
              "      fill: #D2E3FC;\n",
              "    }\n",
              "\n",
              "    [theme=dark] .colab-df-convert:hover {\n",
              "      background-color: #434B5C;\n",
              "      box-shadow: 0px 1px 3px 1px rgba(0, 0, 0, 0.15);\n",
              "      filter: drop-shadow(0px 1px 2px rgba(0, 0, 0, 0.3));\n",
              "      fill: #FFFFFF;\n",
              "    }\n",
              "  </style>\n",
              "\n",
              "      <script>\n",
              "        const buttonEl =\n",
              "          document.querySelector('#df-02c5cb03-6aee-4165-8531-3e78365bdfb5 button.colab-df-convert');\n",
              "        buttonEl.style.display =\n",
              "          google.colab.kernel.accessAllowed ? 'block' : 'none';\n",
              "\n",
              "        async function convertToInteractive(key) {\n",
              "          const element = document.querySelector('#df-02c5cb03-6aee-4165-8531-3e78365bdfb5');\n",
              "          const dataTable =\n",
              "            await google.colab.kernel.invokeFunction('convertToInteractive',\n",
              "                                                     [key], {});\n",
              "          if (!dataTable) return;\n",
              "\n",
              "          const docLinkHtml = 'Like what you see? Visit the ' +\n",
              "            '<a target=\"_blank\" href=https://colab.research.google.com/notebooks/data_table.ipynb>data table notebook</a>'\n",
              "            + ' to learn more about interactive tables.';\n",
              "          element.innerHTML = '';\n",
              "          dataTable['output_type'] = 'display_data';\n",
              "          await google.colab.output.renderOutput(dataTable, element);\n",
              "          const docLink = document.createElement('div');\n",
              "          docLink.innerHTML = docLinkHtml;\n",
              "          element.appendChild(docLink);\n",
              "        }\n",
              "      </script>\n",
              "    </div>\n",
              "  </div>\n",
              "  "
            ]
          },
          "metadata": {},
          "execution_count": 181
        }
      ]
    },
    {
      "cell_type": "code",
      "source": [
        "plt.figure(figsize= (12,8))\n",
        "sns.barplot(x= languages_interested_percentages, y=languages_interested_percentages.index)\n",
        "plt.title(\"Languages peoplesare interested in learning over next year\")\n",
        "plt.xlabel('count');"
      ],
      "metadata": {
        "colab": {
          "base_uri": "https://localhost:8080/",
          "height": 525
        },
        "id": "cqEfroPtiD23",
        "outputId": "994d8d00-c4ab-49d4-bfef-b5ebe01d4d64"
      },
      "execution_count": null,
      "outputs": [
        {
          "output_type": "display_data",
          "data": {
            "text/plain": [
              "<Figure size 864x576 with 1 Axes>"
            ],
            "image/png": "[encoded data removed]"
          },
          "metadata": {
            "needs_background": "light"
          }
        }
      ]
    },
    {
      "cell_type": "markdown",
      "source": [
        "Once again, it's not surprising that Python is the language most people are interested in learning - since it is an easy-to-learn general-purpose programming language well suited for a variety of domains: application development, numerical computing, data analysis, machine learning, big data, cloud automation, web scraping, scripting, etc. We're using Python for this very analysis, so we're in good company!\n",
        "\n",
        "**Exercises**: Repeat the exercises from the previous question, replacing \"most common languages\" with \"languages people are interested in learning/using.\"v"
      ],
      "metadata": {
        "id": "ktq8kYYhk53S"
      }
    },
    {
      "cell_type": "markdown",
      "source": [
        "#### Q:  Which are the most loved languages, i.e., a high percentage of people who have used the language want to continue learning & using it over the next year?\n",
        "\n",
        "While this question may seem tricky at first, it's straightforward to solve using Pandas array operations. Here's what we can do:\n",
        "\n",
        "- Create a new data frame `languages_loved_df` that contains a `True` value for a language only if the corresponding values in `languages_worked_df` and `languages_interested_df` are both `True`\n",
        "- Take the column-wise sum of `languages_loved_df` and divide it by the column-wise sum of `languages_worked_df` to get the percentage of respondents who \"love\" the language\n",
        "- Sort the results in decreasing order and plot a horizontal bar graph"
      ],
      "metadata": {
        "id": "gRVhFUkXk5zy"
      }
    },
    {
      "cell_type": "code",
      "source": [
        "languages_loved_df = languages_work_df & languages_interested_df"
      ],
      "metadata": {
        "id": "RmqsIdJoiPvs"
      },
      "execution_count": null,
      "outputs": []
    },
    {
      "cell_type": "code",
      "source": [
        "languages_interested_df"
      ],
      "metadata": {
        "colab": {
          "base_uri": "https://localhost:8080/",
          "height": 505
        },
        "id": "mSJTweyOlotW",
        "outputId": "e221d583-ddbf-4185-fbcd-4c248e79b6fc"
      },
      "execution_count": null,
      "outputs": [
        {
          "output_type": "execute_result",
          "data": {
            "text/plain": [
              "          C#  HTML/CSS  JavaScript  Python  Swift  Objective-C   Java   Ruby  \\\n",
              "0       True      True        True   False  False        False  False  False   \n",
              "1      False     False       False    True   True        False  False  False   \n",
              "2      False     False       False    True   True         True  False  False   \n",
              "3      False     False       False   False  False        False  False  False   \n",
              "4      False     False       False   False  False        False   True   True   \n",
              "...      ...       ...         ...     ...    ...          ...    ...    ...   \n",
              "64456  False     False       False   False  False        False  False  False   \n",
              "64457   True      True        True    True   True         True   True   True   \n",
              "64458  False     False       False   False  False        False  False  False   \n",
              "64459  False      True        True   False  False        False   True  False   \n",
              "64460   True      True        True   False  False        False   True  False   \n",
              "\n",
              "       Scala    PHP  ...  Assembly  Bash/Shell/PowerShell      C  Haskell  \\\n",
              "0      False  False  ...     False                  False  False    False   \n",
              "1      False  False  ...     False                  False  False    False   \n",
              "2      False  False  ...     False                  False  False    False   \n",
              "3      False  False  ...     False                  False  False    False   \n",
              "4       True  False  ...     False                  False  False    False   \n",
              "...      ...    ...  ...       ...                    ...    ...      ...   \n",
              "64456  False  False  ...     False                  False  False    False   \n",
              "64457   True   True  ...      True                   True   True     True   \n",
              "64458  False  False  ...     False                  False  False    False   \n",
              "64459  False  False  ...     False                  False  False    False   \n",
              "64460  False  False  ...     False                  False  False    False   \n",
              "\n",
              "        Perl    C++  Julia  Kotlin   Dart    VBA  \n",
              "0      False  False  False   False  False  False  \n",
              "1      False  False  False   False  False  False  \n",
              "2      False  False  False   False  False  False  \n",
              "3      False  False  False   False  False  False  \n",
              "4      False  False  False   False  False  False  \n",
              "...      ...    ...    ...     ...    ...    ...  \n",
              "64456  False  False  False   False  False  False  \n",
              "64457   True   True   True    True   True   True  \n",
              "64458  False  False  False   False  False  False  \n",
              "64459  False  False  False   False  False  False  \n",
              "64460  False  False  False   False  False  False  \n",
              "\n",
              "[64291 rows x 25 columns]"
            ],
            "text/html": [
              "\n",
              "  <div id=\"df-98f5c460-d37c-4225-8798-de2603fa977f\">\n",
              "    <div class=\"colab-df-container\">\n",
              "      <div>\n",
              "<style scoped>\n",
              "    .dataframe tbody tr th:only-of-type {\n",
              "        vertical-align: middle;\n",
              "    }\n",
              "\n",
              "    .dataframe tbody tr th {\n",
              "        vertical-align: top;\n",
              "    }\n",
              "\n",
              "    .dataframe thead th {\n",
              "        text-align: right;\n",
              "    }\n",
              "</style>\n",
              "<table border=\"1\" class=\"dataframe\">\n",
              "  <thead>\n",
              "    <tr style=\"text-align: right;\">\n",
              "      <th></th>\n",
              "      <th>C#</th>\n",
              "      <th>HTML/CSS</th>\n",
              "      <th>JavaScript</th>\n",
              "      <th>Python</th>\n",
              "      <th>Swift</th>\n",
              "      <th>Objective-C</th>\n",
              "      <th>Java</th>\n",
              "      <th>Ruby</th>\n",
              "      <th>Scala</th>\n",
              "      <th>PHP</th>\n",
              "      <th>...</th>\n",
              "      <th>Assembly</th>\n",
              "      <th>Bash/Shell/PowerShell</th>\n",
              "      <th>C</th>\n",
              "      <th>Haskell</th>\n",
              "      <th>Perl</th>\n",
              "      <th>C++</th>\n",
              "      <th>Julia</th>\n",
              "      <th>Kotlin</th>\n",
              "      <th>Dart</th>\n",
              "      <th>VBA</th>\n",
              "    </tr>\n",
              "  </thead>\n",
              "  <tbody>\n",
              "    <tr>\n",
              "      <th>0</th>\n",
              "      <td>True</td>\n",
              "      <td>True</td>\n",
              "      <td>True</td>\n",
              "      <td>False</td>\n",
              "      <td>False</td>\n",
              "      <td>False</td>\n",
              "      <td>False</td>\n",
              "      <td>False</td>\n",
              "      <td>False</td>\n",
              "      <td>False</td>\n",
              "      <td>...</td>\n",
              "      <td>False</td>\n",
              "      <td>False</td>\n",
              "      <td>False</td>\n",
              "      <td>False</td>\n",
              "      <td>False</td>\n",
              "      <td>False</td>\n",
              "      <td>False</td>\n",
              "      <td>False</td>\n",
              "      <td>False</td>\n",
              "      <td>False</td>\n",
              "    </tr>\n",
              "    <tr>\n",
              "      <th>1</th>\n",
              "      <td>False</td>\n",
              "      <td>False</td>\n",
              "      <td>False</td>\n",
              "      <td>True</td>\n",
              "      <td>True</td>\n",
              "      <td>False</td>\n",
              "      <td>False</td>\n",
              "      <td>False</td>\n",
              "      <td>False</td>\n",
              "      <td>False</td>\n",
              "      <td>...</td>\n",
              "      <td>False</td>\n",
              "      <td>False</td>\n",
              "      <td>False</td>\n",
              "      <td>False</td>\n",
              "      <td>False</td>\n",
              "      <td>False</td>\n",
              "      <td>False</td>\n",
              "      <td>False</td>\n",
              "      <td>False</td>\n",
              "      <td>False</td>\n",
              "    </tr>\n",
              "    <tr>\n",
              "      <th>2</th>\n",
              "      <td>False</td>\n",
              "      <td>False</td>\n",
              "      <td>False</td>\n",
              "      <td>True</td>\n",
              "      <td>True</td>\n",
              "      <td>True</td>\n",
              "      <td>False</td>\n",
              "      <td>False</td>\n",
              "      <td>False</td>\n",
              "      <td>False</td>\n",
              "      <td>...</td>\n",
              "      <td>False</td>\n",
              "      <td>False</td>\n",
              "      <td>False</td>\n",
              "      <td>False</td>\n",
              "      <td>False</td>\n",
              "      <td>False</td>\n",
              "      <td>False</td>\n",
              "      <td>False</td>\n",
              "      <td>False</td>\n",
              "      <td>False</td>\n",
              "    </tr>\n",
              "    <tr>\n",
              "      <th>3</th>\n",
              "      <td>False</td>\n",
              "      <td>False</td>\n",
              "      <td>False</td>\n",
              "      <td>False</td>\n",
              "      <td>False</td>\n",
              "      <td>False</td>\n",
              "      <td>False</td>\n",
              "      <td>False</td>\n",
              "      <td>False</td>\n",
              "      <td>False</td>\n",
              "      <td>...</td>\n",
              "      <td>False</td>\n",
              "      <td>False</td>\n",
              "      <td>False</td>\n",
              "      <td>False</td>\n",
              "      <td>False</td>\n",
              "      <td>False</td>\n",
              "      <td>False</td>\n",
              "      <td>False</td>\n",
              "      <td>False</td>\n",
              "      <td>False</td>\n",
              "    </tr>\n",
              "    <tr>\n",
              "      <th>4</th>\n",
              "      <td>False</td>\n",
              "      <td>False</td>\n",
              "      <td>False</td>\n",
              "      <td>False</td>\n",
              "      <td>False</td>\n",
              "      <td>False</td>\n",
              "      <td>True</td>\n",
              "      <td>True</td>\n",
              "      <td>True</td>\n",
              "      <td>False</td>\n",
              "      <td>...</td>\n",
              "      <td>False</td>\n",
              "      <td>False</td>\n",
              "      <td>False</td>\n",
              "      <td>False</td>\n",
              "      <td>False</td>\n",
              "      <td>False</td>\n",
              "      <td>False</td>\n",
              "      <td>False</td>\n",
              "      <td>False</td>\n",
              "      <td>False</td>\n",
              "    </tr>\n",
              "    <tr>\n",
              "      <th>...</th>\n",
              "      <td>...</td>\n",
              "      <td>...</td>\n",
              "      <td>...</td>\n",
              "      <td>...</td>\n",
              "      <td>...</td>\n",
              "      <td>...</td>\n",
              "      <td>...</td>\n",
              "      <td>...</td>\n",
              "      <td>...</td>\n",
              "      <td>...</td>\n",
              "      <td>...</td>\n",
              "      <td>...</td>\n",
              "      <td>...</td>\n",
              "      <td>...</td>\n",
              "      <td>...</td>\n",
              "      <td>...</td>\n",
              "      <td>...</td>\n",
              "      <td>...</td>\n",
              "      <td>...</td>\n",
              "      <td>...</td>\n",
              "      <td>...</td>\n",
              "    </tr>\n",
              "    <tr>\n",
              "      <th>64456</th>\n",
              "      <td>False</td>\n",
              "      <td>False</td>\n",
              "      <td>False</td>\n",
              "      <td>False</td>\n",
              "      <td>False</td>\n",
              "      <td>False</td>\n",
              "      <td>False</td>\n",
              "      <td>False</td>\n",
              "      <td>False</td>\n",
              "      <td>False</td>\n",
              "      <td>...</td>\n",
              "      <td>False</td>\n",
              "      <td>False</td>\n",
              "      <td>False</td>\n",
              "      <td>False</td>\n",
              "      <td>False</td>\n",
              "      <td>False</td>\n",
              "      <td>False</td>\n",
              "      <td>False</td>\n",
              "      <td>False</td>\n",
              "      <td>False</td>\n",
              "    </tr>\n",
              "    <tr>\n",
              "      <th>64457</th>\n",
              "      <td>True</td>\n",
              "      <td>True</td>\n",
              "      <td>True</td>\n",
              "      <td>True</td>\n",
              "      <td>True</td>\n",
              "      <td>True</td>\n",
              "      <td>True</td>\n",
              "      <td>True</td>\n",
              "      <td>True</td>\n",
              "      <td>True</td>\n",
              "      <td>...</td>\n",
              "      <td>True</td>\n",
              "      <td>True</td>\n",
              "      <td>True</td>\n",
              "      <td>True</td>\n",
              "      <td>True</td>\n",
              "      <td>True</td>\n",
              "      <td>True</td>\n",
              "      <td>True</td>\n",
              "      <td>True</td>\n",
              "      <td>True</td>\n",
              "    </tr>\n",
              "    <tr>\n",
              "      <th>64458</th>\n",
              "      <td>False</td>\n",
              "      <td>False</td>\n",
              "      <td>False</td>\n",
              "      <td>False</td>\n",
              "      <td>False</td>\n",
              "      <td>False</td>\n",
              "      <td>False</td>\n",
              "      <td>False</td>\n",
              "      <td>False</td>\n",
              "      <td>False</td>\n",
              "      <td>...</td>\n",
              "      <td>False</td>\n",
              "      <td>False</td>\n",
              "      <td>False</td>\n",
              "      <td>False</td>\n",
              "      <td>False</td>\n",
              "      <td>False</td>\n",
              "      <td>False</td>\n",
              "      <td>False</td>\n",
              "      <td>False</td>\n",
              "      <td>False</td>\n",
              "    </tr>\n",
              "    <tr>\n",
              "      <th>64459</th>\n",
              "      <td>False</td>\n",
              "      <td>True</td>\n",
              "      <td>True</td>\n",
              "      <td>False</td>\n",
              "      <td>False</td>\n",
              "      <td>False</td>\n",
              "      <td>True</td>\n",
              "      <td>False</td>\n",
              "      <td>False</td>\n",
              "      <td>False</td>\n",
              "      <td>...</td>\n",
              "      <td>False</td>\n",
              "      <td>False</td>\n",
              "      <td>False</td>\n",
              "      <td>False</td>\n",
              "      <td>False</td>\n",
              "      <td>False</td>\n",
              "      <td>False</td>\n",
              "      <td>False</td>\n",
              "      <td>False</td>\n",
              "      <td>False</td>\n",
              "    </tr>\n",
              "    <tr>\n",
              "      <th>64460</th>\n",
              "      <td>True</td>\n",
              "      <td>True</td>\n",
              "      <td>True</td>\n",
              "      <td>False</td>\n",
              "      <td>False</td>\n",
              "      <td>False</td>\n",
              "      <td>True</td>\n",
              "      <td>False</td>\n",
              "      <td>False</td>\n",
              "      <td>False</td>\n",
              "      <td>...</td>\n",
              "      <td>False</td>\n",
              "      <td>False</td>\n",
              "      <td>False</td>\n",
              "      <td>False</td>\n",
              "      <td>False</td>\n",
              "      <td>False</td>\n",
              "      <td>False</td>\n",
              "      <td>False</td>\n",
              "      <td>False</td>\n",
              "      <td>False</td>\n",
              "    </tr>\n",
              "  </tbody>\n",
              "</table>\n",
              "<p>64291 rows × 25 columns</p>\n",
              "</div>\n",
              "      <button class=\"colab-df-convert\" onclick=\"convertToInteractive('df-98f5c460-d37c-4225-8798-de2603fa977f')\"\n",
              "              title=\"Convert this dataframe to an interactive table.\"\n",
              "              style=\"display:none;\">\n",
              "        \n",
              "  <svg xmlns=\"http://www.w3.org/2000/svg\" height=\"24px\"viewBox=\"0 0 24 24\"\n",
              "       width=\"24px\">\n",
              "    <path d=\"M0 0h24v24H0V0z\" fill=\"none\"/>\n",
              "    <path d=\"M18.56 5.44l.94 2.06.94-2.06 2.06-.94-2.06-.94-.94-2.06-.94 2.06-2.06.94zm-11 1L8.5 8.5l.94-2.06 2.06-.94-2.06-.94L8.5 2.5l-.94 2.06-2.06.94zm10 10l.94 2.06.94-2.06 2.06-.94-2.06-.94-.94-2.06-.94 2.06-2.06.94z\"/><path d=\"M17.41 7.96l-1.37-1.37c-.4-.4-.92-.59-1.43-.59-.52 0-1.04.2-1.43.59L10.3 9.45l-7.72 7.72c-.78.78-.78 2.05 0 2.83L4 21.41c.39.39.9.59 1.41.59.51 0 1.02-.2 1.41-.59l7.78-7.78 2.81-2.81c.8-.78.8-2.07 0-2.86zM5.41 20L4 18.59l7.72-7.72 1.47 1.35L5.41 20z\"/>\n",
              "  </svg>\n",
              "      </button>\n",
              "      \n",
              "  <style>\n",
              "    .colab-df-container {\n",
              "      display:flex;\n",
              "      flex-wrap:wrap;\n",
              "      gap: 12px;\n",
              "    }\n",
              "\n",
              "    .colab-df-convert {\n",
              "      background-color: #E8F0FE;\n",
              "      border: none;\n",
              "      border-radius: 50%;\n",
              "      cursor: pointer;\n",
              "      display: none;\n",
              "      fill: #1967D2;\n",
              "      height: 32px;\n",
              "      padding: 0 0 0 0;\n",
              "      width: 32px;\n",
              "    }\n",
              "\n",
              "    .colab-df-convert:hover {\n",
              "      background-color: #E2EBFA;\n",
              "      box-shadow: 0px 1px 2px rgba(60, 64, 67, 0.3), 0px 1px 3px 1px rgba(60, 64, 67, 0.15);\n",
              "      fill: #174EA6;\n",
              "    }\n",
              "\n",
              "    [theme=dark] .colab-df-convert {\n",
              "      background-color: #3B4455;\n",
              "      fill: #D2E3FC;\n",
              "    }\n",
              "\n",
              "    [theme=dark] .colab-df-convert:hover {\n",
              "      background-color: #434B5C;\n",
              "      box-shadow: 0px 1px 3px 1px rgba(0, 0, 0, 0.15);\n",
              "      filter: drop-shadow(0px 1px 2px rgba(0, 0, 0, 0.3));\n",
              "      fill: #FFFFFF;\n",
              "    }\n",
              "  </style>\n",
              "\n",
              "      <script>\n",
              "        const buttonEl =\n",
              "          document.querySelector('#df-98f5c460-d37c-4225-8798-de2603fa977f button.colab-df-convert');\n",
              "        buttonEl.style.display =\n",
              "          google.colab.kernel.accessAllowed ? 'block' : 'none';\n",
              "\n",
              "        async function convertToInteractive(key) {\n",
              "          const element = document.querySelector('#df-98f5c460-d37c-4225-8798-de2603fa977f');\n",
              "          const dataTable =\n",
              "            await google.colab.kernel.invokeFunction('convertToInteractive',\n",
              "                                                     [key], {});\n",
              "          if (!dataTable) return;\n",
              "\n",
              "          const docLinkHtml = 'Like what you see? Visit the ' +\n",
              "            '<a target=\"_blank\" href=https://colab.research.google.com/notebooks/data_table.ipynb>data table notebook</a>'\n",
              "            + ' to learn more about interactive tables.';\n",
              "          element.innerHTML = '';\n",
              "          dataTable['output_type'] = 'display_data';\n",
              "          await google.colab.output.renderOutput(dataTable, element);\n",
              "          const docLink = document.createElement('div');\n",
              "          docLink.innerHTML = docLinkHtml;\n",
              "          element.appendChild(docLink);\n",
              "        }\n",
              "      </script>\n",
              "    </div>\n",
              "  </div>\n",
              "  "
            ]
          },
          "metadata": {},
          "execution_count": 184
        }
      ]
    },
    {
      "cell_type": "code",
      "source": [
        "languages_loved_percentages = (languages_loved_df.sum() * 100 / languages_work_df.sum())"
      ],
      "metadata": {
        "id": "Q0U-L0Q6lsE2"
      },
      "execution_count": null,
      "outputs": []
    },
    {
      "cell_type": "code",
      "source": [
        "languages_loved_percentages.sort_values(ascending=False)"
      ],
      "metadata": {
        "colab": {
          "base_uri": "https://localhost:8080/"
        },
        "id": "r9nDIPZ6nB3X",
        "outputId": "e9803230-9a1b-4116-987e-8bd791fd3124"
      },
      "execution_count": null,
      "outputs": [
        {
          "output_type": "execute_result",
          "data": {
            "text/plain": [
              "Rust                     86.129367\n",
              "TypeScript               67.123667\n",
              "Python                   66.604187\n",
              "Kotlin                   62.855852\n",
              "Go                       62.201724\n",
              "Dart                     62.123894\n",
              "Julia                    61.676647\n",
              "C#                       59.633028\n",
              "Swift                    59.511759\n",
              "JavaScript               58.359302\n",
              "SQL                      56.615404\n",
              "Bash/Shell/PowerShell    53.694345\n",
              "HTML/CSS                 53.499456\n",
              "Scala                    53.310277\n",
              "Haskell                  51.464435\n",
              "R                        44.454685\n",
              "Java                     44.119831\n",
              "C++                      43.424446\n",
              "Ruby                     42.753623\n",
              "PHP                      37.229321\n",
              "C                        32.991025\n",
              "Assembly                 29.114286\n",
              "Perl                     28.402033\n",
              "Objective-C              23.153348\n",
              "VBA                      19.474899\n",
              "dtype: float64"
            ]
          },
          "metadata": {},
          "execution_count": 186
        }
      ]
    },
    {
      "cell_type": "code",
      "source": [
        "plt.figure(figsize=(12,8))\n",
        "sns.barplot(x=languages_loved_percentages, y= languages_loved_percentages.index)\n",
        "plt.title(\"Most loved Languages\")\n",
        "plt.xlabel('count');"
      ],
      "metadata": {
        "colab": {
          "base_uri": "https://localhost:8080/",
          "height": 525
        },
        "id": "WaY8kBHgnECP",
        "outputId": "90894bf3-890f-4736-a364-3db21bf33c74"
      },
      "execution_count": null,
      "outputs": [
        {
          "output_type": "display_data",
          "data": {
            "text/plain": [
              "<Figure size 864x576 with 1 Axes>"
            ],
            "image/png": "[encoded data removed]"
          },
          "metadata": {
            "needs_background": "light"
          }
        }
      ]
    },
    {
      "cell_type": "markdown",
      "source": [
        "[Rust](https://www.rust-lang.org) has been StackOverflow's most-loved language for [four years in a row](https://stackoverflow.blog/2020/01/20/what-is-rust-and-why-is-it-so-popular/). The second most-loved language is TypeScript, a popular alternative to JavaScript for web development.\n",
        "\n",
        "Python features at number 3, despite already being one of the most widely-used languages in the world. Python has a solid foundation, is easy to learn & use, has a large ecosystem of domain-specific libraries, and a massive worldwide community.\n",
        "\n",
        "**Exercises:** What are the most dreaded languages, i.e., languages which people have used in the past year but do not want to learn/use over the next year. Hint: `~languages_interested_df`."
      ],
      "metadata": {
        "id": "NwCeZETKotYY"
      }
    },
    {
      "cell_type": "markdown",
      "source": [
        "#### Q: In which countries do developers work the highest number of hours per week? Consider countries with more than 250 responses only.\n",
        "\n",
        "To answer this question, we'll need to use the `groupby` data frame method to aggregate the rows for each country. We'll also need to filter the results to only include the countries with more than 250 respondents."
      ],
      "metadata": {
        "id": "e_E3D2T2ovwG"
      }
    },
    {
      "cell_type": "code",
      "source": [
        "survey_df.groupby('Country')[['WorkWeekHrs','Age']].mean()"
      ],
      "metadata": {
        "colab": {
          "base_uri": "https://localhost:8080/",
          "height": 455
        },
        "id": "Cnh7O_dyqGQA",
        "outputId": "a67a7d99-c8ae-451f-e98b-9d92b9437104"
      },
      "execution_count": null,
      "outputs": [
        {
          "output_type": "execute_result",
          "data": {
            "text/plain": [
              "                                      WorkWeekHrs        Age\n",
              "Country                                                     \n",
              "Afghanistan                             46.500000  23.571429\n",
              "Albania                                 43.962963  26.766667\n",
              "Algeria                                 36.862069  26.600000\n",
              "Andorra                                 42.000000  39.000000\n",
              "Angola                                  24.500000  25.500000\n",
              "...                                           ...        ...\n",
              "Venezuela, Bolivarian Republic of...    40.125000  29.090909\n",
              "Viet Nam                                41.391667  25.786585\n",
              "Yemen                                   40.000000  31.000000\n",
              "Zambia                                  38.000000  29.000000\n",
              "Zimbabwe                                39.928571  25.578947\n",
              "\n",
              "[183 rows x 2 columns]"
            ],
            "text/html": [
              "\n",
              "  <div id=\"df-c83220ac-36c1-40dc-9afb-d029d1d68828\">\n",
              "    <div class=\"colab-df-container\">\n",
              "      <div>\n",
              "<style scoped>\n",
              "    .dataframe tbody tr th:only-of-type {\n",
              "        vertical-align: middle;\n",
              "    }\n",
              "\n",
              "    .dataframe tbody tr th {\n",
              "        vertical-align: top;\n",
              "    }\n",
              "\n",
              "    .dataframe thead th {\n",
              "        text-align: right;\n",
              "    }\n",
              "</style>\n",
              "<table border=\"1\" class=\"dataframe\">\n",
              "  <thead>\n",
              "    <tr style=\"text-align: right;\">\n",
              "      <th></th>\n",
              "      <th>WorkWeekHrs</th>\n",
              "      <th>Age</th>\n",
              "    </tr>\n",
              "    <tr>\n",
              "      <th>Country</th>\n",
              "      <th></th>\n",
              "      <th></th>\n",
              "    </tr>\n",
              "  </thead>\n",
              "  <tbody>\n",
              "    <tr>\n",
              "      <th>Afghanistan</th>\n",
              "      <td>46.500000</td>\n",
              "      <td>23.571429</td>\n",
              "    </tr>\n",
              "    <tr>\n",
              "      <th>Albania</th>\n",
              "      <td>43.962963</td>\n",
              "      <td>26.766667</td>\n",
              "    </tr>\n",
              "    <tr>\n",
              "      <th>Algeria</th>\n",
              "      <td>36.862069</td>\n",
              "      <td>26.600000</td>\n",
              "    </tr>\n",
              "    <tr>\n",
              "      <th>Andorra</th>\n",
              "      <td>42.000000</td>\n",
              "      <td>39.000000</td>\n",
              "    </tr>\n",
              "    <tr>\n",
              "      <th>Angola</th>\n",
              "      <td>24.500000</td>\n",
              "      <td>25.500000</td>\n",
              "    </tr>\n",
              "    <tr>\n",
              "      <th>...</th>\n",
              "      <td>...</td>\n",
              "      <td>...</td>\n",
              "    </tr>\n",
              "    <tr>\n",
              "      <th>Venezuela, Bolivarian Republic of...</th>\n",
              "      <td>40.125000</td>\n",
              "      <td>29.090909</td>\n",
              "    </tr>\n",
              "    <tr>\n",
              "      <th>Viet Nam</th>\n",
              "      <td>41.391667</td>\n",
              "      <td>25.786585</td>\n",
              "    </tr>\n",
              "    <tr>\n",
              "      <th>Yemen</th>\n",
              "      <td>40.000000</td>\n",
              "      <td>31.000000</td>\n",
              "    </tr>\n",
              "    <tr>\n",
              "      <th>Zambia</th>\n",
              "      <td>38.000000</td>\n",
              "      <td>29.000000</td>\n",
              "    </tr>\n",
              "    <tr>\n",
              "      <th>Zimbabwe</th>\n",
              "      <td>39.928571</td>\n",
              "      <td>25.578947</td>\n",
              "    </tr>\n",
              "  </tbody>\n",
              "</table>\n",
              "<p>183 rows × 2 columns</p>\n",
              "</div>\n",
              "      <button class=\"colab-df-convert\" onclick=\"convertToInteractive('df-c83220ac-36c1-40dc-9afb-d029d1d68828')\"\n",
              "              title=\"Convert this dataframe to an interactive table.\"\n",
              "              style=\"display:none;\">\n",
              "        \n",
              "  <svg xmlns=\"http://www.w3.org/2000/svg\" height=\"24px\"viewBox=\"0 0 24 24\"\n",
              "       width=\"24px\">\n",
              "    <path d=\"M0 0h24v24H0V0z\" fill=\"none\"/>\n",
              "    <path d=\"M18.56 5.44l.94 2.06.94-2.06 2.06-.94-2.06-.94-.94-2.06-.94 2.06-2.06.94zm-11 1L8.5 8.5l.94-2.06 2.06-.94-2.06-.94L8.5 2.5l-.94 2.06-2.06.94zm10 10l.94 2.06.94-2.06 2.06-.94-2.06-.94-.94-2.06-.94 2.06-2.06.94z\"/><path d=\"M17.41 7.96l-1.37-1.37c-.4-.4-.92-.59-1.43-.59-.52 0-1.04.2-1.43.59L10.3 9.45l-7.72 7.72c-.78.78-.78 2.05 0 2.83L4 21.41c.39.39.9.59 1.41.59.51 0 1.02-.2 1.41-.59l7.78-7.78 2.81-2.81c.8-.78.8-2.07 0-2.86zM5.41 20L4 18.59l7.72-7.72 1.47 1.35L5.41 20z\"/>\n",
              "  </svg>\n",
              "      </button>\n",
              "      \n",
              "  <style>\n",
              "    .colab-df-container {\n",
              "      display:flex;\n",
              "      flex-wrap:wrap;\n",
              "      gap: 12px;\n",
              "    }\n",
              "\n",
              "    .colab-df-convert {\n",
              "      background-color: #E8F0FE;\n",
              "      border: none;\n",
              "      border-radius: 50%;\n",
              "      cursor: pointer;\n",
              "      display: none;\n",
              "      fill: #1967D2;\n",
              "      height: 32px;\n",
              "      padding: 0 0 0 0;\n",
              "      width: 32px;\n",
              "    }\n",
              "\n",
              "    .colab-df-convert:hover {\n",
              "      background-color: #E2EBFA;\n",
              "      box-shadow: 0px 1px 2px rgba(60, 64, 67, 0.3), 0px 1px 3px 1px rgba(60, 64, 67, 0.15);\n",
              "      fill: #174EA6;\n",
              "    }\n",
              "\n",
              "    [theme=dark] .colab-df-convert {\n",
              "      background-color: #3B4455;\n",
              "      fill: #D2E3FC;\n",
              "    }\n",
              "\n",
              "    [theme=dark] .colab-df-convert:hover {\n",
              "      background-color: #434B5C;\n",
              "      box-shadow: 0px 1px 3px 1px rgba(0, 0, 0, 0.15);\n",
              "      filter: drop-shadow(0px 1px 2px rgba(0, 0, 0, 0.3));\n",
              "      fill: #FFFFFF;\n",
              "    }\n",
              "  </style>\n",
              "\n",
              "      <script>\n",
              "        const buttonEl =\n",
              "          document.querySelector('#df-c83220ac-36c1-40dc-9afb-d029d1d68828 button.colab-df-convert');\n",
              "        buttonEl.style.display =\n",
              "          google.colab.kernel.accessAllowed ? 'block' : 'none';\n",
              "\n",
              "        async function convertToInteractive(key) {\n",
              "          const element = document.querySelector('#df-c83220ac-36c1-40dc-9afb-d029d1d68828');\n",
              "          const dataTable =\n",
              "            await google.colab.kernel.invokeFunction('convertToInteractive',\n",
              "                                                     [key], {});\n",
              "          if (!dataTable) return;\n",
              "\n",
              "          const docLinkHtml = 'Like what you see? Visit the ' +\n",
              "            '<a target=\"_blank\" href=https://colab.research.google.com/notebooks/data_table.ipynb>data table notebook</a>'\n",
              "            + ' to learn more about interactive tables.';\n",
              "          element.innerHTML = '';\n",
              "          dataTable['output_type'] = 'display_data';\n",
              "          await google.colab.output.renderOutput(dataTable, element);\n",
              "          const docLink = document.createElement('div');\n",
              "          docLink.innerHTML = docLinkHtml;\n",
              "          element.appendChild(docLink);\n",
              "        }\n",
              "      </script>\n",
              "    </div>\n",
              "  </div>\n",
              "  "
            ]
          },
          "metadata": {},
          "execution_count": 188
        }
      ]
    },
    {
      "cell_type": "code",
      "source": [
        "survey_df.groupby('Country')[['WorkWeekHrs']].mean().sort_values('WorkWeekHrs', ascending= False)"
      ],
      "metadata": {
        "colab": {
          "base_uri": "https://localhost:8080/",
          "height": 455
        },
        "id": "OT8QakmYqQko",
        "outputId": "9729068c-c4f0-4aa5-83ae-305f8e4532a1"
      },
      "execution_count": null,
      "outputs": [
        {
          "output_type": "execute_result",
          "data": {
            "text/plain": [
              "                 WorkWeekHrs\n",
              "Country                     \n",
              "Kuwait             58.222222\n",
              "Iraq               52.153846\n",
              "Grenada            50.000000\n",
              "Maldives           47.300000\n",
              "Afghanistan        46.500000\n",
              "...                      ...\n",
              "North Korea              NaN\n",
              "Saint Lucia              NaN\n",
              "Sierra Leone             NaN\n",
              "Solomon Islands          NaN\n",
              "Timor-Leste              NaN\n",
              "\n",
              "[183 rows x 1 columns]"
            ],
            "text/html": [
              "\n",
              "  <div id=\"df-b8a0a172-1f91-4c05-8f4a-dd07f52248b0\">\n",
              "    <div class=\"colab-df-container\">\n",
              "      <div>\n",
              "<style scoped>\n",
              "    .dataframe tbody tr th:only-of-type {\n",
              "        vertical-align: middle;\n",
              "    }\n",
              "\n",
              "    .dataframe tbody tr th {\n",
              "        vertical-align: top;\n",
              "    }\n",
              "\n",
              "    .dataframe thead th {\n",
              "        text-align: right;\n",
              "    }\n",
              "</style>\n",
              "<table border=\"1\" class=\"dataframe\">\n",
              "  <thead>\n",
              "    <tr style=\"text-align: right;\">\n",
              "      <th></th>\n",
              "      <th>WorkWeekHrs</th>\n",
              "    </tr>\n",
              "    <tr>\n",
              "      <th>Country</th>\n",
              "      <th></th>\n",
              "    </tr>\n",
              "  </thead>\n",
              "  <tbody>\n",
              "    <tr>\n",
              "      <th>Kuwait</th>\n",
              "      <td>58.222222</td>\n",
              "    </tr>\n",
              "    <tr>\n",
              "      <th>Iraq</th>\n",
              "      <td>52.153846</td>\n",
              "    </tr>\n",
              "    <tr>\n",
              "      <th>Grenada</th>\n",
              "      <td>50.000000</td>\n",
              "    </tr>\n",
              "    <tr>\n",
              "      <th>Maldives</th>\n",
              "      <td>47.300000</td>\n",
              "    </tr>\n",
              "    <tr>\n",
              "      <th>Afghanistan</th>\n",
              "      <td>46.500000</td>\n",
              "    </tr>\n",
              "    <tr>\n",
              "      <th>...</th>\n",
              "      <td>...</td>\n",
              "    </tr>\n",
              "    <tr>\n",
              "      <th>North Korea</th>\n",
              "      <td>NaN</td>\n",
              "    </tr>\n",
              "    <tr>\n",
              "      <th>Saint Lucia</th>\n",
              "      <td>NaN</td>\n",
              "    </tr>\n",
              "    <tr>\n",
              "      <th>Sierra Leone</th>\n",
              "      <td>NaN</td>\n",
              "    </tr>\n",
              "    <tr>\n",
              "      <th>Solomon Islands</th>\n",
              "      <td>NaN</td>\n",
              "    </tr>\n",
              "    <tr>\n",
              "      <th>Timor-Leste</th>\n",
              "      <td>NaN</td>\n",
              "    </tr>\n",
              "  </tbody>\n",
              "</table>\n",
              "<p>183 rows × 1 columns</p>\n",
              "</div>\n",
              "      <button class=\"colab-df-convert\" onclick=\"convertToInteractive('df-b8a0a172-1f91-4c05-8f4a-dd07f52248b0')\"\n",
              "              title=\"Convert this dataframe to an interactive table.\"\n",
              "              style=\"display:none;\">\n",
              "        \n",
              "  <svg xmlns=\"http://www.w3.org/2000/svg\" height=\"24px\"viewBox=\"0 0 24 24\"\n",
              "       width=\"24px\">\n",
              "    <path d=\"M0 0h24v24H0V0z\" fill=\"none\"/>\n",
              "    <path d=\"M18.56 5.44l.94 2.06.94-2.06 2.06-.94-2.06-.94-.94-2.06-.94 2.06-2.06.94zm-11 1L8.5 8.5l.94-2.06 2.06-.94-2.06-.94L8.5 2.5l-.94 2.06-2.06.94zm10 10l.94 2.06.94-2.06 2.06-.94-2.06-.94-.94-2.06-.94 2.06-2.06.94z\"/><path d=\"M17.41 7.96l-1.37-1.37c-.4-.4-.92-.59-1.43-.59-.52 0-1.04.2-1.43.59L10.3 9.45l-7.72 7.72c-.78.78-.78 2.05 0 2.83L4 21.41c.39.39.9.59 1.41.59.51 0 1.02-.2 1.41-.59l7.78-7.78 2.81-2.81c.8-.78.8-2.07 0-2.86zM5.41 20L4 18.59l7.72-7.72 1.47 1.35L5.41 20z\"/>\n",
              "  </svg>\n",
              "      </button>\n",
              "      \n",
              "  <style>\n",
              "    .colab-df-container {\n",
              "      display:flex;\n",
              "      flex-wrap:wrap;\n",
              "      gap: 12px;\n",
              "    }\n",
              "\n",
              "    .colab-df-convert {\n",
              "      background-color: #E8F0FE;\n",
              "      border: none;\n",
              "      border-radius: 50%;\n",
              "      cursor: pointer;\n",
              "      display: none;\n",
              "      fill: #1967D2;\n",
              "      height: 32px;\n",
              "      padding: 0 0 0 0;\n",
              "      width: 32px;\n",
              "    }\n",
              "\n",
              "    .colab-df-convert:hover {\n",
              "      background-color: #E2EBFA;\n",
              "      box-shadow: 0px 1px 2px rgba(60, 64, 67, 0.3), 0px 1px 3px 1px rgba(60, 64, 67, 0.15);\n",
              "      fill: #174EA6;\n",
              "    }\n",
              "\n",
              "    [theme=dark] .colab-df-convert {\n",
              "      background-color: #3B4455;\n",
              "      fill: #D2E3FC;\n",
              "    }\n",
              "\n",
              "    [theme=dark] .colab-df-convert:hover {\n",
              "      background-color: #434B5C;\n",
              "      box-shadow: 0px 1px 3px 1px rgba(0, 0, 0, 0.15);\n",
              "      filter: drop-shadow(0px 1px 2px rgba(0, 0, 0, 0.3));\n",
              "      fill: #FFFFFF;\n",
              "    }\n",
              "  </style>\n",
              "\n",
              "      <script>\n",
              "        const buttonEl =\n",
              "          document.querySelector('#df-b8a0a172-1f91-4c05-8f4a-dd07f52248b0 button.colab-df-convert');\n",
              "        buttonEl.style.display =\n",
              "          google.colab.kernel.accessAllowed ? 'block' : 'none';\n",
              "\n",
              "        async function convertToInteractive(key) {\n",
              "          const element = document.querySelector('#df-b8a0a172-1f91-4c05-8f4a-dd07f52248b0');\n",
              "          const dataTable =\n",
              "            await google.colab.kernel.invokeFunction('convertToInteractive',\n",
              "                                                     [key], {});\n",
              "          if (!dataTable) return;\n",
              "\n",
              "          const docLinkHtml = 'Like what you see? Visit the ' +\n",
              "            '<a target=\"_blank\" href=https://colab.research.google.com/notebooks/data_table.ipynb>data table notebook</a>'\n",
              "            + ' to learn more about interactive tables.';\n",
              "          element.innerHTML = '';\n",
              "          dataTable['output_type'] = 'display_data';\n",
              "          await google.colab.output.renderOutput(dataTable, element);\n",
              "          const docLink = document.createElement('div');\n",
              "          docLink.innerHTML = docLinkHtml;\n",
              "          element.appendChild(docLink);\n",
              "        }\n",
              "      </script>\n",
              "    </div>\n",
              "  </div>\n",
              "  "
            ]
          },
          "metadata": {},
          "execution_count": 189
        }
      ]
    },
    {
      "cell_type": "code",
      "source": [
        "countries_df = survey_df.groupby('Country')[['WorkWeekHrs']].mean().sort_values('WorkWeekHrs',ascending= False)\n",
        "high_response_countries_df = countries_df.loc[survey_df.Country.value_counts() > 250].head(15)"
      ],
      "metadata": {
        "id": "8wbR0YDRrDpT"
      },
      "execution_count": null,
      "outputs": []
    },
    {
      "cell_type": "code",
      "source": [
        "survey_df.Country.value_counts() > 250"
      ],
      "metadata": {
        "colab": {
          "base_uri": "https://localhost:8080/"
        },
        "id": "7opAOkFvr9st",
        "outputId": "d3bd3127-1415-4e25-ef3d-da327caa5bab"
      },
      "execution_count": null,
      "outputs": [
        {
          "output_type": "execute_result",
          "data": {
            "text/plain": [
              "United States           True\n",
              "India                   True\n",
              "United Kingdom          True\n",
              "Germany                 True\n",
              "Canada                  True\n",
              "                       ...  \n",
              "Nauru                  False\n",
              "Lesotho                False\n",
              "Saint Lucia            False\n",
              "Antigua and Barbuda    False\n",
              "Marshall Islands       False\n",
              "Name: Country, Length: 183, dtype: bool"
            ]
          },
          "metadata": {},
          "execution_count": 191
        }
      ]
    },
    {
      "cell_type": "code",
      "source": [
        "high_response_countries_df"
      ],
      "metadata": {
        "colab": {
          "base_uri": "https://localhost:8080/",
          "height": 551
        },
        "id": "0PukpyBdsavk",
        "outputId": "25ab2a37-93cc-4060-931b-552ee7f623d2"
      },
      "execution_count": null,
      "outputs": [
        {
          "output_type": "execute_result",
          "data": {
            "text/plain": [
              "               WorkWeekHrs\n",
              "Country                   \n",
              "Iran             44.337748\n",
              "Israel           43.915094\n",
              "China            42.150000\n",
              "United States    41.799858\n",
              "Greece           41.402724\n",
              "Viet Nam         41.391667\n",
              "South Africa     41.023460\n",
              "Turkey           40.982143\n",
              "Sri Lanka        40.612245\n",
              "New Zealand      40.457551\n",
              "Belgium          40.444444\n",
              "Canada           40.208837\n",
              "Hungary          40.194340\n",
              "India            40.099127\n",
              "Bangladesh       40.097458"
            ],
            "text/html": [
              "\n",
              "  <div id=\"df-e7377bba-5765-4a42-8992-70392506f87d\">\n",
              "    <div class=\"colab-df-container\">\n",
              "      <div>\n",
              "<style scoped>\n",
              "    .dataframe tbody tr th:only-of-type {\n",
              "        vertical-align: middle;\n",
              "    }\n",
              "\n",
              "    .dataframe tbody tr th {\n",
              "        vertical-align: top;\n",
              "    }\n",
              "\n",
              "    .dataframe thead th {\n",
              "        text-align: right;\n",
              "    }\n",
              "</style>\n",
              "<table border=\"1\" class=\"dataframe\">\n",
              "  <thead>\n",
              "    <tr style=\"text-align: right;\">\n",
              "      <th></th>\n",
              "      <th>WorkWeekHrs</th>\n",
              "    </tr>\n",
              "    <tr>\n",
              "      <th>Country</th>\n",
              "      <th></th>\n",
              "    </tr>\n",
              "  </thead>\n",
              "  <tbody>\n",
              "    <tr>\n",
              "      <th>Iran</th>\n",
              "      <td>44.337748</td>\n",
              "    </tr>\n",
              "    <tr>\n",
              "      <th>Israel</th>\n",
              "      <td>43.915094</td>\n",
              "    </tr>\n",
              "    <tr>\n",
              "      <th>China</th>\n",
              "      <td>42.150000</td>\n",
              "    </tr>\n",
              "    <tr>\n",
              "      <th>United States</th>\n",
              "      <td>41.799858</td>\n",
              "    </tr>\n",
              "    <tr>\n",
              "      <th>Greece</th>\n",
              "      <td>41.402724</td>\n",
              "    </tr>\n",
              "    <tr>\n",
              "      <th>Viet Nam</th>\n",
              "      <td>41.391667</td>\n",
              "    </tr>\n",
              "    <tr>\n",
              "      <th>South Africa</th>\n",
              "      <td>41.023460</td>\n",
              "    </tr>\n",
              "    <tr>\n",
              "      <th>Turkey</th>\n",
              "      <td>40.982143</td>\n",
              "    </tr>\n",
              "    <tr>\n",
              "      <th>Sri Lanka</th>\n",
              "      <td>40.612245</td>\n",
              "    </tr>\n",
              "    <tr>\n",
              "      <th>New Zealand</th>\n",
              "      <td>40.457551</td>\n",
              "    </tr>\n",
              "    <tr>\n",
              "      <th>Belgium</th>\n",
              "      <td>40.444444</td>\n",
              "    </tr>\n",
              "    <tr>\n",
              "      <th>Canada</th>\n",
              "      <td>40.208837</td>\n",
              "    </tr>\n",
              "    <tr>\n",
              "      <th>Hungary</th>\n",
              "      <td>40.194340</td>\n",
              "    </tr>\n",
              "    <tr>\n",
              "      <th>India</th>\n",
              "      <td>40.099127</td>\n",
              "    </tr>\n",
              "    <tr>\n",
              "      <th>Bangladesh</th>\n",
              "      <td>40.097458</td>\n",
              "    </tr>\n",
              "  </tbody>\n",
              "</table>\n",
              "</div>\n",
              "      <button class=\"colab-df-convert\" onclick=\"convertToInteractive('df-e7377bba-5765-4a42-8992-70392506f87d')\"\n",
              "              title=\"Convert this dataframe to an interactive table.\"\n",
              "              style=\"display:none;\">\n",
              "        \n",
              "  <svg xmlns=\"http://www.w3.org/2000/svg\" height=\"24px\"viewBox=\"0 0 24 24\"\n",
              "       width=\"24px\">\n",
              "    <path d=\"M0 0h24v24H0V0z\" fill=\"none\"/>\n",
              "    <path d=\"M18.56 5.44l.94 2.06.94-2.06 2.06-.94-2.06-.94-.94-2.06-.94 2.06-2.06.94zm-11 1L8.5 8.5l.94-2.06 2.06-.94-2.06-.94L8.5 2.5l-.94 2.06-2.06.94zm10 10l.94 2.06.94-2.06 2.06-.94-2.06-.94-.94-2.06-.94 2.06-2.06.94z\"/><path d=\"M17.41 7.96l-1.37-1.37c-.4-.4-.92-.59-1.43-.59-.52 0-1.04.2-1.43.59L10.3 9.45l-7.72 7.72c-.78.78-.78 2.05 0 2.83L4 21.41c.39.39.9.59 1.41.59.51 0 1.02-.2 1.41-.59l7.78-7.78 2.81-2.81c.8-.78.8-2.07 0-2.86zM5.41 20L4 18.59l7.72-7.72 1.47 1.35L5.41 20z\"/>\n",
              "  </svg>\n",
              "      </button>\n",
              "      \n",
              "  <style>\n",
              "    .colab-df-container {\n",
              "      display:flex;\n",
              "      flex-wrap:wrap;\n",
              "      gap: 12px;\n",
              "    }\n",
              "\n",
              "    .colab-df-convert {\n",
              "      background-color: #E8F0FE;\n",
              "      border: none;\n",
              "      border-radius: 50%;\n",
              "      cursor: pointer;\n",
              "      display: none;\n",
              "      fill: #1967D2;\n",
              "      height: 32px;\n",
              "      padding: 0 0 0 0;\n",
              "      width: 32px;\n",
              "    }\n",
              "\n",
              "    .colab-df-convert:hover {\n",
              "      background-color: #E2EBFA;\n",
              "      box-shadow: 0px 1px 2px rgba(60, 64, 67, 0.3), 0px 1px 3px 1px rgba(60, 64, 67, 0.15);\n",
              "      fill: #174EA6;\n",
              "    }\n",
              "\n",
              "    [theme=dark] .colab-df-convert {\n",
              "      background-color: #3B4455;\n",
              "      fill: #D2E3FC;\n",
              "    }\n",
              "\n",
              "    [theme=dark] .colab-df-convert:hover {\n",
              "      background-color: #434B5C;\n",
              "      box-shadow: 0px 1px 3px 1px rgba(0, 0, 0, 0.15);\n",
              "      filter: drop-shadow(0px 1px 2px rgba(0, 0, 0, 0.3));\n",
              "      fill: #FFFFFF;\n",
              "    }\n",
              "  </style>\n",
              "\n",
              "      <script>\n",
              "        const buttonEl =\n",
              "          document.querySelector('#df-e7377bba-5765-4a42-8992-70392506f87d button.colab-df-convert');\n",
              "        buttonEl.style.display =\n",
              "          google.colab.kernel.accessAllowed ? 'block' : 'none';\n",
              "\n",
              "        async function convertToInteractive(key) {\n",
              "          const element = document.querySelector('#df-e7377bba-5765-4a42-8992-70392506f87d');\n",
              "          const dataTable =\n",
              "            await google.colab.kernel.invokeFunction('convertToInteractive',\n",
              "                                                     [key], {});\n",
              "          if (!dataTable) return;\n",
              "\n",
              "          const docLinkHtml = 'Like what you see? Visit the ' +\n",
              "            '<a target=\"_blank\" href=https://colab.research.google.com/notebooks/data_table.ipynb>data table notebook</a>'\n",
              "            + ' to learn more about interactive tables.';\n",
              "          element.innerHTML = '';\n",
              "          dataTable['output_type'] = 'display_data';\n",
              "          await google.colab.output.renderOutput(dataTable, element);\n",
              "          const docLink = document.createElement('div');\n",
              "          docLink.innerHTML = docLinkHtml;\n",
              "          element.appendChild(docLink);\n",
              "        }\n",
              "      </script>\n",
              "    </div>\n",
              "  </div>\n",
              "  "
            ]
          },
          "metadata": {},
          "execution_count": 192
        }
      ]
    },
    {
      "cell_type": "markdown",
      "source": [
        "The Asian countries like Iran, China, and Israel have the highest working hours, followed by the United States. However, there isn't too much variation overall, and the average working hours seem to be around 40 hours per week.\n",
        "\n",
        "**Exercises:**\n",
        "\n",
        "* How do the average work hours compare across continents? You may find this list of [countries in each continent](https://hub.jovian.ml/wp-content/uploads/2020/09/countries.csv) useful.\n",
        "* Which role has the highest average number of hours worked per week? Which one has the lowest?\n",
        "* How do the hours worked compare between freelancers and developers working full-time?"
      ],
      "metadata": {
        "id": "aGL9KUqvs9MY"
      }
    },
    {
      "cell_type": "markdown",
      "source": [
        "#### Q: How important is it to start young to build a career in programming?\n",
        "\n",
        "Let's create a scatter plot of `Age` vs. `YearsCodePro` (i.e., years of coding experience) to answer this question."
      ],
      "metadata": {
        "id": "uioJUWxvtKZr"
      }
    },
    {
      "cell_type": "code",
      "source": [
        "schema.Hobbyist"
      ],
      "metadata": {
        "colab": {
          "base_uri": "https://localhost:8080/",
          "height": 35
        },
        "id": "JW0HHkoNsn_m",
        "outputId": "18594e11-1f71-43ce-b451-3b3cef164aac"
      },
      "execution_count": null,
      "outputs": [
        {
          "output_type": "execute_result",
          "data": {
            "text/plain": [
              "'Do you code as a hobby?'"
            ],
            "application/vnd.google.colaboratory.intrinsic+json": {
              "type": "string"
            }
          },
          "metadata": {},
          "execution_count": 193
        }
      ]
    },
    {
      "cell_type": "code",
      "source": [
        "sns.scatterplot('Age', 'YearsCodePro', hue= 'Hobbyist', data= survey_df)\n",
        "plt.xlabel(\"age\")\n",
        "plt.ylabel(\"Years of professional coding ecperences\")\n",
        "plt.show()"
      ],
      "metadata": {
        "colab": {
          "base_uri": "https://localhost:8080/",
          "height": 401
        },
        "id": "UD2CXk78tAwL",
        "outputId": "89ed5071-3053-4177-dd65-023a00065797"
      },
      "execution_count": null,
      "outputs": [
        {
          "output_type": "stream",
          "name": "stderr",
          "text": [
            "/usr/local/lib/python3.8/dist-packages/seaborn/_decorators.py:36: FutureWarning: Pass the following variables as keyword args: x, y. From version 0.12, the only valid positional argument will be `data`, and passing other arguments without an explicit keyword will result in an error or misinterpretation.\n",
            "  warnings.warn(\n"
          ]
        },
        {
          "output_type": "display_data",
          "data": {
            "text/plain": [
              "<Figure size 648x360 with 1 Axes>"
            ],
            "image/png": "[encoded data removed]"
          },
          "metadata": {
            "needs_background": "light"
          }
        }
      ]
    },
    {
      "cell_type": "markdown",
      "source": [
        "You can see points all over the graph, which indicates that you can **start programming professionally at any age**. Many people who have been coding for several decades professionally also seem to enjoy it as a hobby.\n",
        "\n",
        "We can also view the distribution of the `Age1stCode` column to see when the respondents tried programming for the first time."
      ],
      "metadata": {
        "id": "4GRKfX4jufNl"
      }
    },
    {
      "cell_type": "code",
      "source": [
        "plt.title(schema.Age1stCode)\n",
        "sns.distplot(survey_df.Age1stCode)\n",
        "plt.show()"
      ],
      "metadata": {
        "colab": {
          "base_uri": "https://localhost:8080/",
          "height": 417
        },
        "id": "Wb5OCvWdt-Az",
        "outputId": "ffda459c-1de8-4bc4-9d9c-eda7ff3c7d69"
      },
      "execution_count": null,
      "outputs": [
        {
          "output_type": "stream",
          "name": "stderr",
          "text": [
            "/usr/local/lib/python3.8/dist-packages/seaborn/distributions.py:2619: FutureWarning: `distplot` is a deprecated function and will be removed in a future version. Please adapt your code to use either `displot` (a figure-level function with similar flexibility) or `histplot` (an axes-level function for histograms).\n",
            "  warnings.warn(msg, FutureWarning)\n"
          ]
        },
        {
          "output_type": "display_data",
          "data": {
            "text/plain": [
              "<Figure size 648x360 with 1 Axes>"
            ],
            "image/png": "[encoded data removed]"
          },
          "metadata": {
            "needs_background": "light"
          }
        }
      ]
    },
    {
      "cell_type": "markdown",
      "source": [
        "As you might expect, most people seem to have had some exposure to programming before the age of 40. However, but there are people of all ages and walks of life learning to code.\n",
        "\n",
        "**Exercises**:\n",
        "\n",
        "* How does programming experience change opinions & preferences? Repeat the entire analysis while comparing the responses of people who have more than ten years of professional programming experience vs. those who don't. Do you see any interesting trends?\n",
        "* Compare the years of professional coding experience across different genders."
      ],
      "metadata": {
        "id": "MOcSHdJgvOY5"
      }
    },
    {
      "cell_type": "code",
      "source": [],
      "metadata": {
        "id": "Bhgob-_zu8fF"
      },
      "execution_count": null,
      "outputs": []
    },
    {
      "cell_type": "markdown",
      "source": [
        "## Inferences and Conclusions\n",
        "\n",
        "We've drawn many inferences from the survey. Here's a summary of a few of them:\n",
        "\n",
        "- Based on the survey respondents' demographics, we can infer that the survey is somewhat representative of the overall programming community. However, it has fewer responses from programmers in non-English-speaking countries and women & non-binary genders.\n",
        "\n",
        "- The programming community is not as diverse as it can be. Although things are improving, we should make more efforts to support & encourage underrepresented communities, whether in terms of age, country, race, gender, or otherwise.\n",
        "\n",
        "\n",
        "- Although most programmers hold a college degree, a reasonably large percentage did not have computer science as their college major. Hence, a computer science degree isn't compulsory for learning to code or building a career in programming.\n",
        "\n",
        "- A significant percentage of programmers either work part-time or as freelancers, which can be a great way to break into the field, especially when you're just getting started.\n",
        "\n",
        "- Javascript & HTML/CSS are the most used programming languages in 2020, closely followed by SQL & Python.\n",
        "\n",
        "- Python is the language most people are interested in learning - since it is an easy-to-learn general-purpose programming language well suited for various domains.\n",
        "\n",
        "- Rust and TypeScript are the most \"loved\" languages in 2020, both of which have small but fast-growing communities. Python is a close third, despite already being a widely used language.\n",
        "\n",
        "- Programmers worldwide seem to be working for around 40 hours a week on average, with slight variations by country.\n",
        "\n",
        "- You can learn and start programming professionally at any age. You're likely to have a long and fulfilling career if you also enjoy programming as a hobby."
      ],
      "metadata": {
        "id": "YtNTXRq8CTWL"
      }
    },
    {
      "cell_type": "markdown",
      "source": [
        "## Exercises\n",
        "\n",
        "There's a wealth of information to be discovered using the survey, and we've barely scratched the surface. Here are some ideas for further exploration:\n",
        "\n",
        "- Repeat the analysis for different age groups & genders, and compare the results\n",
        "- Pick a different set of columns (we chose 20 out of 65) to analyze other facets of the data\n",
        "- Prepare an analysis focusing on diversity - and identify areas where underrepresented communities are at par with the majority (e.g., education) and where they aren't (e.g., salaries)\n",
        "- Compare the results of this year's survey with the previous years and identify interesting trends"
      ],
      "metadata": {
        "id": "kv6EfnwwCUXZ"
      }
    },
    {
      "cell_type": "markdown",
      "source": [
        "## References and Future Work\n",
        "\n",
        "Check out the following resources to learn more about the dataset and tools used in this notebook:\n",
        "\n",
        "- Stack Overflow Developer Survey: https://insights.stackoverflow.com/survey\n",
        "- Pandas user guide: https://pandas.pydata.org/docs/user_guide/index.html\n",
        "- Matplotlib user guide: https://matplotlib.org/3.3.1/users/index.html\n",
        "- Seaborn user guide & tutorial: https://seaborn.pydata.org/tutorial.html\n",
        "- `opendatasets` Python library: https://github.com/JovianML/opendatasets\n",
        "\n",
        "As a next step, you can try out a project on another dataset of your choice: https://jovian.ml/aakashns/zerotopandas-course-project-starter ."
      ],
      "metadata": {
        "id": "kn-54mHzCZhE"
      }
    },
    {
      "cell_type": "code",
      "source": [],
      "metadata": {
        "id": "u0KicS2PCaJf"
      },
      "execution_count": null,
      "outputs": []
    }
  ]
}